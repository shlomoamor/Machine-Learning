{
  "cells": [
    {
      "metadata": {
        "nbgrader": {
          "grade": false,
          "grade_id": "cell-6bd0516e7cb654f5",
          "locked": true,
          "schema_version": 1,
          "solution": false
        }
      },
      "cell_type": "markdown",
      "source": "# Exercise 2: Decision Trees\n\nIn this assignment you will implement a Decision Tree algorithm as learned in class.\n\n## Read the following instructions carefully:\n\n1. This jupyter notebook contains all the step by step instructions needed for this exercise.\n2. Write **efficient vectorized** code whenever possible. Some calculations in this exercise take several minutes when implemented efficiently, and might take much longer otherwise. Unnecessary loops will result in point deduction.\n3. You are responsible for the correctness of your code and should add as many tests as you see fit. Tests will not be graded nor checked.\n4. Write your functions in this notebook only. **Do not create Python modules and import them**.\n5. You are allowed to use functions and methods from the [Python Standard Library](https://docs.python.org/3/library/) and [numpy](https://www.numpy.org/devdocs/reference/) only. **Do not import anything else.**\n6. Your code must run without errors. During the environment setup, you were given a specific version of `numpy` to install (1.15.4). Changes of the configuration we provided are at your own risk. Any code that cannot run will not be graded.\n7. Write your own code. Cheating will not be tolerated.\n8. Submission includes this notebook only with the exercise number and your ID as the filename. For example: `hw1_123456789_987654321.ipynb` if you submitted in pairs and `hw1_123456789.ipynb` if you submitted the exercise alone.\n9. Answers to qualitative questions should be written in **markdown** cells (with $\\LaTeX$ support). Answers that will be written in commented code blocks will not be checked.\n\n## In this exercise you will perform the following:\n1. Practice OOP in python.\n2. Implement two impurity measures: Gini and Entropy.\n3. Construct a decision tree algorithm.\n4. Prune the tree to achieve better results.\n5. Visualize your results."
    },
    {
      "metadata": {},
      "cell_type": "markdown",
      "source": "# I have read and understood the instructions: *** 000803254 and 000802668 ***"
    },
    {
      "metadata": {
        "nbgrader": {
          "grade": false,
          "grade_id": "cell-ed9fe7b1026e33cb",
          "locked": true,
          "schema_version": 1,
          "solution": false
        },
        "trusted": true
      },
      "cell_type": "code",
      "source": "import numpy as np\nimport pandas as pd\nimport matplotlib.pyplot as plt\n\n# make matplotlib figures appear inline in the notebook\n%matplotlib inline\nplt.rcParams['figure.figsize'] = (10.0, 8.0) # set default size of plots\nplt.rcParams['image.interpolation'] = 'nearest'\nplt.rcParams['image.cmap'] = 'gray'\n\n# Make the notebook automatically reload external python modules\n%load_ext autoreload\n%autoreload 2\n# Ignore warnings\nimport warnings\nwarnings.filterwarnings('ignore')",
      "execution_count": 32,
      "outputs": [
        {
          "output_type": "stream",
          "text": "The autoreload extension is already loaded. To reload it, use:\n  %reload_ext autoreload\n",
          "name": "stdout"
        }
      ]
    },
    {
      "metadata": {
        "nbgrader": {
          "grade": false,
          "grade_id": "cell-c6ac605270c2b091",
          "locked": true,
          "schema_version": 1,
          "solution": false
        }
      },
      "cell_type": "markdown",
      "source": "## Warmup - OOP in python\n\nOur desicion tree will be implemented using a dedicated python class. Python classes are very similar to classes in Java.\n\n\nYou can use the following [site](https://jeffknupp.com/blog/2014/06/18/improve-your-python-python-classes-and-object-oriented-programming/) to learn about classes in python."
    },
    {
      "metadata": {
        "trusted": false
      },
      "cell_type": "code",
      "source": "class Node(object):\n    def __init__(self, data):\n        self.data = data\n        self.children = []\n\n    def add_child(self, node):\n        self.children.append(node)",
      "execution_count": 3,
      "outputs": []
    },
    {
      "metadata": {
        "trusted": false
      },
      "cell_type": "code",
      "source": "n = Node(5)\np = Node(6)\nq = Node(7)\nn.add_child(p)\nn.add_child(q)\nn.children",
      "execution_count": 4,
      "outputs": [
        {
          "data": {
            "text/plain": "[<__main__.Node at 0x7f9e6a1ea550>, <__main__.Node at 0x7f9e6a1eac18>]"
          },
          "execution_count": 4,
          "metadata": {},
          "output_type": "execute_result"
        }
      ]
    },
    {
      "metadata": {
        "nbgrader": {
          "grade": false,
          "grade_id": "cell-2f1ceb251c649b62",
          "locked": true,
          "schema_version": 1,
          "solution": false
        }
      },
      "cell_type": "markdown",
      "source": "## Data preprocessing\n\nFor the following exercise, we will use a dataset containing mushroom data `agaricus-lepiota.csv`. \n\nThis data set includes descriptions of hypothetical samples corresponding to 23 species of gilled mushrooms in the Agaricus and Lepiota Family. Each species is identified as definitely edible, definitely poisonous, or of unknown edibility and not recommended. This latter class was combined with the poisonous\none (=there are only two classes **edible** and **poisonous**). \n    \nThe dataset contains 8124 observations with 22 features:\n1. cap-shape: bell=b,conical=c,convex=x,flat=f,knobbed=k,sunken=s\n2. cap-surface: fibrous=f,grooves=g,scaly=y,smooth=s\n3. cap-color: brown=n,buff=b,cinnamon=c,gray=g,green=r,pink=p,purple=u,red=e,white=w,yellow=y\n4. bruises: bruises=t,no=f\n5. odor: almond=a,anise=l,creosote=c,fishy=y,foul=f, musty=m,none=n,pungent=p,spicy=s\n6. gill-attachment: attached=a,descending=d,free=f,notched=n\n7. gill-spacing: close=c,crowded=w,distant=d\n8. gill-size: broad=b,narrow=n\n9. gill-color: black=k,brown=n,buff=b,chocolate=h,gray=g,green=r,orange=o,pink=p,purple=u,red=e,white=w,yellow=y\n10. stalk-shape: enlarging=e,tapering=t\n11. stalk-root: bulbous=b,club=c,cup=u,equal=e,rhizomorphs=z,rooted=r\n12. stalk-surface-above-ring: fibrous=f,scaly=y,silky=k,smooth=s\n13. stalk-surface-below-ring: fibrous=f,scaly=y,silky=k,smooth=s\n14. stalk-color-above-ring: brown=n,buff=b,cinnamon=c,gray=g,orange=o,pink=p,red=e,white=w,yellow=y\n15. stalk-color-below-ring: brown=n,buff=b,cinnamon=c,gray=g,orange=o,pink=p,red=e,white=w,yellow=y\n16. veil-type: partial=p,universal=u\n17. veil-color: brown=n,orange=o,white=w,yellow=y\n18. ring-number: none=n,one=o,two=t\n19. ring-type: cobwebby=c,evanescent=e,flaring=f,large=l,none=n,pendant=p,sheathing=s,zone=z\n20. spore-print-color: black=k,brown=n,buff=b,chocolate=h,green=r,orange=o,purple=u,white=w,yellow=y\n21. population: abundant=a,clustered=c,numerous=n,scattered=s,several=v,solitary=y\n22. habitat: grasses=g,leaves=l,meadows=m,paths=p,urban=u,waste=w,woods=d\n\nFirst, we will read and explore the data using pandas and the `.read_csv` method. Pandas is an open source library providing high-performance, easy-to-use data structures and data analysis tools for the Python programming language."
    },
    {
      "metadata": {
        "nbgrader": {
          "grade": false,
          "grade_id": "cell-d79cb4542926ad3f",
          "locked": true,
          "schema_version": 1,
          "solution": false
        },
        "trusted": true
      },
      "cell_type": "code",
      "source": "# load dataset\ndata = pd.read_csv('agaricus-lepiota.csv')",
      "execution_count": 3,
      "outputs": []
    },
    {
      "metadata": {
        "scrolled": false,
        "trusted": true
      },
      "cell_type": "code",
      "source": "# Show the first few lines of the data\ndata.head()",
      "execution_count": 4,
      "outputs": [
        {
          "output_type": "execute_result",
          "execution_count": 4,
          "data": {
            "text/html": "<div>\n<style scoped>\n    .dataframe tbody tr th:only-of-type {\n        vertical-align: middle;\n    }\n\n    .dataframe tbody tr th {\n        vertical-align: top;\n    }\n\n    .dataframe thead th {\n        text-align: right;\n    }\n</style>\n<table border=\"1\" class=\"dataframe\">\n  <thead>\n    <tr style=\"text-align: right;\">\n      <th></th>\n      <th>cap-shape</th>\n      <th>cap-surface</th>\n      <th>cap-color</th>\n      <th>bruises</th>\n      <th>odor</th>\n      <th>gill-attachment</th>\n      <th>gill-spacing</th>\n      <th>gill-size</th>\n      <th>gill-color</th>\n      <th>stalk-shape</th>\n      <th>...</th>\n      <th>stalk-color-above-ring</th>\n      <th>stalk-color-below-ring</th>\n      <th>veil-type</th>\n      <th>veil-color</th>\n      <th>ring-number</th>\n      <th>ring-type</th>\n      <th>spore-print-color</th>\n      <th>population</th>\n      <th>habitat</th>\n      <th>class</th>\n    </tr>\n  </thead>\n  <tbody>\n    <tr>\n      <th>0</th>\n      <td>x</td>\n      <td>s</td>\n      <td>n</td>\n      <td>t</td>\n      <td>p</td>\n      <td>f</td>\n      <td>c</td>\n      <td>n</td>\n      <td>k</td>\n      <td>e</td>\n      <td>...</td>\n      <td>w</td>\n      <td>w</td>\n      <td>p</td>\n      <td>w</td>\n      <td>o</td>\n      <td>p</td>\n      <td>k</td>\n      <td>s</td>\n      <td>u</td>\n      <td>p</td>\n    </tr>\n    <tr>\n      <th>1</th>\n      <td>x</td>\n      <td>s</td>\n      <td>y</td>\n      <td>t</td>\n      <td>a</td>\n      <td>f</td>\n      <td>c</td>\n      <td>b</td>\n      <td>k</td>\n      <td>e</td>\n      <td>...</td>\n      <td>w</td>\n      <td>w</td>\n      <td>p</td>\n      <td>w</td>\n      <td>o</td>\n      <td>p</td>\n      <td>n</td>\n      <td>n</td>\n      <td>g</td>\n      <td>e</td>\n    </tr>\n    <tr>\n      <th>2</th>\n      <td>b</td>\n      <td>s</td>\n      <td>w</td>\n      <td>t</td>\n      <td>l</td>\n      <td>f</td>\n      <td>c</td>\n      <td>b</td>\n      <td>n</td>\n      <td>e</td>\n      <td>...</td>\n      <td>w</td>\n      <td>w</td>\n      <td>p</td>\n      <td>w</td>\n      <td>o</td>\n      <td>p</td>\n      <td>n</td>\n      <td>n</td>\n      <td>m</td>\n      <td>e</td>\n    </tr>\n    <tr>\n      <th>3</th>\n      <td>x</td>\n      <td>y</td>\n      <td>w</td>\n      <td>t</td>\n      <td>p</td>\n      <td>f</td>\n      <td>c</td>\n      <td>n</td>\n      <td>n</td>\n      <td>e</td>\n      <td>...</td>\n      <td>w</td>\n      <td>w</td>\n      <td>p</td>\n      <td>w</td>\n      <td>o</td>\n      <td>p</td>\n      <td>k</td>\n      <td>s</td>\n      <td>u</td>\n      <td>p</td>\n    </tr>\n    <tr>\n      <th>4</th>\n      <td>x</td>\n      <td>s</td>\n      <td>g</td>\n      <td>f</td>\n      <td>n</td>\n      <td>f</td>\n      <td>w</td>\n      <td>b</td>\n      <td>k</td>\n      <td>t</td>\n      <td>...</td>\n      <td>w</td>\n      <td>w</td>\n      <td>p</td>\n      <td>w</td>\n      <td>o</td>\n      <td>e</td>\n      <td>n</td>\n      <td>a</td>\n      <td>g</td>\n      <td>e</td>\n    </tr>\n  </tbody>\n</table>\n<p>5 rows × 22 columns</p>\n</div>",
            "text/plain": "  cap-shape cap-surface cap-color bruises odor gill-attachment gill-spacing  \\\n0         x           s         n       t    p               f            c   \n1         x           s         y       t    a               f            c   \n2         b           s         w       t    l               f            c   \n3         x           y         w       t    p               f            c   \n4         x           s         g       f    n               f            w   \n\n  gill-size gill-color stalk-shape  ...  stalk-color-above-ring  \\\n0         n          k           e  ...                       w   \n1         b          k           e  ...                       w   \n2         b          n           e  ...                       w   \n3         n          n           e  ...                       w   \n4         b          k           t  ...                       w   \n\n  stalk-color-below-ring veil-type veil-color ring-number ring-type  \\\n0                      w         p          w           o         p   \n1                      w         p          w           o         p   \n2                      w         p          w           o         p   \n3                      w         p          w           o         p   \n4                      w         p          w           o         e   \n\n  spore-print-color population habitat class  \n0                 k          s       u     p  \n1                 n          n       g     e  \n2                 n          n       m     e  \n3                 k          s       u     p  \n4                 n          a       g     e  \n\n[5 rows x 22 columns]"
          },
          "metadata": {}
        }
      ]
    },
    {
      "metadata": {},
      "cell_type": "markdown",
      "source": "One of the advantages of the Decision Tree algorithm is that almost no preprocessing is required. However, finding missing values is always required."
    },
    {
      "metadata": {
        "trusted": true
      },
      "cell_type": "code",
      "source": "#############################################################################\n# TODO: Find the column\\s with missing values and remove them from the data.#\n#############################################################################\ndata = data.dropna(axis=1)\n#############################################################################\n#                             END OF YOUR CODE                              #\n#############################################################################",
      "execution_count": 8,
      "outputs": []
    },
    {
      "metadata": {},
      "cell_type": "markdown",
      "source": "We will split the dataset to `Training` and `Test` sets"
    },
    {
      "metadata": {
        "trusted": true
      },
      "cell_type": "code",
      "source": "from sklearn.model_selection import train_test_split\n# Making sure the last column will hold the labels\nX, y = data.drop('class', axis=1), data['class']\nX = np.column_stack([X,y])\n# split dataset using random_state to get the same split each time\nX_train, X_test = train_test_split(X, random_state=99)\n\nprint(\"Training dataset shape: \", X_train.shape)\nprint(\"Testing dataset shape: \", X_test.shape)",
      "execution_count": 9,
      "outputs": [
        {
          "output_type": "stream",
          "text": "Training dataset shape:  (6093, 22)\nTesting dataset shape:  (2031, 22)\n",
          "name": "stdout"
        }
      ]
    },
    {
      "metadata": {
        "trusted": true
      },
      "cell_type": "code",
      "source": "y.shape",
      "execution_count": 10,
      "outputs": [
        {
          "output_type": "execute_result",
          "execution_count": 10,
          "data": {
            "text/plain": "(8124,)"
          },
          "metadata": {}
        }
      ]
    },
    {
      "metadata": {
        "nbgrader": {
          "grade": false,
          "grade_id": "cell-fd7b0191f3f1e897",
          "locked": true,
          "schema_version": 1,
          "solution": false
        }
      },
      "cell_type": "markdown",
      "source": "## Impurity Measures\n\n(5 points each - 10 points total)\n\nImpurity is a measure of how often a randomly chosen element from the set would be incorrectly labeled if it was randomly labeled according to the distribution of labels in the subset. Implement the functions `calc_gini` and `calc_entropy`. You are encouraged to test your implementation."
    },
    {
      "metadata": {
        "trusted": true
      },
      "cell_type": "code",
      "source": "def calc_gini(data):\n    \"\"\"\n    Calculate gini impurity measure of a dataset.\n \n    Input:\n    - data: any dataset where the last column holds the labels.\n \n    Returns the gini impurity.    \n    \"\"\"\n    gini = 0.0\n    ###########################################################################\n    # TODO: Implement the function.                                           #\n    ###########################################################################\n    # Using np.unique to count how many of the labels are poissonous or edible\n    labels, counts = np.unique(data[:,-1], return_counts = True)\n    total_count = np.sum(counts)\n    # Ensuring that edibale + poissonous = total amount of samples\n    if total_count != len(data):\n        print(\"Error counting. There must be a missing value.\")\n        return\n    gini = 1 - np.sum(np.square(counts/total_count))\n    ###########################################################################\n    #                             END OF YOUR CODE                            #\n    ###########################################################################\n    return gini",
      "execution_count": 11,
      "outputs": []
    },
    {
      "metadata": {
        "trusted": true
      },
      "cell_type": "code",
      "source": "def calc_entropy(data):\n    \"\"\"\n    Calculate the entropy of a dataset.\n\n    Input:\n    - data: any dataset where the last column holds the labels.\n\n    Returns the entropy of the dataset.    \n    \"\"\"\n    entropy = 0.0\n    ###########################################################################\n    # TODO: Implement the function.                                           #\n    ###########################################################################\n    labels, counts = np.unique(data[:,-1], return_counts = True)\n    total_count = np.sum(counts)\n    entropy -= np.sum((counts/total_count)*np.log2(counts/total_count))\n    ###########################################################################\n    #                             END OF YOUR CODE                            #\n    ###########################################################################\n    return entropy",
      "execution_count": 12,
      "outputs": []
    },
    {
      "metadata": {
        "scrolled": true,
        "trusted": true
      },
      "cell_type": "code",
      "source": "##### Your Tests Here #####\ncalc_gini(X), calc_entropy(X)",
      "execution_count": 13,
      "outputs": [
        {
          "output_type": "execute_result",
          "execution_count": 13,
          "data": {
            "text/plain": "(0.4995636322379775, 0.9993703627906085)"
          },
          "metadata": {}
        }
      ]
    },
    {
      "metadata": {},
      "cell_type": "markdown",
      "source": "## Goodness of Split\n\n(10 Points)\n\nGiven a feature the Goodnees of Split measures the reduction in the impurity if we split the data according to the feature.\n$$\n\\Delta\\varphi(S, A) = \\varphi(S) - \\sum_{v\\in Values(A)} \\frac{|S_v|}{|S|}\\varphi(S_v)\n$$\n\nIn our implementation the goodness_of_split function will return either the Goodness of Split or the Gain Ratio as learned in class. You'll control the return value with the `gain_ratio` parameter. If this parameter will set to False (the default value) it will return the regular Goodness of Split. If it will set to True it will return the Gain Ratio.\n$$\nGainRatio(S,A)=\\frac{InformationGain(S,A)}{SplitInformation(S,A)}\n$$\nWhere:\n$$\nInformationGain(S,A)=Goodness\\ of\\ Split\\ calculated\\ with\\ Entropy\\ as\\ the\\ Impurity\\ function \\\\\nSplitInformation(S,A)=- \\sum_{a\\in A} \\frac{|S_a|}{|S|}\\log\\frac{|S_a|}{|S|}\n$$\nNOTE: you can add more parameters to the function and you can also add more returning variables (The given parameters and the given returning variable should not be touch)."
    },
    {
      "metadata": {
        "trusted": true
      },
      "cell_type": "code",
      "source": "def goodness_of_split(data, feature, impurity_func, gain_ratio=False):\n    \"\"\"\n    Calculate the goodness of split of a dataset given a feature and impurity function.\n\n    Input:\n    - data: any dataset where the last column holds the labels.\n    - feature: the feature index.\n    - impurity func: a function that calculates the impurity.\n    - gain_ratio: goodness of split or gain ratio flag.\n\n    Returns the goodness of split (or the Gain Ration).  \n    \"\"\"\n    ###########################################################################\n    # TODO: Implement the function.                                           #\n    ###########################################################################\n    goodness = 0\n            \n    size_of_feature = data[:,feature].size\n    col_feature = data[:,feature]\n    values, counts = np.unique(col_feature, return_counts = True)\n    total_counts = np.sum(counts)    \n    impurity_of_vals = 0\n    \n    # Then we must use the Entropy as the impurity function and set goodness to be the gain ratio\n    if gain_ratio:\n        split_info = 0\n        for i in range(values.size):\n            s_v = data[col_feature == values[i]]\n            impurity_of_vals += ((counts[i]/total_counts) *calc_entropy(s_v))\n            # We must remember to update split_info \n            split_info += ((counts[i]/total_counts)*np.log2((counts[i]/total_counts)))\n\n        goodness = (calc_entropy(data) - impurity_of_vals)/(-1*split_info)\n    \n    # We calcuate the regular goodness of split using whichever impurity function that was passed\n    else:\n        for i in range(values.size):\n            s_v = data[col_feature == values[i]]\n            impurity_of_vals += ((counts[i]/total_counts)*impurity_func(s_v))\n        goodness = impurity_func(data) - impurity_of_vals  \n    ###########################################################################\n    #                             END OF YOUR CODE                            #\n    ###########################################################################\n    return goodness",
      "execution_count": 14,
      "outputs": []
    },
    {
      "metadata": {},
      "cell_type": "markdown",
      "source": "## Building a Decision Tree\n\n(30 points)\n\nUse a Python class to construct the decision tree. Your class should support the following functionality:\n\n1. Initiating a node for a decision tree. You will need to use several class methods and class attributes and you are free to use them as you see fit. We recommend that every node will hold the feature and value used for the split and its children.\n2. Your code should support both Gini and Entropy as impurity measures. \n3. The provided data includes categorical data. In this exercise, when splitting a node create the number of children needed according to the attribute unique values.\n\nComplete the class `DecisionNode`. The structure of this class is entirely up to you. \n\nComplete the function `build_tree`. This function should get the training dataset and the impurity as inputs, initiate a root for the decision tree and construct the tree according to the procedure you learned in class."
    },
    {
      "metadata": {
        "trusted": true
      },
      "cell_type": "code",
      "source": "class DecisionNode:\n\n    # This class will hold everything you require to construct a decision tree.\n    # The structure of this class is up to you. However, you need to support basic \n    # functionality as described above. It is highly recommended that you \n    # first read and understand the entire exercise before diving into this class.\n    \n    def __init__(self, feature, value, data, parent=None, depth=0, used_features_in_path=[]):\n        self.value = value\n        self.data = data\n        self.feature = -1\n        # Remembering the features we've uses to get to this point\n        self.used_features_in_path = used_features_in_path \n        self.depth = depth\n        self.tree_depth = -1\n        self.pred = None\n        self.children = []\n        # Will be useful to know when printing\n        self.parent_feature = None\n        self.isRoot = False\n        self.isLeaf = False\n        if parent is not None:\n            self.parent_feature = parent.feature\n            self.values = parent.values\n        \n    def add_child(self, node):\n        self.children.append(node)\n    \n    # Checks which features we have available to split by.\n    def get_available_features(self):\n        cols = self.data.shape[1]\n        all_features = list(range(cols - 1))\n        # Get all the remaining features\n        remaining_features =[]\n        for feature in all_features:\n            # add to remaining features\n            if feature not in self.used_features_in_path:\n                remaining_features.append(feature)\n        return remaining_features\n    \n    # Checks out of the available features which is the best to split by\n    def get_best_feature(self, impurity, gain_ratio, chi):\n        if self.feature != -1:\n            return -1\n        cols = self.data.shape[1]\n        features_indexes = list(range(cols - 1))\n        # Get all the remaining features\n        remaining_features = self.get_available_features()\n        best_gain = -1\n        best_feature = -1\n        # We now iterate through all remaining features to find best one\n        for feature in remaining_features:\n            cur_chi = self.calc_chi_square_test(feature)\n            # If we have an actual chi value \n            if chi != 1:\n                # Calculate chi value and check table\n                cur_chi = self.calc_chi_square_test(feature)\n                if cur_chi <= chi_table[len(self.values) - 1][chi]:\n                    # Skip the current iteration of the loop\n                    continue\n            # Calc the gain for this feature and if applicable update best feature\n            gain = goodness_of_split(self.data, feature, impurity, gain_ratio)\n            if gain > best_gain:\n                best_gain = gain\n                best_feature = feature\n                \n        if best_feature != -1:\n            self.feature = best_feature\n        return best_feature\n    \n            \n    def calc_chi_square_test(self, feature):\n        # defining P(Y=0)\n        values, counts = np.unique(self.data[:,-1], return_counts = True)\n        # 0 = edible and 1 = poisonous\n        prob_y0 = counts[0]/(counts[0]+counts[1])\n        prob_y1 = counts[1]/(counts[0]+counts[1])\n\n        values, counts = np.unique(self.data[:,feature], return_counts = True)\n        chi_sum = 0\n        for i in range(len(values)):\n            # D_f is simple how many instances of a given value for this feature\n            d_f = counts[i]\n            # We set a new data to be only the data with the feature = value[i]\n            new_data = self.data[self.data[:,feature] == values[i]]\n            # Count how many ediable or poissonous\n            values_i, counts_i = np.unique(new_data[:,-1], return_counts = True)\n            # If we have both ediable and poissonous\n            E_0 = d_f*prob_y0\n            E_1 = d_f*prob_y1\n            if len(counts_i)== 2:\n                p_f = counts_i[0]\n                n_f = counts_i[1]\n            else:\n                if values[0] == 'p':\n                    p_f = 0\n                    n_f = counts_i[0]\n                else:\n                    p_f = counts_i[0]\n                    n_f = 0\n            chi_sum += (((p_f-E_0)**2)/E_0 )+(((n_f-E_1)**2)/E_1)\n        return chi_sum\n\n    def create_children(self):\n        if self.feature == -1:\n            return [];\n        \n        values = np.unique(self.data[:,self.feature])\n        used_features_in_path = self.used_features_in_path.copy()\n        # Updated the used features\n        used_features_in_path.append(self.feature)\n\n        for feature_value in values:\n            child_data = self.data[self.data[:, self.feature] == feature_value]\n            childNode = DecisionNode(None, feature_value, child_data, self,(self.depth + 1), used_features_in_path)\n            self.add_child(childNode)\n        return self.children\n        \n    def set_prediction(self):\n        if self.data.shape[0] > 0:\n            values, count = np.unique(self.data[:,-1], return_counts=True)\n            # If there is only one value (pure)\n            if len(values) == 1:\n                self.pred = values[0]\n            else:\n                if count[0] > count[1]:\n                    self.pred = values[0]\n                else:\n                    self.pred = values[1]\n                \n",
      "execution_count": 15,
      "outputs": []
    },
    {
      "metadata": {
        "trusted": true
      },
      "cell_type": "code",
      "source": "import queue\n\ndef build_tree(data, impurity, gain_ratio=False, chi=1, max_depth=1000):\n    \"\"\"\n    Build a tree using the given impurity measure and training dataset. \n    You are required to fully grow the tree until all leaves are pure. \n\n    Input:\n    - data: the training dataset.\n    - impurity: the chosen impurity measure. Notice that you can send a function\n                as an argument in python.\n    - gain_ratio: goodness of split or gain ratio flag\n\n    Output: the root node of the tree.\n    \"\"\"\n    root = None\n    ###########################################################################\n    # TODO: Implement the function.                                           #\n    ###########################################################################\n    \n    # We initialize an empty queue and depth = 0\n    tree_queue = queue.Queue()\n    depth = 0\n    \n    # Caculate probabilities and counts of classifier\n    class_values, class_count = np.unique(data[:,-1], return_counts=True)\n    \n    # Set the root node with all the data and feature=NIL, value=\"root\"\n    rootNode = DecisionNode(None, \"ROOT\", data)\n    rootNode.isRoot = True\n    rootNode.values = class_values\n    tree_queue.put(rootNode)\n    \n    while not tree_queue.empty():\n        currNode = tree_queue.get()\n        # Check impurity for perfect classification\n        impurity_level = impurity(currNode.data)\n        # Stopping condition where we don't add anything to the queue\n        if impurity_level == 0 or currNode.depth == max_depth:\n            currNode.set_prediction()\n            depth = max(depth, currNode.depth)\n            currNode.isLeaf = True\n        # We still have some impurities andd we haven't reached the max depth\n        else:\n            currNode.get_best_feature(impurity, gain_ratio, chi)\n            if currNode.feature == -1:\n                currNode.set_prediction()\n                depth = max(depth, currNode.depth)\n                currNode.isLeaf = True\n            else:\n                childrenList = currNode.create_children()\n                # For every child in list we need to add it to the queue\n                for child in childrenList:\n                    tree_queue.put(child)\n    # Musn't forget to edit the roots final depth\n    rootNode.tree_depth = depth\n    \n    ###########################################################################\n    #                             END OF YOUR CODE                            #\n    ###########################################################################\n    return rootNode",
      "execution_count": 16,
      "outputs": []
    },
    {
      "metadata": {
        "trusted": true
      },
      "cell_type": "code",
      "source": "# python support passing a function as arguments to another function.\ntree_gini = build_tree(data=X_train, impurity=calc_gini) # gini and goodness of split\ntree_entropy = build_tree(data=X_train, impurity=calc_entropy) # entropy and goodness of split\ntree_entropy_gain_ratio = build_tree(data=X_train, impurity=calc_entropy, gain_ratio=True) # entropy and gain ratio",
      "execution_count": 17,
      "outputs": []
    },
    {
      "metadata": {},
      "cell_type": "markdown",
      "source": "## Tree evaluation\n\n(10 points) \n\nComplete the functions `predict` and `calc_accuracy`. "
    },
    {
      "metadata": {
        "trusted": true
      },
      "cell_type": "code",
      "source": "def predict(node, instance):\n    \"\"\"\n    Predict a given instance using the decision tree\n \n    Input:\n    - root: the root of the decision tree.\n    - instance: an row vector from the dataset. Note that the last element \n                of this vector is the label of the instance.\n \n    Output: the prediction of the instance.\n    \"\"\"\n    pred = None\n    ###########################################################################\n    # TODO: Implement the function.                                           #\n    ###########################################################################\n    curr_node = node\n    while(curr_node.feature != -1):\n        feature = curr_node.feature\n        instance_feature_value = instance[feature]\n        for child in curr_node.children:\n            if child.value == instance_feature_value:\n                curr_node = child \n                break\n        if curr_node != child:\n            # Calc the most probable option\n            if curr_node.pred is None:\n                curr_node.set_prediction()\n            break\n    node = curr_node \n    ###########################################################################\n    #                             END OF YOUR CODE                            #\n    ###########################################################################\n    return node.pred",
      "execution_count": 18,
      "outputs": []
    },
    {
      "metadata": {
        "trusted": true
      },
      "cell_type": "code",
      "source": "def calc_accuracy(node, dataset):\n    \"\"\"\n    Predict a given dataset using the decision tree\n \n    Input:\n    - node: a node in the decision tree.\n    - dataset: the dataset on which the accuracy is evaluated\n \n    Output: the accuracy of the decision tree on the given dataset (%).\n    \"\"\"\n    accuracy = 0\n    count_of_correct_pred = 0\n    ###########################################################################\n    # TODO: Implement the function.                                           #\n    ###########################################################################\n    \n    for row in dataset:\n        actual_prediction = row[-1]\n        decsion_prediction = predict(node, row)\n        if(decsion_prediction == actual_prediction):\n            count_of_correct_pred+=1\n        else:\n            continue\n    accuracy = (count_of_correct_pred/len(dataset))*100\n    ###########################################################################\n    #                             END OF YOUR CODE                            #\n    ###########################################################################\n    return accuracy ",
      "execution_count": 19,
      "outputs": []
    },
    {
      "metadata": {},
      "cell_type": "markdown",
      "source": "\nAfter building the three trees using the training set, you should calculate the accuracy on the test set. For each tree print the training and test accuracy. Select the tree that gave you the best test accuracy. For the rest of the exercise, use that tree (when you asked to build another tree use the same impurity function and same gain_ratio flag). "
    },
    {
      "metadata": {
        "trusted": true
      },
      "cell_type": "code",
      "source": "#### Your code here ####\ntest_gini = calc_accuracy(tree_gini, X_test)\ntest_entropy = calc_accuracy(tree_entropy, X_test)\ntest_entropy_gain_ratio  = calc_accuracy(tree_entropy_gain_ratio, X_test)\nmax_Accuracy = max(test_gini, test_entropy, test_entropy_gain_ratio)\ngain_ratio = False\n\n# Setting the flags for future use\nif max_Accuracy == test_entropy_gain_ratio:\n    impurity_func = calc_entropy\n    gain_ratio = True\nelif max_Accuracy == test_entropy:\n    impurity_func = calc_entropy\nelse:\n    impurity_func = calc_gini",
      "execution_count": 20,
      "outputs": []
    },
    {
      "metadata": {
        "trusted": true
      },
      "cell_type": "code",
      "source": "print(max_Accuracy)",
      "execution_count": 21,
      "outputs": [
        {
          "output_type": "stream",
          "text": "79.02511078286558\n",
          "name": "stdout"
        }
      ]
    },
    {
      "metadata": {},
      "cell_type": "markdown",
      "source": "## Depth pruning\n\n(15 points)\n\nConsider the following max_depth values: [1, 2, 3, 4, 5, 6, 7, 8, 9, 10]. For each value, construct a tree and prune it according to the max_depth value = don't let the tree to grow beyond this depth. Next, calculate the training and testing accuracy.<br>\nOn a single plot, draw the training and testing accuracy as a function of the max_depth. Mark the best result on the graph with red circle."
    },
    {
      "metadata": {
        "trusted": true
      },
      "cell_type": "code",
      "source": "#### Your code here ####\ndepth_values = [1,2,3,4,5,6,7,8,9,10]\nmax_accuracy = 0\nmax_accuracy_depth = 0\ntraining_accuracy = []\ntesting_accuracy = []\n\nfor depth in depth_values:\n    tree_entropy_gain_ratio = build_tree(data=X_train, impurity=impurity_func, gain_ratio=gain_ratio, chi=1, max_depth=depth)\n    accuracy_train = calc_accuracy(tree_entropy_gain_ratio, X_train)\n    accuracy_test = calc_accuracy(tree_entropy_gain_ratio, X_test)\n    training_accuracy.append(accuracy_train)\n    testing_accuracy.append(accuracy_test)\n\n    if(accuracy_test > max_accuracy):\n        max_accuracy = accuracy_test\n        max_accuracy_depth = depth",
      "execution_count": 22,
      "outputs": []
    },
    {
      "metadata": {
        "trusted": true
      },
      "cell_type": "code",
      "source": "# Plotting the depth data\nmax_accuracy_index = testing_accuracy.index(max_accuracy)\nplt.figure(1)\nplt.plot(depth_values, training_accuracy, color=\"blue\", label=\"Training Accuracy\")\nplt.plot(depth_values, testing_accuracy , color=\"green\", label=\"Testing Accuracy\")\nplt.plot(max_accuracy_depth, max_accuracy, 'o', mfc='none', color=\"red\")\nplt.legend()\nplt.show()",
      "execution_count": 23,
      "outputs": [
        {
          "output_type": "display_data",
          "data": {
            "image/png": "[encoded data removed]",
            "text/plain": "<Figure size 432x288 with 1 Axes>"
          },
          "metadata": {
            "needs_background": "light"
          }
        }
      ]
    },
    {
      "metadata": {},
      "cell_type": "markdown",
      "source": "## Chi square pre-pruning\n\n(15 points)\n\nConsider the following p-value cut-off values: [1 (no pruning), 0.5, 0.25, 0.1, 0.05, 0.0001 (max pruning)]. For each value, construct a tree and prune it according to the cut-off value. Next, calculate the training and testing accuracy. <br>\nOn a single plot, draw the training and testing accuracy as a function of the tuple (p-value, tree depth). Mark the best result on the graph with red circle."
    },
    {
      "metadata": {
        "trusted": true
      },
      "cell_type": "code",
      "source": "### Chi square table values ###\n# The first key is the degree of freedom \n# The second key is the p-value cut-off\n# The values are the chi-statistic that you need to use in the pruning\nchi_table = {1: {0.5 : 0.45,\n                 0.25 : 1.32,\n                 0.1 : 2.71,\n                 0.05 : 3.84,\n                 0.0001 : 100000},\n             2: {0.5 : 1.39,\n                 0.25 : 2.77,\n                 0.1 : 4.60,\n                 0.05 : 5.99,\n                 0.0001 : 100000},\n             3: {0.5 : 2.37,\n                 0.25 : 4.11,\n                 0.1 : 6.25,\n                 0.05 : 7.82,\n                 0.0001 : 100000},\n             4: {0.5 : 3.36,\n                 0.25 : 5.38,\n                 0.1 : 7.78,\n                 0.05 : 9.49,\n                 0.0001 : 100000},\n             5: {0.5 : 4.35,\n                 0.25 : 6.63,\n                 0.1 : 9.24,\n                 0.05 : 11.07,\n                 0.0001 : 100000},\n             6: {0.5 : 5.35,\n                 0.25 : 7.84,\n                 0.1 : 10.64,\n                 0.05 : 12.59,\n                 0.0001 : 100000},\n             7: {0.5 : 6.35,\n                 0.25 : 9.04,\n                 0.1 : 12.01,\n                 0.05 : 14.07,\n                 0.0001 : 100000},\n             8: {0.5 : 7.34,\n                 0.25 : 10.22,\n                 0.1 : 13.36,\n                 0.05 : 15.51,\n                 0.0001 : 100000},\n             9: {0.5 : 8.34,\n                 0.25 : 11.39,\n                 0.1 : 14.68,\n                 0.05 : 16.92,\n                 0.0001 : 100000},\n             10: {0.5 : 9.34,\n                  0.25 : 12.55,\n                  0.1 : 15.99,\n                  0.05 : 18.31,\n                  0.0001 : 100000},\n             11: {0.5 : 10.34,\n                  0.25 : 13.7,\n                  0.1 : 17.27,\n                  0.05 : 19.68,\n                  0.0001 : 100000}}",
      "execution_count": 24,
      "outputs": []
    },
    {
      "metadata": {
        "trusted": true
      },
      "cell_type": "code",
      "source": "#### Your code here ####\nchi_p_values = [1, 0.5, 0.25, 0.1, 0.05, 0.0001]\nmax_accuracy = 0\nmax_accuracy_chi_val = 0\nmax_accuracy_chi_depth = 0\ntraining_accuracy = []\ntesting_accuracy = []\nres = []\nfor chi_val in chi_p_values:\n    print(\"Testing for chi value of:\", chi_val)\n    \n    tree_entropy_gain_ratio = build_tree(data=X_train, impurity=impurity_func, gain_ratio=gain_ratio, chi=chi_val)\n    \n    accuracy_train = calc_accuracy(tree_entropy_gain_ratio, X_train)\n    accuracy_test = calc_accuracy(tree_entropy_gain_ratio, X_test)\n    \n    training_accuracy.append(accuracy_train)\n    testing_accuracy.append(accuracy_test)\n    \n    res.append(str((chi_val, tree_entropy_gain_ratio.tree_depth)))\n    \n    if(accuracy_test > max_accuracy):\n        max_accuracy = accuracy_test\n        max_accuracy_chi_val = chi_val\n        max_accuracy_chi_depth = tree_entropy_gain_ratio.tree_depth\nres.reverse()\ntraining_accuracy.reverse()\ntesting_accuracy.reverse()",
      "execution_count": 25,
      "outputs": [
        {
          "output_type": "stream",
          "text": "Testing for chi value of: 1\nTesting for chi value of: 0.5\nTesting for chi value of: 0.25\nTesting for chi value of: 0.1\nTesting for chi value of: 0.05\nTesting for chi value of: 0.0001\n",
          "name": "stdout"
        }
      ]
    },
    {
      "metadata": {
        "trusted": true
      },
      "cell_type": "code",
      "source": "# Plotting the results\nmax_chi_index = testing_accuracy.index(max_accuracy)\nplt.figure(1)\nplt.plot(res, training_accuracy, color=\"blue\", label=\"Training Accuracy\")\nplt.plot(res, testing_accuracy , color=\"green\", label=\"Testing Accuracy\")\nplt.plot(str((max_accuracy_chi_val,max_accuracy_chi_depth)), max_accuracy, 'o', mfc='none', color=\"red\")\nplt.legend()\nplt.show()\n",
      "execution_count": 26,
      "outputs": [
        {
          "output_type": "display_data",
          "data": {
            "image/png": "[encoded data removed]",
            "text/plain": "<Figure size 432x288 with 1 Axes>"
          },
          "metadata": {
            "needs_background": "light"
          }
        }
      ]
    },
    {
      "metadata": {},
      "cell_type": "markdown",
      "source": "Build the best 2 trees:\n1. tree_max_depth - the best tree according to max_depth pruning\n1. tree_chi - the best tree according to chi square pruning"
    },
    {
      "metadata": {
        "trusted": true
      },
      "cell_type": "code",
      "source": "#### Your code here ####\ntree_max_depth = build_tree(data=X_train, impurity=impurity_func, gain_ratio=gain_ratio, max_depth=max_accuracy_depth)\ntree_chi = build_tree(data=X_train, impurity=impurity_func, gain_ratio=gain_ratio, chi=max_accuracy_chi_val)",
      "execution_count": 27,
      "outputs": []
    },
    {
      "metadata": {},
      "cell_type": "markdown",
      "source": "## Number of Nodes\n\n(5 points) \n\nOf the two trees above we will choose the one with fewer nodes.\n\nComplete the function counts_nodes and print the number of nodes in each tree"
    },
    {
      "metadata": {
        "trusted": true
      },
      "cell_type": "code",
      "source": "def count_nodes(node):\n    \"\"\"\n    Count the number of node in a given tree\n \n    Input:\n    - node: a node in the decision tree.\n \n    Output: the number of node in the tree.\n    \"\"\"\n#     if node.isLeaf:\n#         return count\n    ###########################################################################\n    # TODO: Implement the function.                                           #\n    ###########################################################################\n    count = 1\n    for c in node.children:\n        count += count_nodes(c)\n    return count\n        \n    ###########################################################################\n    #                             END OF YOUR CODE                            #\n    ###########################################################################\n    ",
      "execution_count": 28,
      "outputs": []
    },
    {
      "metadata": {
        "trusted": true
      },
      "cell_type": "code",
      "source": "# Printing the amount of nodes\nnode_num_depth = count_nodes(tree_max_depth)\nnode_num_chi = count_nodes(tree_chi)\nprint(\"The number of nodes in the Max depth tree: \", node_num_depth, \"having the Max depth value of: \",max_accuracy_depth )\nprint(\"The number of nodes in the Max chi value tree: \", node_num_chi,\"having the Max chi value of: \",max_accuracy_chi_val)\n\nmin_tree = None\nif node_num_depth < node_num_chi:\n    min_tree = tree_max_depth\n    print(\"\\nThe min tree found was: Max_depth\")\nelse:\n    min_tree = tree_chi\n    print(\"\\nThe min tree found was: Chi Value\")\n    ",
      "execution_count": 29,
      "outputs": [
        {
          "output_type": "stream",
          "text": "The number of nodes in the Max depth tree:  205 having the Max depth value of:  4\nThe number of nodes in the Max chi value tree:  193 having the Max chi value of:  0.05\n\nThe min tree found was: Chi Value\n",
          "name": "stdout"
        }
      ]
    },
    {
      "metadata": {},
      "cell_type": "markdown",
      "source": "## Print the tree\n\n(5 points)\n\nComplete the function `print_tree` and execute it on your chosen tree. Your code should do print:\n```\n[ROOT, feature=X0],\n  [X0=a, feature=X2]\n    [X2=c, leaf]: [{1.0: 10}]\n    [X2=d, leaf]: [{0.0: 10}]\n  [X0=y, feature=X5], \n       [X5=a, leaf]: [{1.0: 5}]\n       [X5=s, leaf]: [{0.0: 10}]\n  [X0=e, leaf]: [{0.0: 25, 1.0: 50}]\n```\nIn each brackets:\n* The first argument is the parent feature with the value that led to current node\n* The second argument is the selected feature of the current node\n* If the current node is a leaf, you need to print also the labels and their counts"
    },
    {
      "metadata": {
        "trusted": true
      },
      "cell_type": "code",
      "source": "# you can change the function signeture\n# def print_tree(node, depth=0, parent_feature='ROOT', feature_val='ROOT'):\ndef print_tree(node,i=0):    \n    '''\n    prints the tree according to the example above\n\n    Input:\n    - node: a node in the decision tree\n\n    This function has no return value\n    '''\n\n    ###########################################################################\n    # TODO: Implement the function.                                           #\n    ###########################################################################\n    dataCols = data.columns\n   \n    if(node.children ==[]):\n        print(\"  {}[{}={}, leaf]: [{{{}: {}}}]\".format(('  '*i),dataCols[node.parent_feature],node.value,node.data[0,-1], len(node.data)))\n    else:\n        \n        i = i+1\n        if(node.isRoot):\n            print(\"[ROOT, feature={}]\".format(dataCols[node.feature]))\n        else:\n            print(\"{}[{}= {}, feature={}],\".format(('  '*i),dataCols[node.parent_feature],node.value, dataCols[node.feature]))\n        for j in range(len(node.children)):\n            print_tree(node.children[j], i)\n       \n    \n    if((node.children == [])):\n        return\n    ###########################################################################\n    #                             END OF YOUR CODE                            #\n    ###########################################################################",
      "execution_count": 30,
      "outputs": []
    },
    {
      "metadata": {
        "trusted": true
      },
      "cell_type": "code",
      "source": "print_tree(min_tree)",
      "execution_count": 31,
      "outputs": [
        {
          "output_type": "stream",
          "text": "[ROOT, feature=odor]\n    [odor=a, leaf]: [{e: 304}]\n    [odor=c, leaf]: [{p: 147}]\n    [odor= f, feature=stalk-surface-above-ring],\n      [stalk-surface-above-ring= f, feature=cap-color],\n        [cap-color=b, leaf]: [{p: 38}]\n        [cap-color=g, leaf]: [{p: 31}]\n        [cap-color= w, feature=gill-color],\n          [gill-color=h, leaf]: [{p: 14}]\n          [gill-color= p, feature=cap-shape],\n            [cap-shape=f, leaf]: [{p: 4}]\n            [cap-shape= x, feature=stalk-surface-below-ring],\n              [stalk-surface-below-ring=f, leaf]: [{p: 3}]\n              [stalk-surface-below-ring=s, leaf]: [{p: 2}]\n          [gill-color=w, leaf]: [{p: 13}]\n      [stalk-surface-above-ring= k, feature=stalk-color-above-ring],\n        [stalk-color-above-ring=b, leaf]: [{p: 318}]\n        [stalk-color-above-ring=n, leaf]: [{p: 313}]\n        [stalk-color-above-ring=p, leaf]: [{p: 442}]\n        [stalk-color-above-ring=w, leaf]: [{e: 98}]\n      [stalk-surface-above-ring=s, leaf]: [{p: 332}]\n    [odor= l, feature=cap-surface],\n      [cap-surface=f, leaf]: [{e: 20}]\n      [cap-surface=s, leaf]: [{e: 110}]\n      [cap-surface=y, leaf]: [{e: 169}]\n    [odor= m, feature=cap-shape],\n      [cap-shape= f, feature=gill-attachment],\n        [gill-attachment=a, leaf]: [{p: 5}]\n        [gill-attachment= f, feature=cap-color],\n          [cap-color=c, leaf]: [{e: 1}]\n          [cap-color=e, leaf]: [{p: 2}]\n          [cap-color=n, leaf]: [{p: 1}]\n      [cap-shape= k, feature=gill-color],\n        [gill-color= w, feature=cap-color],\n          [cap-color=c, leaf]: [{p: 2}]\n          [cap-color=e, leaf]: [{p: 2}]\n          [cap-color=n, leaf]: [{p: 1}]\n        [gill-color=y, leaf]: [{p: 6}]\n      [cap-shape=x, leaf]: [{p: 7}]\n    [odor= n, feature=gill-size],\n      [gill-size= b, feature=spore-print-color],\n        [spore-print-color=b, leaf]: [{e: 36}]\n        [spore-print-color= k, feature=gill-color],\n          [gill-color=h, leaf]: [{e: 71}]\n          [gill-color=k, leaf]: [{e: 69}]\n          [gill-color= n, feature=stalk-surface-below-ring],\n            [stalk-surface-below-ring=f, leaf]: [{e: 37}]\n            [stalk-surface-below-ring= s, feature=stalk-color-below-ring],\n              [stalk-color-below-ring= g, feature=cap-color],\n                [cap-color=e, leaf]: [{p: 18}]\n                [cap-color=g, leaf]: [{e: 21}]\n                [cap-color=n, leaf]: [{p: 18}]\n              [stalk-color-below-ring=p, leaf]: [{e: 54}]\n              [stalk-color-below-ring=w, leaf]: [{p: 93}]\n          [gill-color=p, leaf]: [{e: 245}]\n          [gill-color=u, leaf]: [{e: 150}]\n          [gill-color=w, leaf]: [{e: 160}]\n        [spore-print-color= n, feature=gill-color],\n          [gill-color=h, leaf]: [{e: 76}]\n          [gill-color=k, leaf]: [{e: 76}]\n          [gill-color= n, feature=population],\n            [population=a, leaf]: [{e: 38}]\n            [population=c, leaf]: [{e: 5}]\n            [population=s, leaf]: [{p: 39}]\n            [population=v, leaf]: [{e: 85}]\n            [population=y, leaf]: [{e: 84}]\n          [gill-color=o, leaf]: [{e: 12}]\n          [gill-color= p, feature=cap-color],\n            [cap-color= e, feature=stalk-color-above-ring],\n              [stalk-color-above-ring=g, leaf]: [{e: 17}]\n              [stalk-color-above-ring=p, leaf]: [{e: 17}]\n              [stalk-color-above-ring=w, leaf]: [{e: 15}]\n            [cap-color= g, feature=cap-surface],\n              [cap-surface=f, leaf]: [{e: 42}]\n              [cap-surface=s, leaf]: [{e: 10}]\n              [cap-surface= y, feature=stalk-color-below-ring],\n                [stalk-color-below-ring=g, leaf]: [{e: 10}]\n                [stalk-color-below-ring=p, leaf]: [{p: 8}]\n                [stalk-color-below-ring=w, leaf]: [{e: 9}]\n            [cap-color=n, leaf]: [{e: 80}]\n            [cap-color=w, leaf]: [{p: 25}]\n          [gill-color=u, leaf]: [{e: 159}]\n          [gill-color= w, feature=stalk-color-above-ring],\n            [stalk-color-above-ring= g, feature=cap-shape],\n              [cap-shape=f, leaf]: [{p: 28}]\n              [cap-shape=x, leaf]: [{e: 28}]\n            [stalk-color-above-ring=p, leaf]: [{e: 57}]\n            [stalk-color-above-ring= w, feature=stalk-color-below-ring],\n              [stalk-color-below-ring=g, leaf]: [{e: 19}]\n              [stalk-color-below-ring=p, leaf]: [{e: 15}]\n              [stalk-color-below-ring=w, leaf]: [{e: 19}]\n          [gill-color=y, leaf]: [{e: 14}]\n        [spore-print-color= o, feature=population],\n          [population= c, feature=cap-shape],\n            [cap-shape=b, leaf]: [{e: 4}]\n            [cap-shape=f, leaf]: [{p: 5}]\n            [cap-shape=k, leaf]: [{e: 4}]\n            [cap-shape= x, feature=veil-color],\n              [veil-color=n, leaf]: [{e: 1}]\n              [veil-color=o, leaf]: [{p: 2}]\n          [population=v, leaf]: [{e: 16}]\n        [spore-print-color= r, feature=gill-color],\n          [gill-color= g, feature=cap-surface],\n            [cap-surface= s, feature=cap-shape],\n              [cap-shape=b, leaf]: [{p: 4}]\n              [cap-shape=f, leaf]: [{p: 4}]\n            [cap-surface=y, leaf]: [{p: 10}]\n          [gill-color= r, feature=cap-color],\n            [cap-color= b, feature=cap-shape],\n              [cap-shape=b, leaf]: [{p: 4}]\n              [cap-shape=f, leaf]: [{e: 2}]\n            [cap-color= p, feature=cap-shape],\n              [cap-shape=b, leaf]: [{e: 3}]\n              [cap-shape=f, leaf]: [{p: 3}]\n            [cap-color=w, leaf]: [{p: 7}]\n          [gill-color=w, leaf]: [{p: 15}]\n        [spore-print-color= w, feature=gill-color],\n          [gill-color= e, feature=stalk-color-below-ring],\n            [stalk-color-below-ring= e, feature=cap-shape],\n              [cap-shape=f, leaf]: [{e: 11}]\n              [cap-shape=k, leaf]: [{e: 12}]\n              [cap-shape=x, leaf]: [{e: 13}]\n            [stalk-color-below-ring=w, leaf]: [{e: 35}]\n          [gill-color=g, leaf]: [{e: 74}]\n          [gill-color= p, feature=cap-surface],\n            [cap-surface=f, leaf]: [{e: 34}]\n            [cap-surface=s, leaf]: [{e: 38}]\n          [gill-color= w, feature=cap-color],\n            [cap-color=b, leaf]: [{e: 19}]\n            [cap-color=c, leaf]: [{e: 7}]\n            [cap-color=e, leaf]: [{e: 13}]\n            [cap-color=g, leaf]: [{e: 44}]\n            [cap-color=n, leaf]: [{e: 39}]\n            [cap-color=p, leaf]: [{e: 24}]\n            [cap-color=w, leaf]: [{e: 39}]\n        [spore-print-color= y, feature=cap-shape],\n          [cap-shape=b, leaf]: [{p: 7}]\n          [cap-shape=f, leaf]: [{e: 12}]\n          [cap-shape=k, leaf]: [{e: 8}]\n          [cap-shape=x, leaf]: [{e: 11}]\n      [gill-size= n, feature=bruises],\n        [bruises= f, feature=stalk-surface-above-ring],\n          [stalk-surface-above-ring=f, leaf]: [{e: 20}]\n          [stalk-surface-above-ring=k, leaf]: [{p: 25}]\n          [stalk-surface-above-ring= s, feature=cap-color],\n            [cap-color=c, leaf]: [{e: 10}]\n            [cap-color=g, leaf]: [{e: 37}]\n            [cap-color=n, leaf]: [{e: 46}]\n            [cap-color=r, leaf]: [{e: 13}]\n            [cap-color=u, leaf]: [{e: 14}]\n            [cap-color=w, leaf]: [{e: 13}]\n          [stalk-surface-above-ring=y, leaf]: [{p: 7}]\n        [bruises=t, leaf]: [{p: 8}]\n    [odor= p, feature=cap-shape],\n      [cap-shape=f, leaf]: [{p: 93}]\n      [cap-shape= x, feature=cap-surface],\n        [cap-surface= s, feature=cap-color],\n          [cap-color=n, leaf]: [{p: 23}]\n          [cap-color= w, feature=gill-color],\n            [gill-color=k, leaf]: [{p: 5}]\n            [gill-color= n, feature=population],\n              [population=s, leaf]: [{p: 2}]\n              [population=v, leaf]: [{p: 3}]\n            [gill-color=p, leaf]: [{p: 7}]\n            [gill-color=w, leaf]: [{p: 5}]\n        [cap-surface=y, leaf]: [{p: 45}]\n    [odor= s, feature=stalk-color-below-ring],\n      [stalk-color-below-ring=p, leaf]: [{p: 202}]\n      [stalk-color-below-ring= w, feature=stalk-color-above-ring],\n        [stalk-color-above-ring=p, leaf]: [{e: 106}]\n        [stalk-color-above-ring= w, feature=cap-shape],\n          [cap-shape=f, leaf]: [{p: 38}]\n          [cap-shape= k, feature=habitat],\n            [habitat= d, feature=stalk-surface-above-ring],\n              [stalk-surface-above-ring= k, feature=cap-color],\n                [cap-color=e, leaf]: [{e: 4}]\n                [cap-color=n, leaf]: [{p: 2}]\n              [stalk-surface-above-ring=s, leaf]: [{p: 7}]\n            [habitat=l, leaf]: [{p: 7}]\n            [habitat= p, feature=cap-surface],\n              [cap-surface=s, leaf]: [{p: 7}]\n              [cap-surface= y, feature=cap-color],\n                [cap-color=e, leaf]: [{p: 3}]\n                [cap-color=n, leaf]: [{p: 3}]\n          [cap-shape= x, feature=habitat],\n            [habitat= d, feature=cap-color],\n              [cap-color=e, leaf]: [{p: 7}]\n              [cap-color= n, feature=stalk-surface-above-ring],\n                [stalk-surface-above-ring=k, leaf]: [{p: 3}]\n                [stalk-surface-above-ring=s, leaf]: [{e: 2}]\n            [habitat=l, leaf]: [{e: 13}]\n            [habitat=p, leaf]: [{p: 14}]\n    [odor=y, leaf]: [{e: 431}]\n",
          "name": "stdout"
        }
      ]
    },
    {
      "metadata": {
        "trusted": false
      },
      "cell_type": "code",
      "source": "# End of assingment",
      "execution_count": null,
      "outputs": []
    }
  ],
  "metadata": {
    "celltoolbar": "Create Assignment",
    "kernelspec": {
      "name": "python36",
      "display_name": "Python 3.6",
      "language": "python"
    },
    "language_info": {
      "mimetype": "text/x-python",
      "nbconvert_exporter": "python",
      "name": "python",
      "pygments_lexer": "ipython3",
      "version": "3.6.6",
      "file_extension": ".py",
      "codemirror_mode": {
        "version": 3,
        "name": "ipython"
      }
    }
  },
  "nbformat": 4,
  "nbformat_minor": 2
}