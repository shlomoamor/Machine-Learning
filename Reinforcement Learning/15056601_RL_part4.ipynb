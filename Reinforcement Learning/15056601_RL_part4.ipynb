{
 "cells": [
  {
   "cell_type": "markdown",
   "metadata": {
    "id": "pYs6LMEbNqoQ"
   },
   "source": [
    "# RL coursework, part IV (30 pts in total)\n",
    "\n",
    "---\n",
    "\n",
    "**SN:** 15056601\n",
    "\n",
    "---\n",
    "\n",
    "**Due date:** *22nd March, 2022,*\n",
    "\n",
    "---\n",
    "\n",
    "Standard UCL policy (including grade deductions) automatically applies for any late submissions.\n",
    "\n",
    "## How to submit\n",
    "\n",
    "When you have completed the exercises and everything has finished running, click on 'File' in the menu-bar and then 'Download .ipynb'. This file must be submitted to Moodle named as **`<studentnumber>_RL_part4.ipynb`** before the deadline above, where `<studentnumber>` is your student number."
   ]
  },
  {
   "cell_type": "markdown",
   "metadata": {
    "id": "rNuohp44N00i"
   },
   "source": [
    "### Objectives\n",
    "\n",
    "#### Q.1: You will implement a number of off-policy multi-step return estimates, and answer questions about their accuracy.\n",
    "\n",
    "#### Q.2: You will be looking at other, TD-like, updates to learn the value function. You will be asked to investigate different properties of these: e.g. convergence properties, variance of updates. This is akin to a typical analysis one would undertaken when proposing a new update rule to learn value functions.\n"
   ]
  },
  {
   "cell_type": "markdown",
   "metadata": {
    "id": "Z1p0fpbxQLyn"
   },
   "source": [
    "## Imports"
   ]
  },
  {
   "cell_type": "code",
   "execution_count": 5,
   "metadata": {
    "id": "Ps5OnkPmDbMX"
   },
   "outputs": [],
   "source": [
    "import matplotlib.pyplot as plt\n",
    "import numpy as np\n",
    "\n",
    "np.set_printoptions(precision=3, suppress=1)\n",
    "plt.style.use('seaborn-notebook')"
   ]
  },
  {
   "cell_type": "markdown",
   "metadata": {
    "id": "thswfgXU_p05"
   },
   "source": [
    "## Q1 [11 points total]\n",
    "For many concrete algorithms, we need to combine multi-step updates with off-policy corrections.  The multi-step updates are necessary for efficient learning, while the off-policy corrections are necessary to learn about multiple things at once, or to correct for a distribution mismatch (e.g., when trying to perform a policy-gradient update from logged data).\n",
    "\n",
    "In this section, you will implement various different returns with off-policy corrections.  The next cell has two examples *without* corrections.  These examples compute equivalent returns, but compute those returns in different ways.  These are provided as reference implementations to help you.\n",
    "\n",
    "Note that the implementations both allow for immediate bootstrapping on the current state value. This is unconventional (most literature only allows the first bootstrapping to happen after the first step), but we will use this convention in all implementations below for consistency. "
   ]
  },
  {
   "cell_type": "code",
   "execution_count": 6,
   "metadata": {
    "id": "KHNH35SZYHBu"
   },
   "outputs": [],
   "source": [
    "#@title On-policy return computations\n",
    "\n",
    "def on_policy(observations, actions, pi, mu, rewards, discounts,\n",
    "              trace_parameter, v_fn):\n",
    "  \"\"\"Compute on-policy return recursively.\"\"\"\n",
    "  del mu  # The policy probabilities are ignored by this function\n",
    "  del pi\n",
    "  T = len(rewards)  # number of transitions\n",
    "  r = rewards\n",
    "  d = discounts\n",
    "  l = trace_parameter\n",
    "  v = np.array([v_fn(o) for o in observations])\n",
    "  G = np.zeros((T,))\n",
    "  # recurse backwards to calculate returns\n",
    "  for t in reversed(range(T)):\n",
    "    # There are T+1 observations, but only T rewards, and the indexing here\n",
    "    # for the rewards is off by one compared to the indexing in the slides\n",
    "    # and in Sutton & Barto.  In other words, r[t] == R_{t+1}.\n",
    "    if t == T - 1:\n",
    "      G[t] = r[t] + d[t]*v[t + 1]\n",
    "    else:\n",
    "      G[t] = r[t] + d[t]*((1 - l)*v[t + 1] + l*G[t + 1])\n",
    "  v = v[:-1]  # Remove (T+1)th observation before calculating the returns\n",
    "  return (1 - l)*v + l*G\n",
    "\n",
    "def on_policy_error_recursion(observations, actions, pi, mu, rewards, discounts,\n",
    "                              trace_parameter, v_fn):\n",
    "  del pi  # The target policy probabilities are ignored by this function\n",
    "  del mu  # The behaviour policy probabilities are ignored by this function\n",
    "  T = len(rewards)  # number of transitions\n",
    "  r = rewards\n",
    "  d = discounts\n",
    "  l = trace_parameter\n",
    "  v = np.array([v_fn(o) for o in observations])\n",
    "  errors = np.zeros((T,))\n",
    "    \n",
    "  error = 0.\n",
    "  # recurse backwards to calculate errors\n",
    "  for t in reversed(range(T)):\n",
    "    error = r[t] + d[t]*v[t + 1] - v[t] + d[t]*l*error\n",
    "    errors[t] = error\n",
    "  v = v[:-1]  # Remove (T+1)th observation before calculating the returns\n",
    "  return v + l*errors"
   ]
  },
  {
   "cell_type": "markdown",
   "metadata": {
    "id": "UNXhobrYHeiy"
   },
   "source": [
    "### Q 1.1 [5 points]\n",
    "Implement the return functions below and run the cells below that."
   ]
  },
  {
   "cell_type": "code",
   "execution_count": 7,
   "metadata": {
    "id": "cPzHHrmn5Tm7"
   },
   "outputs": [],
   "source": [
    "def full_importance_sampling(observations, actions, pi, mu, rewards, discounts, trace_parameter, v_fn):\n",
    "    \"\"\"\n",
    "    Compute off-policy return with full importance-sampling corrections, so that\n",
    "    the return G_t is corrected with the full importance-sampling correction of\n",
    "    the rest of the trajectory.\n",
    "    \"\"\"\n",
    "    \n",
    "    # Compute the value return for each observation\n",
    "    value = np.array([])\n",
    "    for obs in observations:\n",
    "        value = np.append(value, v_fn(obs))\n",
    "    \n",
    "    # Define the average return \n",
    "    G = np.zeros((len(rewards),))\n",
    "    \n",
    "    # Define the trace\n",
    "    t = np.zeros((len(rewards),))\n",
    "   \n",
    "    # Iterating backwards for the full importance-sampling corrections\n",
    "    for step in reversed(range(len(rewards))):\n",
    "        # If we are the last step\n",
    "        if step == len(rewards)-1:\n",
    "            # Update the return\n",
    "            G[step] = rewards[step] + discounts[step]*value[step+1]\n",
    "            # Update the trace\n",
    "            t[step] = pi[step]/mu[step]\n",
    "        else:\n",
    "            G[step] = rewards[step] + discounts[step]*((1-trace_parameter)*value[step+1] + trace_parameter*G[step+1])    \n",
    "            # Update the trace\n",
    "            t[step] = (pi[step]/mu[step])*t[step+1]\n",
    "    G *= t\n",
    "    off_policy_ret = (1-trace_parameter)*value[:-1] + trace_parameter*G\n",
    "    return off_policy_ret\n",
    "\n",
    "\n",
    "def per_decision(observations, actions, pi, mu, rewards, discounts, trace_parameter, v_fn):\n",
    "    \"\"\"\n",
    "    Compute off-policy return with per-decision importance-sampling corrections.\n",
    "    \"\"\"\n",
    "    # Compute the value return for each observation\n",
    "    value = np.array([])\n",
    "    for obs in observations:\n",
    "        value = np.append(value, v_fn(obs))\n",
    "    \n",
    "    # Define the average return \n",
    "    G = np.zeros((len(rewards),))\n",
    "    \n",
    "    for step in reversed(range(len(rewards))):\n",
    "        if step == len(rewards) - 1:\n",
    "            G[step] = pi[step] / mu[step] * (rewards[step] + discounts[step]*value[step + 1])\n",
    "        else:\n",
    "            G[step] =  pi[step] / mu[step] * (rewards[step] + discounts[step]*((1 - trace_parameter)*value[step + 1] + trace_parameter*G[step + 1]))\n",
    "    \n",
    "    off_policy_ret = (1 - trace_parameter)*value[:-1] + trace_parameter*G\n",
    "    return off_policy_ret\n",
    "\n",
    "def control_variates(observations, actions, pi, mu, rewards, discounts, trace_parameter, v_fn):\n",
    "    \"\"\"\n",
    "    Compute off-policy return with \n",
    "    1. per-decision importance-sampling corrections, and\n",
    "    2. control variates\n",
    "    \"\"\"\n",
    "    # Compute the value return for each observation\n",
    "    value = np.array([])\n",
    "    for obs in observations:\n",
    "        value = np.append(value, v_fn(obs))\n",
    "    \n",
    "    # Define the average return \n",
    "    G = np.zeros((len(rewards),))\n",
    "    \n",
    "    for step in reversed(range(len(rewards))):\n",
    "        if step == len(rewards) - 1:\n",
    "            G[step] = (pi[step] / mu[step] ) * (rewards[step] + discounts[step]*value[step + 1]) + (1 - (pi[step] / mu[step] )) * value[step]\n",
    "         \n",
    "        else: \n",
    "            G[step] =  (pi[step] / mu[step] ) * (rewards[step] + discounts[step]*((1 - trace_parameter)*value[step + 1] + trace_parameter*G[step + 1])) + (1 - (pi[step] / mu[step] )) * value[step]\n",
    "    off_policy_ret = (1 - trace_parameter)*value[:-1]   + trace_parameter*G\n",
    "    return off_policy_ret\n",
    "\n",
    "def adaptive_bootstrapping(observations, actions, pi, mu, rewards, discounts, trace_parameter, v_fn):\n",
    "    \"\"\"\n",
    "    Compute off-policy return with \n",
    "    1. per-decision importance-sampling corrections, and\n",
    "    2. control variates, and\n",
    "    3. adaptive bootstrapping.\n",
    "\n",
    "    Implement the adaptive bootstrapping with an *additional* trace parameter\n",
    "    lambda, such that lambda_t = lambda * min(1, 1/rho_t).\n",
    "    \"\"\"\n",
    "    # Compute the value return for each observation\n",
    "    value = np.array([])\n",
    "    for obs in observations:\n",
    "        value = np.append(value, v_fn(obs))\n",
    "    \n",
    "    # Define the average return \n",
    "    G = np.zeros((len(rewards),))\n",
    "    \n",
    "    lambs = np.zeros((len(rewards),))\n",
    "    for step in reversed(range(len(rewards))):\n",
    "        lambda_t = trace_parameter * min(1, 1/(pi[step] / mu[step] ))  \n",
    "        lambs[step] = lambda_t\n",
    "        if step == len(rewards) - 1:\n",
    "            G[step] = (pi[step] / mu[step] ) * (rewards[step] + discounts[step] * value[step+1] - value[step])\n",
    "        else:\n",
    "            G[step] =  (pi[step] / mu[step] ) * lambda_t * (rewards[step] + discounts[step] * value[step+1] - value[step] + discounts[step]*G[step+1])\n",
    "    \n",
    "    off_policy_ret = value[:-1] + lambs*G\n",
    "    return off_policy_ret\n"
   ]
  },
  {
   "cell_type": "code",
   "execution_count": 8,
   "metadata": {
    "id": "7EEHYK89ANIA"
   },
   "outputs": [],
   "source": [
    "#@title (Run, don't modify) Functions to generate experience, compute values\n",
    "MU_RIGHT = 0.5\n",
    "PI_RIGHT = 0.9\n",
    "NUMBER_OF_STEPS = 5\n",
    "DISCOUNT = 0.99\n",
    "\n",
    "def generate_experience():\n",
    "  r\"\"\"Generate experience trajectories from a tabular tree MDP.\n",
    "\n",
    "  This function will start in state 0, and will then generate actions according\n",
    "  to a uniformly random behaviour policy.  When A_t == 0, the action will be to\n",
    "  the left, with A_t==1, it will be to the right.  The states are nunmbered as\n",
    "  depicted below:\n",
    "          0\n",
    "         / \\\n",
    "        1   2\n",
    "       / \\ / \\\n",
    "      3   4   5\n",
    "         ...\n",
    "  \n",
    "  Args:\n",
    "      number_of_steps: the number of total steps.\n",
    "      p_right: probability of the behaviour to go right.\n",
    "\n",
    "  Returns:\n",
    "      A dictionary with elements:\n",
    "        * observations (number_of_steps + 1 integers): the\n",
    "          observations are just the actual (integer) states\n",
    "        * actions (number_of_steps integers): actions per step\n",
    "        * rewards (number_of_steps scalars): rewards per step\n",
    "        * discounts (number_of_steps scalars): currently always 0.9,\n",
    "          except the last one which is zero\n",
    "        * mu (number_of_steps scalars): probability of selecting each\n",
    "          action according to the behavious policy\n",
    "        * pi (number_of_steps scalars): probability of selecting each\n",
    "          action according to the target policy (here p(1) = 0.9 and\n",
    "          p(0) = 0.1, where a==1 implies we go 'right')\n",
    "  \"\"\"\n",
    "  # generate actions\n",
    "  actions = np.array(np.random.random(NUMBER_OF_STEPS,) < MU_RIGHT,\n",
    "                     dtype=np.int)\n",
    "  s = 0\n",
    "  # compute resulting states\n",
    "  states = np.cumsum(np.arange(1, NUMBER_OF_STEPS + 1) + actions)\n",
    "  states = np.array([0] + list(states))  # add start state\n",
    "\n",
    "  # in this case, observations are just the real states\n",
    "  observations = states\n",
    "\n",
    "  # generate rewards\n",
    "  rewards     = 2.*actions - 1. # -1 for left, +1 for right, \n",
    "  rewards[-1] = np.sum(actions)  # extra final reward for going right\n",
    "    \n",
    "  # compute discounts\n",
    "  discounts     = DISCOUNT * np.ones_like(rewards)\n",
    "  discounts[-1] = 0.  # final transition is terminal, has discount=0\n",
    "\n",
    "  # determine target and behaviour probabilities for the selected actions\n",
    "  pi = np.array([1. - PI_RIGHT, PI_RIGHT])[actions] # Target probabilities\n",
    "  mu = np.array([1. - MU_RIGHT, MU_RIGHT])[actions] # Behaviour probabilities\n",
    "    \n",
    "  return dict(observations=observations,\n",
    "              actions=actions,\n",
    "              pi=pi,\n",
    "              mu=mu,\n",
    "              rewards=rewards,\n",
    "              discounts=discounts)\n",
    "\n",
    "def true_v(s, pi, number_of_steps):\n",
    "  \"\"\"Compute true state value recursively.\"\"\"\n",
    "  depth = int(np.floor((np.sqrt(1 + 8*s) - 1)/2))\n",
    "  position = int(s - depth*(depth+1)/2)\n",
    "  remaining_steps = number_of_steps - depth\n",
    "  final_reward = DISCOUNT**(remaining_steps-1)*(position + pi*remaining_steps)\n",
    "  reward_per_step = pi*(+1) + (1 - pi)*(-1)\n",
    "  discounted_steps = (1 - DISCOUNT**(remaining_steps - 1))/(1 - DISCOUNT)\n",
    "  reward_along_the_way = reward_per_step * discounted_steps\n",
    "  return reward_along_the_way + final_reward\n",
    "\n"
   ]
  },
  {
   "cell_type": "code",
   "execution_count": 9,
   "metadata": {
    "id": "CCFMUmOfRTqZ"
   },
   "outputs": [
    {
     "name": "stdout",
     "output_type": "stream",
     "text": [
      "[ 19.639 654.385 200.516   7.015   0.68 ]\n"
     ]
    },
    {
     "data": {
      "image/png": "[encoded data removed]",
      "text/plain": [
       "<Figure size 864x576 with 1 Axes>"
      ]
     },
     "metadata": {
      "needs_background": "light"
     },
     "output_type": "display_data"
    }
   ],
   "source": [
    "#@title Run experiment (don't modify)\n",
    "algs = ['on_policy', 'full_importance_sampling', 'per_decision', 'control_variates', 'adaptive_bootstrapping']\n",
    "\n",
    "# Precompute state values (for efficiency)\n",
    "N = NUMBER_OF_STEPS\n",
    "true_vs = [true_v(s, PI_RIGHT, N) for s in range((N+1)*(N+2)//2)]\n",
    "\n",
    "def random_v(iteration, s):\n",
    "  rng = np.random.RandomState(seed=s + iteration*10000)\n",
    "  return true_vs[s] + rng.normal(loc=0, scale=1.)  # Add fixed random noise \n",
    "\n",
    "def plot_errors(ax, errors):\n",
    "  errors = np.array(errors)\n",
    "  ax.violinplot(np.log10(errors), showextrema=False)\n",
    "  ax.plot(range(1, len(algs)+1), np.log10(errors).T,\n",
    "          '.', color='#667799', ms=7, alpha=0.2)\n",
    "  ax.plot(range(1, len(algs)+1), np.log10(np.mean(errors, axis=0)),\n",
    "          '.', color='#000000', ms=20)\n",
    "  ax.set_yticks(np.arange(-2, 5))\n",
    "  ax.set_yticklabels(10.**np.arange(-2, 5), fontsize=13)\n",
    "  ax.set_ylabel(\"Value error $(v(s_0) - v_{\\\\pi}(s_0))^2$\", fontsize=15)\n",
    "  ax.set_xticks(range(1, len(algs)+1))\n",
    "  ax.set_xticklabels(algs, fontsize=15, rotation=70)\n",
    "  ax.set_ylim(-1, 4)\n",
    "\n",
    "fig = plt.figure(figsize=(12, 8))\n",
    "\n",
    "errors = []\n",
    "estimates = []\n",
    "v0 = true_vs[0]\n",
    "for iteration in range(1000):\n",
    "  errors.append([])\n",
    "  estimates.append([])\n",
    "  trajectory = generate_experience()\n",
    "  for alg in algs:\n",
    "    estimate = eval(alg)(**trajectory,\n",
    "                        v_fn=lambda s: random_v(iteration, s),\n",
    "                        trace_parameter=0.9)\n",
    "    errors[-1].append((estimate[0] - v0)**2)\n",
    "print(np.mean(errors, axis=0))\n",
    "plot_errors(plt.gca(), errors)"
   ]
  },
  {
   "cell_type": "markdown",
   "metadata": {
    "id": "7hlc4jctHHqv"
   },
   "source": [
    "Above, the distributions of mean squared value errors are shown, with the mean as a big black dot and the (1,000) individual return samples as small black dots.\n",
    "\n",
    "### Q 1.2 [3 points]\n",
    "Explain the ranking in terms of value error of the different return estimates.\n",
    "\n",
    "I will list the ranking from best to worst:\n",
    "> **Adaptive boostrapping:** Adaptive bootstrapping gives us the option to control when to bootstrap. It only bootstraps when the agent selects an action that has higher likelihood under the behavioural policy than under the target policy. Therefore, by controlling the bootstrapping, adaptive bootstraping reduces the variance considerably. By avoiding bootstrapping at every instance we avoid the occurace of the deadliy triad. It is clear from the above plot that this has the lowest mean value error and also has the most compact (1,000) individual return samples hence, lowest variance. \n",
    "\n",
    "> **Control variates:** Control variates weights the error rather than the target. The expectation is zero, but this may vary depending on the target term. This covariance has the effect of reducing variances, we can see the mean value error reduces compared to the other approaches. \n",
    "\n",
    "> **On-policy:** On policy follows the target policy for exploration and does not explore optimally. The mean value error is as expected, it is not low since the agent is not given the chance to explore other potentially higher rewards actions and neither is it very high because we are effectively just following the target policy.\n",
    "\n",
    "\n",
    "> **Per decision:** In per decision sampling, the expectation does not depend on the policy, so we don't need to correct it. Earlier rewards cannot depend on later actions and therefore, we do not mulitply the trace together however we multiply by $\\rho$ at every step. As seen in lecture 11, this helps reduce variance but there is still very high variance. The mean value error is still high.\n",
    "\n",
    "> **Full importance sampling:** In full importance sampling, we can have a case when an action is unlikely under the behavioural policy but likely under the target policy. This can lead to a correction coefficient that is greater than 1, cause the agent to be divergent. This can cause many outliers which is evident from the above graph. importance sampling corrections has high variance and in some cases the variance can be infinite.\n"
   ]
  },
  {
   "cell_type": "markdown",
   "metadata": {
    "id": "O0Uk1d9b4CPc"
   },
   "source": [
    "\n",
    "\n",
    "### Q 1.3 [3 points]\n",
    "Could there be a reason to **not** choose the best return according to this ranking when learning off-policy?  Explain your answer.\n",
    "\n",
    "> As I explained in the above question and as it can be seen from the graph, adaptive boosting preforms the best. However, there exists a situation where adapative boosting does not act optimally. As seen in the lecture, adaptive bootstrapping will reduce variance compared to the other approachs. Although only minimal bias is introduced, it still introduces some bias, which can be an issue if we are also using function approximation and off-policy learning in combination with the bootstrapping introduced in adaptive bootstrapping. \n",
    "This combination is called the deadly triad and it can lead to the possibility of divergence. Adaptive bootstrapping aims at boostraping just enough however, we it still might bootstrap too early which will lead to the deadly triads."
   ]
  },
  {
   "cell_type": "markdown",
   "metadata": {
    "id": "u5Xn8bDNFm-H"
   },
   "source": [
    "## Q2 [19 points total]\n",
    " Consider a MDP $M = (\\mathcal{S}, \\mathcal{A}, p, r, \\gamma)$ and a behaviour policy $\\mu$. We use policy $\\mu$ to generate trajectories of experience:\n",
    "\\begin{equation*}\n",
    "    (s_{t}, a_{t}, r_{t},s_{t+1}, a_{t+1}, r_{t+1},\\cdots, s_{t+n-1}, a_{t+n-1}, r_{t+n-1}, s_{t+n}, a_{t+n}) \\,.\n",
    "\\end{equation*}\n",
    "Note that this is an $n$-step sequence, starting from time $t$.\n",
    "\n",
    "Given these partial trajectories we consider the following learning problems:\n",
    "\n",
    "\n"
   ]
  },
  {
   "cell_type": "markdown",
   "metadata": {
    "id": "8vc8FfT06lYY"
   },
   "source": [
    "### Q2.1 [9 points]\n",
    "Consider a learning update based on the following temporal difference error:\n",
    "$$\\delta_t = R(S_t, A_t) + \\gamma R(S_{t+1}, A_{t+1}) + \\gamma^2 \\max_a q(S_{t+2}, a) - q(S_t, A_t)$$\n",
    "\n",
    "Consider updating a tabular action value function with TD.\n",
    "\n",
    "i) Does the resulting value function converge, under any initialisation of the value function? Consider an appropiate learning rate (Robbins–Monro conditions). If so, prove the convergence under infinity number of interactions with this MDP, under fixed behaviour policy $\\mu$ and show its convergence point. If not, show why it diverges. (7 points)\n",
    "\n",
    "ii) Under which conditions, would the above process converge to the optimal value function $q_*$ ? (2 points)"
   ]
  },
  {
   "cell_type": "markdown",
   "metadata": {
    "id": "3H4p8jZj6bGP"
   },
   "source": [
    "i)\n",
    "\n",
    "The Robbins-Monro conditions are as follows:\n",
    "$$\\forall s: \\sum_{t=0}^{\\infty}{\\alpha_t(s_t,a_t)=\\infty}, \\forall s: \\sum_{t=0}^{\\infty}{(\\alpha_t(s_t,a_t))^2 < \\infty}$$\n",
    "\n",
    "With reference to  Convergence of Q-learning: A Simple Proof (by Francisco S. Melo), we see from theorem 1 that Q-learning  a TD algorithm converges with probability 1 too the optimal Q-function as long as the Robbins-Monro conditions are met, for all combinations of states and actions. To establish the above result we need an auxiliary result from stochastic approximation, that I will present:\n",
    "\n",
    "The random process ${\\Delta t}$ taking values in $R^n$ and defined as\n",
    "$\\Delta t+1(x) = (1 − \\alpha t(x))\\Delta t(x) + \\alpha t(x)Ft(x)$ converges to zero with probability 1 under the following assumptions: \n",
    "- $0 \\leq \\alpha_t \\leq 1, \\sum_{t=0}^{\\infty}{\\alpha_t(x)=\\infty}and  \\sum_{t=0}^{\\infty}{(\\alpha_t(x))^2 < \\infty} $\n",
    "- $||E\\left[F_t|\\tau_t \\right]||_W \\le \\gamma ||\\Delta_t||_W + c_t$\n",
    "- $Var \\left[F_t(x_t)|\\tau_t \\right] < C (1+\\gamma||\\Delta_t||_W)^2, \\forall C > 0$\n",
    "\n",
    "This auxiliary theorem is sufficient to show that the value function converges. \n",
    "\n",
    "With references to page 33 of Sutton & Barton book, the first Robbins-Monro condition is required to guarantee that the steps are large enough to eventually overcome any initial conditions or random fluctuations. The second condition guarantees that eventually the steps become small enough to assure convergence. Note that both convergence conditions are met for this case and therefore, it remains to show that $||E\\left[F_t|\\tau_t \\right]||_W \\le \\gamma ||\\Delta_t||_W + c_t$ and $Var \\left[F_t(x_t)|\\tau_t \\right] < C (1+\\gamma||\\Delta_t||_W)^2, \\forall C > 0$:\n",
    "\n",
    "\n",
    "We can define $F_t$ as follows :\n",
    "$$F_t(S_t, A_t) = R(S_t, A_t) + \\gamma R(S_{t+1}, A_{t+1}) + \\gamma^2 \\max_a q(S_{t+2}, a) - q(S_t, A_t)$$\n",
    "$$= R(S_t, A_t) + \\gamma R(S_{t+1}, A_{t+1}) + \\gamma^2 \\sum_A \\pi_t(S_{t+2},A) q(S_{t+2},A)- q^*(A_t,A_t) $$\n",
    "Where $\\pi_t(S_{t+2},A)$ is the prbability of selecting action $A$ under the target policy. This can either be $1$ if we select $q*$ and $0$ otherwise. Using the auxiliray theorem above, we aim to show that using our defined $F_t$, $||E\\left[F_t|\\tau_t \\right]||\\le \\gamma ||\\Delta_t|| + c_t$. \n",
    "\n",
    "$$||E\\left[F_t|\\tau_t \\right]|| = ||E\\left[R(S_t, A_t) + \\gamma R(S_{t+1}, A_{t+1}) + \\gamma^2 \\sum_A \\pi_t(S_{t+2},A) q(S_{t+2},A)- q^*(A_t,A_t)|\\tau_t \\right]||   $$\n",
    "\n",
    "Using the Bellmen optimality eqution which states that $q^*(S_t,A_t) =  r(S_t,A_t) + \\gamma^2\\sum_{S_{t+1}} P[S_{t+1}|A,S]\\left(\\max_{A} q^*(S_{t+1},A)\\right)||$ we get the following:\n",
    "\n",
    "$$||E\\left[F_t|\\tau_t \\right]|| = \\left| \\left| E \\left[ r(S_{t},A_{t}) + \\gamma  r(S_{t+1},A_{t+1}) +  \\gamma^2 \\sum_a \\pi_t(S_{t+2},A) q(S_{t+2},A)|\\tau_t \\right] - \\sum_{S_{t+1}} P[S_{t+1}|S, A] \\left( r(S_t,A_t) + \\gamma \\max_{A} q^(S_{t+1},A)\\right) \\right| \\right|$$\n",
    "\n",
    "Applying another further expansion of the Bellman optimality equation and then rearranging we get:\n",
    "\n",
    "$$= \\left| \\left| E \\left[  r(S_{t},A_{t}) + \\gamma  r(S_{t+1},A_{t+1}) +   \\gamma^2 \\sum_A \\pi_t(S_{t+2},A) q(S_{t+2},A)|\\tau_t \\right]- \\sum_{S_{t+2}} P[S_{t+2}|S, A]\\left(  r(S_{t},A_{t}) +\\gamma r(S_{t+1},A_{t+1}) +\\gamma^2 \\max_{A} q^*(S_{t+2},A)\\right) \\right| \\right|$$\n",
    "\n",
    "$$= \\left| \\left| \\sum_{S_{t+2}} P[S_{t+2}|S, A]\\left(  \\gamma^2 \\sum_A \\pi_t(S_{t+2},A) q(S_{t+2},A)- \\gamma^2 \\max_{A} q^*(S_{t+2},A)\\right) \\right| \\right|$$\n",
    "\n",
    "$$= \\left| \\left|\\gamma^2 \\sum_{S_{t+2}} P[S_{t+2}|S, A]\\left(\\sum_A \\pi_t(S_{t+2},A) q(S_{t+2},A)-  \\max_{A} q^*(S_{t+2},A)\\right) \\right| \\right|$$\n",
    "\n",
    "The above is in the form of an expectation and we know that the $E(X) \\leq \\max X$ therefore we get the following:\n",
    "$$||E\\left[F_t|\\tau_t \\right]|| \\le \\gamma^2 \\max_{S_{t+2}} \\left|\\sum_A \\pi_t(S_{t+2},A) q(S_{t+2},A)- \\max_{A} q^*(S_{t+2},A)\\right|$$\n",
    "\n",
    "Using the triangle inequality we get the following:\n",
    "$$||E\\left[F_t|\\tau_t \\right]|| \\le \\gamma^2 \\max_{S_{t+2}} \\left|\\max_{A} q(S_{t+2},A)- \\max_{A} q^*(S_{t+2},A)\\right|+\\gamma^2 \\max_{S_{t+2}} \\left|\\sum_A \\pi_t(S_{t+2},A) q(S_{t+2},A)- \\max_{A} q(S_{t+2},A)\\right|$$\n",
    "\n",
    "Therefore, by making substitutions for $\\gamma,\\Delta_t, and  c_t$ we get that the second condition holds. With regards the last assumption:\n",
    "$$Var[F_t(x)|\\tau_t] = Var[r(S_t,A_t) + \\gamma r(S_{t+1},A_{t+1} + \\gamma^2 \\max_A q(S_{t+2},A)] < \\infty$$\n",
    "\n",
    "Hence, by the auxiliary theorem, we have that all the conditions are met and therefore the resulting value function converges with probability 1 too the optimal Q-function.\n",
    "\n",
    "ii) By investigating $$||E\\left[F_t|\\tau_t \\right]|| \\le \\gamma^2 \\max_{S_{t+2}} \\left|\\max_{A} q(S_{t+2},A)- \\max_{A} q^*(S_{t+2},A)\\right|+\\gamma^2 \\max_{S_{t+2}} \\left|\\sum_A \\pi_t(S_{t+2},A) q(S_{t+2},A)- \\max_{A} q(S_{t+2},A)\\right|$$ We can see that If we define $\\kappa = \\gamma^2$ and if $0<\\gamma^2<1$ then all of the sufficient conditions for convergance are held from the auxiliary function. This would therefore lead to the value function converging to optimal value function."
   ]
  },
  {
   "cell_type": "markdown",
   "metadata": {
    "id": "IfIqVjrP6QI-"
   },
   "source": [
    "### Q2.2 [10 points]\n",
    "\n",
    "Consider the same questions now for the following temporal difference error\n",
    "\\begin{equation}\n",
    "        \\delta_t = r(S_{t},A_{t}) + \\gamma \\frac{\\pi(A_{t+1}|S_{t+1})}{\\mu(A_{t+1}|S_{t+1})} \\left[ r(S_{t+1},A_{t+1}) + \\gamma \\max_{a} q(S_{t+2},a) \\right] - q(S_t, A_t)\n",
    "\\end{equation}\n",
    "\n",
    "where $\\pi(a|s) \\in \\arg\\max_a q(s,a), \\forall s,a \\in \\mathcal{A} \\times \\mathcal{S}$ and consider the behaviour policy to be either:\n",
    "\n",
    "  a. $\\mu(a|s) \\in \\arg\\max_a q(s,a), \\forall s,a \\in \\mathcal{A} \\times \\mathcal{S}$,\n",
    "  \n",
    "  b. $\\mu(a|s) = \\frac{1}{|\\mathcal{A}|}$ (uniformly random policy).\n",
    "\n",
    "Answer the below two questions for **both choices** of the behaviour policy $\\mu$:\n",
    "* i)  Does updating a tabular action value function with this TD error converge to the optimal value function $q_*$? Consider an appropiate learning rate (Robbins–Monro conditions). If so, prove this convergence under infinity number of interaction with this MDP, under behaviour policy $\\mu$. If not, show why it diverges or alternatively convergence to a different solution. (4 points)\n",
    "* ii) How does the variance of this update compare to the one induced by the error in Q5.1? (3 points). \n",
    "* iii) Can you propose a different behaviour policy that achieves a lower variance than any of the choices we considered for $\\mu$? Prove that your behaviour policy achieve this. Argue why, if that is not possible. (3 points)"
   ]
  },
  {
   "cell_type": "markdown",
   "metadata": {
    "id": "NGqQJRzD6Tww"
   },
   "source": [
    "*Answer here:*"
   ]
  },
  {
   "cell_type": "markdown",
   "metadata": {
    "id": "wesi6S866Lyq"
   },
   "source": [
    "**i.a)**\n",
    "\n",
    "If we have that the behavioural and target polciy are the same, thus $\\pi(a|s) \\in \\arg\\max_a q(s,a), \\forall s,a \\in \\mathcal{A} \\times \\mathcal{S}$ then we have that the behavioural policy selects action which maximise the value function therefore, \n",
    "$$\\frac{\\pi(A_{t+1}|S_{t+1})}{\\mu(A_{t+1}|S_{t+1})} = 1$$ Hence, our temporal difference error is now defined as follows:\n",
    "$$\\delta_t = r(S_{t},A_{t}) + \\gamma \\left[ r(S_{t+1},A_{t+1}) + \\gamma \\max_{a} q(S_{t+2},a) \\right] - q(S_t, A_t)$$\n",
    "$$= r(S_{t},A_{t}) + \\gamma  r(S_{t+1},A_{t+1}) + \\gamma^2 \\max_{a} q(S_{t+2},a)  - q(S_t, A_t)$$\n",
    "\n",
    "As we can see this is exactly what we have seen in the above question, and as shown above, this converges to the optimal value function.\n",
    "\n",
    "However, if the behavioural policy is different from the target policy and therefore, we have no guarantees of visiting each state infintely many times. Hence, we cannot guarantee the convergence to the optimal value function, so this does not converge to the optimal value function. \n",
    "\n",
    "\n",
    "**i.b)**\n",
    "\n",
    "In this configuration, we have the uniformly random policy which explores infinitely many times. All state-action pairs are epxlored infinitely many times, and therefore the policy converges to a greedy policy. This is known as the Greedy in the Limit with Infinte Exploration (GLIE). As we have seen in the Model Free Control lecture, GLIE Model-free control converges to the optimal action-value function. Therefore, this configuration converges.\n"
   ]
  },
  {
   "cell_type": "markdown",
   "metadata": {},
   "source": [
    "**ii.a)**\n",
    "\n",
    "As shown in part a) if  we have that the behavioural and target polciy are the same, we have have the same resulting value function update and ultimately the variance remains the same as the above indeuced by the errror in Q2.1.\n",
    "\n",
    "**ii.b)**"
   ]
  },
  {
   "cell_type": "markdown",
   "metadata": {},
   "source": [
    "**iii)**\n",
    "\n",
    "We can define the following behavioural policy:\n",
    "$$\\begin{equation*}\n",
    "\\mu(a|s)  = \\left\\{\n",
    "        \\begin{array}{ll}\n",
    "            \\pi(a|s) & 1- \\epsilon \\\\\n",
    "            \\frac{1}{|\\mathcal{A}|} & \\epsilon\n",
    "        \\end{array}\n",
    "    \\right.\n",
    "\\end{equation*}$$\n",
    "The suggested behavioural policy remains on policy for the majority of the time (depending on which $\\epsilon$ values). This therefore, reduces the variance of sleecting a random action using the uniform policy. We do however, acheive infinite exploration as we have with probability of $\\epsilon$ of choosing a random action therefore, we have increased the chances of visiting a potential higher reward state which leads to a decline in variance in the value estimation. This exploratory policy will reduce the variance set by the vanilla on-policy case.\n",
    "\n",
    "Furthermore, this new behavioural policy will  reduce variance when compared to the suggest unfirom policy, as we are expected to remain on policy for most of the trajectory ($\\epsilon$ dependant).\n",
    "\n",
    "Since we proved in the above parts that the uniform policy as well as the on-policy converges to the optimal policy, we can be sure that the combined policy will converge too."
   ]
  },
  {
   "cell_type": "code",
   "execution_count": null,
   "metadata": {},
   "outputs": [],
   "source": []
  }
 ],
 "metadata": {
  "colab": {
   "collapsed_sections": [],
   "last_runtime": {
    "build_target": "//learning/deepmind/dm_python:dm_notebook3",
    "kind": "private"
   },
   "name": "UCL RL assignment 2022, part IV",
   "private_outputs": true,
   "provenance": [
    {
     "file_id": "1JU6mjNeZzP6ezHB8Vu5YqV-_Q9iN2CVv",
     "timestamp": 1645461208957
    },
    {
     "file_id": "1dkLVv6gagPKbfB1UCY997gOfqOXpeQD-",
     "timestamp": 1645457029049
    },
    {
     "file_id": "1zYag0A0o4ncxyHc2Uq2ESf7CEBhktnv8",
     "timestamp": 1645456932996
    },
    {
     "file_id": "1KK-ZHRlK2WjPv7etN5KHUwEAGnPSOxbI",
     "timestamp": 1645455353656
    },
    {
     "file_id": "/piper/depot/google3/learning/deepmind/research/ucl/assignments_2021/RL_assignment_3.ipynb?cl=368650897",
     "timestamp": 1618589207256
    },
    {
     "file_id": "/piper/depot/google3/learning/deepmind/research/ucl/assignments_2021/RL_assignment_3_solution.ipynb?workspaceId=mtthss:ucluclucl::citc",
     "timestamp": 1618502477520
    },
    {
     "file_id": "1q0yqRznin1Zv5-MduEZbZZU8EF-qfzxJ",
     "timestamp": 1618501430836
    }
   ],
   "toc_visible": true
  },
  "kernelspec": {
   "display_name": "Python 3",
   "language": "python",
   "name": "python3"
  },
  "language_info": {
   "codemirror_mode": {
    "name": "ipython",
    "version": 3
   },
   "file_extension": ".py",
   "mimetype": "text/x-python",
   "name": "python",
   "nbconvert_exporter": "python",
   "pygments_lexer": "ipython3",
   "version": "3.8.8"
  }
 },
 "nbformat": 4,
 "nbformat_minor": 1
}
