{
  "nbformat": 4,
  "nbformat_minor": 0,
  "metadata": {
    "colab": {
      "name": "DL Assignment 1",
      "provenance": [],
      "collapsed_sections": []
    },
    "kernelspec": {
      "name": "python3",
      "display_name": "Python 3"
    }
  },
  "cells": [
    {
      "cell_type": "markdown",
      "metadata": {
        "id": "D1dBBe4p-q0e"
      },
      "source": [
        "# Deep Learning: Assignment 1"
      ]
    },
    {
      "cell_type": "markdown",
      "metadata": {
        "id": "w9O30mE0R5_j"
      },
      "source": [
        "ID #1 : 0008003254 <br>\n",
        "ID #2 : 311149082"
      ]
    },
    {
      "cell_type": "markdown",
      "metadata": {
        "id": "SE6qcw_j8Pi2"
      },
      "source": [
        "In this homework assignment, you are requested to implement a full backprop algorithm using only *numpy*.\n",
        "\n",
        "- We assume sigmoid activation across all layers.\n",
        "- We assume a single value in the output layer"
      ]
    },
    {
      "cell_type": "code",
      "metadata": {
        "id": "UV4RvXYL8k85"
      },
      "source": [
        "import pandas as pd\n",
        "import numpy as np\n",
        "from google.colab import drive\n",
        "import matplotlib.pyplot as plt\n",
        "%matplotlib inline\n",
        "plt.rcParams['figure.figsize'] = (10.0,5.0) # set default size of plots"
      ],
      "execution_count": null,
      "outputs": []
    },
    {
      "cell_type": "markdown",
      "metadata": {
        "id": "SRml6glFIPCa"
      },
      "source": [
        "The following class represents a simple feed forward network with multiple layers. The network class provides methods for running forward and backward for a single instance, throught the network. You should implement the methods (indicated with TODO), that performs forward and backward for an entire batch. Note, the idea is to use matrix multiplications, and not running standard loops over the instances in the batch."
      ]
    },
    {
      "cell_type": "code",
      "metadata": {
        "id": "kLdNoCt58qg5"
      },
      "source": [
        "class MyNN:\n",
        "  def __init__(self, learning_rate, layer_sizes):\n",
        "    '''\n",
        "    learning_rate - the learning to use in backward\n",
        "    layer_sizes - a list of numbers, each number repreents the nuber of neurons\n",
        "                  to have in every layer. Therfore, the length of the list \n",
        "                  represents the number layers this network has.\n",
        "    '''\n",
        "    self.learning_rate = learning_rate\n",
        "    self.layer_sizes = layer_sizes\n",
        "    self.model_params = {}\n",
        "    self.memory = {}\n",
        "    self.grads = {}\n",
        "    \n",
        "    # Initializing weights\n",
        "    for layer_index in range(len(layer_sizes) - 1):\n",
        "      W_input = layer_sizes[layer_index + 1]\n",
        "      W_output = layer_sizes[layer_index]\n",
        "      self.model_params['W_' + str(layer_index + 1)] = np.random.randn(W_input, W_output) * 0.1\n",
        "      self.model_params['b_' + str(layer_index + 1)] = np.random.randn(W_input) * 0.1\n",
        "\n",
        "  def log_loss(self, y_hat, y):\n",
        "    '''\n",
        "    Logistic loss, assuming a single value in y_hat and y.\n",
        "    '''\n",
        "    m = y_hat[0]\n",
        "    cost = -y[0]*np.log(y_hat[0]) - (1 - y[0])*np.log(1 - y_hat[0])\n",
        "    return cost         \n",
        "  \n",
        "  def forward_single_instance(self, x):    \n",
        "    a_i_1 = x\n",
        "    self.memory['a_0'] = x\n",
        "    for layer_index in range(len(self.layer_sizes) - 1):\n",
        "      W_i = self.model_params['W_' + str(layer_index + 1)]\n",
        "      b_i = self.model_params['b_' + str(layer_index + 1)]\n",
        "      z_i = np.dot(W_i, a_i_1) + b_i\n",
        "      a_i = 1/(1+np.exp(-z_i))\n",
        "      self.memory['a_' + str(layer_index + 1)] = a_i\n",
        "      a_i_1 = a_i\n",
        "    return a_i_1\n",
        "    \n",
        "  def backward_single_instance(self, y):\n",
        "    a_output = self.memory['a_' + str(len(self.layer_sizes) - 1)]\n",
        "    dz = a_output - y\n",
        "     \n",
        "    for layer_index in range(len(self.layer_sizes) - 1, 0, -1):\n",
        "      # print(layer_index)\n",
        "      a_l_1 = self.memory['a_' + str(layer_index - 1)]\n",
        "      dW = np.dot(dz.reshape(-1, 1), a_l_1.reshape(1, -1))\n",
        "      self.grads['dW_' + str(layer_index)] = dW\n",
        "      W_l = self.model_params['W_' + str(layer_index)]\n",
        "      self.grads['db_' + str(layer_index)] = dz\n",
        "      dz = (a_l_1 * (1 - a_l_1)).reshape(-1, 1) * np.dot(W_l.T, dz.reshape(-1, 1))\n",
        "  \n",
        "  def update(self):\n",
        "     for layer_index in range(len(self.layer_sizes) - 1):\n",
        "       W_i = self.model_params['W_' + str(layer_index+1)] - (self.learning_rate * self.grads['dW_' + str(layer_index+1) ])\n",
        "       self.model_params['W_' + str(layer_index+1)] = W_i\n",
        "       b_i = self.model_params['b_' + str(layer_index + 1)] - (self.learning_rate * self.grads['db_' + str(layer_index+1)])\n",
        "       self.model_params['b_' + str(layer_index + 1)] = b_i\n",
        "      \n",
        "  # Forward propogation for batch\n",
        "  def forward_batch(self, X):\n",
        "    A_i_1 = X\n",
        "    self.memory['A_0'] = X\n",
        "    for layer_index in range(len(self.layer_sizes) - 1):\n",
        "      W_i = self.model_params['W_' + str(layer_index + 1)]\n",
        "      b_i = self.model_params['b_' + str(layer_index + 1)] \n",
        "      # Create a matrix out of the b_i values for ease of addition with W_iA_i\n",
        "      Temp = np.matmul(W_i, A_i_1)\n",
        "      b_i_matrix = [ np.full(shape = len(Temp[0]), fill_value = b_i[j]) for j in range(len(Temp))]\n",
        "      b_i_matrix = np.array(b_i_matrix)\n",
        "     \n",
        "      Z_i = np.matmul(W_i, A_i_1) + b_i_matrix #Add the bias to each column\n",
        "      A_i = 1/(1+np.exp(-Z_i))\n",
        "      self.memory['A_' + str(layer_index + 1)] = A_i\n",
        "      A_i_1 = A_i\n",
        "    return A_i_1\n",
        "\n",
        "  # Backward propogation for batch\n",
        "  def backward_batch(self, y):\n",
        "    A_output = self.memory['A_' + str(len(self.layer_sizes) - 1)]\n",
        "    dZ = A_output - y\n",
        "     \n",
        "    for layer_index in range(len(self.layer_sizes) - 1, 0, -1):\n",
        "      A_l_1 = self.memory['A_' + str(layer_index - 1)]\n",
        "      dW = np.dot(dZ, A_l_1.T)\n",
        "      self.grads['dW_' + str(layer_index)] = dW  \n",
        "      W_l = self.model_params['W_' + str(layer_index)]\n",
        "      self.grads['db_' +  str(layer_index)] = np.sum(dZ) / len(dZ)\n",
        "      dZ = (A_l_1 * (1 - A_l_1)) * np.dot(W_l.T, dZ)\n",
        "  \n",
        "  # Log_loss for batch instances\n",
        "  def log_loss_batch(self, y_hat, y):\n",
        "    cost = np.sum(-y*np.log(y_hat) - (np.ones(len(y)) - y)*np.log(np.ones(len(y)) - y_hat))/len(y[0])\n",
        "    return cost"
      ],
      "execution_count": null,
      "outputs": []
    },
    {
      "cell_type": "code",
      "metadata": {
        "id": "Qib6W4QXO644"
      },
      "source": [
        "# Initiate a nn. Parameters are learning rate and layer sizes\n",
        "nn = MyNN(0.01, [3, 2, 1])"
      ],
      "execution_count": null,
      "outputs": []
    },
    {
      "cell_type": "code",
      "metadata": {
        "id": "4nQR8QllPf_5",
        "colab": {
          "base_uri": "https://localhost:8080/"
        },
        "outputId": "943e9328-dbe3-41b1-cd89-d55cf9814de0"
      },
      "source": [
        "nn.model_params"
      ],
      "execution_count": null,
      "outputs": [
        {
          "output_type": "execute_result",
          "data": {
            "text/plain": [
              "{'W_1': array([[ 0.0234318 ,  0.18163821, -0.0334032 ],\n",
              "        [-0.02622669, -0.07845425, -0.08637216]]),\n",
              " 'W_2': array([[-0.0869484 ,  0.00595802]]),\n",
              " 'b_1': array([ 0.01880909, -0.07318834]),\n",
              " 'b_2': array([0.0664715])}"
            ]
          },
          "metadata": {
            "tags": []
          },
          "execution_count": 4
        }
      ]
    },
    {
      "cell_type": "code",
      "metadata": {
        "id": "VXiyn-yrPC6-",
        "colab": {
          "base_uri": "https://localhost:8080/"
        },
        "outputId": "3cbcb844-5d5e-4cdb-a864-02276bda058b"
      },
      "source": [
        "# Set random x, y\n",
        "x = np.random.randn(3)\n",
        "y = np.random.randn(1)\n",
        "# Measure result after single isntance forward propogation\n",
        "y_hat = nn.forward_single_instance(x)\n",
        "print(y_hat)"
      ],
      "execution_count": null,
      "outputs": [
        {
          "output_type": "stream",
          "text": [
            "[0.50749467]\n"
          ],
          "name": "stdout"
        }
      ]
    },
    {
      "cell_type": "code",
      "metadata": {
        "id": "k5M50i3plclj"
      },
      "source": [
        "nn.backward_single_instance(y)"
      ],
      "execution_count": null,
      "outputs": []
    },
    {
      "cell_type": "code",
      "metadata": {
        "colab": {
          "base_uri": "https://localhost:8080/"
        },
        "id": "lLs_ueblkMxc",
        "outputId": "d1182738-3dcb-4288-8673-74f78e264d6e"
      },
      "source": [
        "nn.memory"
      ],
      "execution_count": null,
      "outputs": [
        {
          "output_type": "execute_result",
          "data": {
            "text/plain": [
              "{'a_0': array([ 0.50794347, -1.04736506,  0.93028313]),\n",
              " 'a_1': array([0.45249253, 0.47884006]),\n",
              " 'a_2': array([0.50749467])}"
            ]
          },
          "metadata": {
            "tags": []
          },
          "execution_count": 7
        }
      ]
    },
    {
      "cell_type": "code",
      "metadata": {
        "id": "CWnZB1YmYnIt"
      },
      "source": [
        "def train(X, y, epochs, batch_size, print_epoch):\n",
        "  '''\n",
        "  Train procedure, please note the TODOs inside\n",
        "  '''\n",
        "  loss = []\n",
        "  for e in range(1, epochs + 1):\n",
        "    epoch_loss = 0\n",
        "    # Shuffling the data\n",
        "    idx = np.random.permutation(X.shape[1])\n",
        "    X = X.T[idx].T\n",
        "    y = y.T[idx].T\n",
        "    # Dividing into batches\n",
        "    batches = []\n",
        "    for i in range(int(len(X[0])/batch_size)):\n",
        "        X_temp = X[:,range(i*batch_size, (i+1)*batch_size)]\n",
        "        y_temp = y[:,range(i*batch_size, (i+1)*batch_size)]\n",
        "        batch = (X_temp, y_temp)\n",
        "        batches.append(batch)\n",
        "    # For each batch, forward, backward propogate aswell as update \n",
        "    for X_b, y_b in batches:\n",
        "      y_hat = nn.forward_batch(X_b)\n",
        "      epoch_loss += nn.log_loss_batch(y_hat, y_b)\n",
        "      nn.backward_batch(y_b)\n",
        "      nn.update()\n",
        "    # Update the total loss for that epoch\n",
        "    loss_i = epoch_loss/len(batches)\n",
        "    if print_epoch:\n",
        "      print(f'Epoch {e}, loss={loss_i}')\n",
        "    loss.append(loss_i)\n",
        "  return loss"
      ],
      "execution_count": null,
      "outputs": []
    },
    {
      "cell_type": "code",
      "metadata": {
        "id": "cE1ydWlatkty",
        "colab": {
          "base_uri": "https://localhost:8080/"
        },
        "outputId": "ca5b5729-d6b6-40ca-ab90-22881c04b816"
      },
      "source": [
        "# TODO: Make sure the following network trains properly\n",
        "X = np.random.randn(6, 10)\n",
        "y = np.random.randn(1, 10)\n",
        "\n",
        "nn = MyNN(0.001, [6, 4, 3, 1])\n",
        "batch_size = 8\n",
        "epochs = 2\n",
        "loss = train(X, y, epochs, batch_size, True)"
      ],
      "execution_count": null,
      "outputs": [
        {
          "output_type": "stream",
          "text": [
            "Epoch 1, loss=0.6731914762363342\n",
            "Epoch 2, loss=0.668083610885826\n"
          ],
          "name": "stdout"
        }
      ]
    },
    {
      "cell_type": "markdown",
      "metadata": {
        "id": "6dY4scUksulC"
      },
      "source": [
        "#TODO: train on an external dataset\n",
        "\n",
        "Train on the Bike Sharing dataset, using the same split as in *DL Notebook 4 - logistic regression*.\n",
        "Use the following features from the data:\n",
        "\n",
        "* temp\n",
        "* atemp\n",
        "* hum\n",
        "* windspeed\n",
        "* weekday\n",
        "\n",
        "The response variable is, like in Notebook 4, raw[\"success\"] = raw[\"cnt\"] > (raw[\"cnt\"].describe()[\"mean\"]).\n",
        "\n",
        "The architecture of the network should be: [5, 40, 30, 10, 7, 5, 3, 1].\n",
        "\n",
        "Use batch_size=8, and train it for 100 epochs on the train set (based on the split as requested above).\n",
        "\n",
        "Then, plot loss per epoch."
      ]
    },
    {
      "cell_type": "code",
      "metadata": {
        "colab": {
          "base_uri": "https://localhost:8080/"
        },
        "id": "djfcOuZE_uV6",
        "outputId": "e20b0128-0c0e-4296-973e-5a1a896d19ea"
      },
      "source": [
        "# Load the relevant data\n",
        "!git clone https://github.com/kfirbar/course-ml-data.git\n",
        "raw = pd.read_csv('course-ml-data/Bike-Sharing-Dataset 2/day.csv')"
      ],
      "execution_count": null,
      "outputs": [
        {
          "output_type": "stream",
          "text": [
            "Cloning into 'course-ml-data'...\n",
            "remote: Enumerating objects: 18, done.\u001b[K\n",
            "remote: Counting objects: 100% (18/18), done.\u001b[K\n",
            "remote: Compressing objects: 100% (14/14), done.\u001b[K\n",
            "remote: Total 18 (delta 1), reused 9 (delta 0), pack-reused 0\u001b[K\n",
            "Unpacking objects: 100% (18/18), done.\n"
          ],
          "name": "stdout"
        }
      ]
    },
    {
      "cell_type": "code",
      "metadata": {
        "colab": {
          "base_uri": "https://localhost:8080/",
          "height": 608
        },
        "id": "kb8LELsp__gC",
        "outputId": "0b86305f-4a9d-49e4-a197-f862e250a63f"
      },
      "source": [
        "# Adding the success column to the dataframe\n",
        "raw[\"success\"] = raw[\"cnt\"] > (raw[\"cnt\"].describe()[\"mean\"])\n",
        "raw"
      ],
      "execution_count": null,
      "outputs": [
        {
          "output_type": "execute_result",
          "data": {
            "text/html": [
              "<div>\n",
              "<style scoped>\n",
              "    .dataframe tbody tr th:only-of-type {\n",
              "        vertical-align: middle;\n",
              "    }\n",
              "\n",
              "    .dataframe tbody tr th {\n",
              "        vertical-align: top;\n",
              "    }\n",
              "\n",
              "    .dataframe thead th {\n",
              "        text-align: right;\n",
              "    }\n",
              "</style>\n",
              "<table border=\"1\" class=\"dataframe\">\n",
              "  <thead>\n",
              "    <tr style=\"text-align: right;\">\n",
              "      <th></th>\n",
              "      <th>instant</th>\n",
              "      <th>dteday</th>\n",
              "      <th>season</th>\n",
              "      <th>yr</th>\n",
              "      <th>mnth</th>\n",
              "      <th>holiday</th>\n",
              "      <th>weekday</th>\n",
              "      <th>workingday</th>\n",
              "      <th>weathersit</th>\n",
              "      <th>temp</th>\n",
              "      <th>atemp</th>\n",
              "      <th>hum</th>\n",
              "      <th>windspeed</th>\n",
              "      <th>casual</th>\n",
              "      <th>registered</th>\n",
              "      <th>cnt</th>\n",
              "      <th>success</th>\n",
              "    </tr>\n",
              "  </thead>\n",
              "  <tbody>\n",
              "    <tr>\n",
              "      <th>0</th>\n",
              "      <td>1</td>\n",
              "      <td>2011-01-01</td>\n",
              "      <td>1</td>\n",
              "      <td>0</td>\n",
              "      <td>1</td>\n",
              "      <td>0</td>\n",
              "      <td>6</td>\n",
              "      <td>0</td>\n",
              "      <td>2</td>\n",
              "      <td>0.344167</td>\n",
              "      <td>0.363625</td>\n",
              "      <td>0.805833</td>\n",
              "      <td>0.160446</td>\n",
              "      <td>331</td>\n",
              "      <td>654</td>\n",
              "      <td>985</td>\n",
              "      <td>False</td>\n",
              "    </tr>\n",
              "    <tr>\n",
              "      <th>1</th>\n",
              "      <td>2</td>\n",
              "      <td>2011-01-02</td>\n",
              "      <td>1</td>\n",
              "      <td>0</td>\n",
              "      <td>1</td>\n",
              "      <td>0</td>\n",
              "      <td>0</td>\n",
              "      <td>0</td>\n",
              "      <td>2</td>\n",
              "      <td>0.363478</td>\n",
              "      <td>0.353739</td>\n",
              "      <td>0.696087</td>\n",
              "      <td>0.248539</td>\n",
              "      <td>131</td>\n",
              "      <td>670</td>\n",
              "      <td>801</td>\n",
              "      <td>False</td>\n",
              "    </tr>\n",
              "    <tr>\n",
              "      <th>2</th>\n",
              "      <td>3</td>\n",
              "      <td>2011-01-03</td>\n",
              "      <td>1</td>\n",
              "      <td>0</td>\n",
              "      <td>1</td>\n",
              "      <td>0</td>\n",
              "      <td>1</td>\n",
              "      <td>1</td>\n",
              "      <td>1</td>\n",
              "      <td>0.196364</td>\n",
              "      <td>0.189405</td>\n",
              "      <td>0.437273</td>\n",
              "      <td>0.248309</td>\n",
              "      <td>120</td>\n",
              "      <td>1229</td>\n",
              "      <td>1349</td>\n",
              "      <td>False</td>\n",
              "    </tr>\n",
              "    <tr>\n",
              "      <th>3</th>\n",
              "      <td>4</td>\n",
              "      <td>2011-01-04</td>\n",
              "      <td>1</td>\n",
              "      <td>0</td>\n",
              "      <td>1</td>\n",
              "      <td>0</td>\n",
              "      <td>2</td>\n",
              "      <td>1</td>\n",
              "      <td>1</td>\n",
              "      <td>0.200000</td>\n",
              "      <td>0.212122</td>\n",
              "      <td>0.590435</td>\n",
              "      <td>0.160296</td>\n",
              "      <td>108</td>\n",
              "      <td>1454</td>\n",
              "      <td>1562</td>\n",
              "      <td>False</td>\n",
              "    </tr>\n",
              "    <tr>\n",
              "      <th>4</th>\n",
              "      <td>5</td>\n",
              "      <td>2011-01-05</td>\n",
              "      <td>1</td>\n",
              "      <td>0</td>\n",
              "      <td>1</td>\n",
              "      <td>0</td>\n",
              "      <td>3</td>\n",
              "      <td>1</td>\n",
              "      <td>1</td>\n",
              "      <td>0.226957</td>\n",
              "      <td>0.229270</td>\n",
              "      <td>0.436957</td>\n",
              "      <td>0.186900</td>\n",
              "      <td>82</td>\n",
              "      <td>1518</td>\n",
              "      <td>1600</td>\n",
              "      <td>False</td>\n",
              "    </tr>\n",
              "    <tr>\n",
              "      <th>...</th>\n",
              "      <td>...</td>\n",
              "      <td>...</td>\n",
              "      <td>...</td>\n",
              "      <td>...</td>\n",
              "      <td>...</td>\n",
              "      <td>...</td>\n",
              "      <td>...</td>\n",
              "      <td>...</td>\n",
              "      <td>...</td>\n",
              "      <td>...</td>\n",
              "      <td>...</td>\n",
              "      <td>...</td>\n",
              "      <td>...</td>\n",
              "      <td>...</td>\n",
              "      <td>...</td>\n",
              "      <td>...</td>\n",
              "      <td>...</td>\n",
              "    </tr>\n",
              "    <tr>\n",
              "      <th>726</th>\n",
              "      <td>727</td>\n",
              "      <td>2012-12-27</td>\n",
              "      <td>1</td>\n",
              "      <td>1</td>\n",
              "      <td>12</td>\n",
              "      <td>0</td>\n",
              "      <td>4</td>\n",
              "      <td>1</td>\n",
              "      <td>2</td>\n",
              "      <td>0.254167</td>\n",
              "      <td>0.226642</td>\n",
              "      <td>0.652917</td>\n",
              "      <td>0.350133</td>\n",
              "      <td>247</td>\n",
              "      <td>1867</td>\n",
              "      <td>2114</td>\n",
              "      <td>False</td>\n",
              "    </tr>\n",
              "    <tr>\n",
              "      <th>727</th>\n",
              "      <td>728</td>\n",
              "      <td>2012-12-28</td>\n",
              "      <td>1</td>\n",
              "      <td>1</td>\n",
              "      <td>12</td>\n",
              "      <td>0</td>\n",
              "      <td>5</td>\n",
              "      <td>1</td>\n",
              "      <td>2</td>\n",
              "      <td>0.253333</td>\n",
              "      <td>0.255046</td>\n",
              "      <td>0.590000</td>\n",
              "      <td>0.155471</td>\n",
              "      <td>644</td>\n",
              "      <td>2451</td>\n",
              "      <td>3095</td>\n",
              "      <td>False</td>\n",
              "    </tr>\n",
              "    <tr>\n",
              "      <th>728</th>\n",
              "      <td>729</td>\n",
              "      <td>2012-12-29</td>\n",
              "      <td>1</td>\n",
              "      <td>1</td>\n",
              "      <td>12</td>\n",
              "      <td>0</td>\n",
              "      <td>6</td>\n",
              "      <td>0</td>\n",
              "      <td>2</td>\n",
              "      <td>0.253333</td>\n",
              "      <td>0.242400</td>\n",
              "      <td>0.752917</td>\n",
              "      <td>0.124383</td>\n",
              "      <td>159</td>\n",
              "      <td>1182</td>\n",
              "      <td>1341</td>\n",
              "      <td>False</td>\n",
              "    </tr>\n",
              "    <tr>\n",
              "      <th>729</th>\n",
              "      <td>730</td>\n",
              "      <td>2012-12-30</td>\n",
              "      <td>1</td>\n",
              "      <td>1</td>\n",
              "      <td>12</td>\n",
              "      <td>0</td>\n",
              "      <td>0</td>\n",
              "      <td>0</td>\n",
              "      <td>1</td>\n",
              "      <td>0.255833</td>\n",
              "      <td>0.231700</td>\n",
              "      <td>0.483333</td>\n",
              "      <td>0.350754</td>\n",
              "      <td>364</td>\n",
              "      <td>1432</td>\n",
              "      <td>1796</td>\n",
              "      <td>False</td>\n",
              "    </tr>\n",
              "    <tr>\n",
              "      <th>730</th>\n",
              "      <td>731</td>\n",
              "      <td>2012-12-31</td>\n",
              "      <td>1</td>\n",
              "      <td>1</td>\n",
              "      <td>12</td>\n",
              "      <td>0</td>\n",
              "      <td>1</td>\n",
              "      <td>1</td>\n",
              "      <td>2</td>\n",
              "      <td>0.215833</td>\n",
              "      <td>0.223487</td>\n",
              "      <td>0.577500</td>\n",
              "      <td>0.154846</td>\n",
              "      <td>439</td>\n",
              "      <td>2290</td>\n",
              "      <td>2729</td>\n",
              "      <td>False</td>\n",
              "    </tr>\n",
              "  </tbody>\n",
              "</table>\n",
              "<p>731 rows × 17 columns</p>\n",
              "</div>"
            ],
            "text/plain": [
              "     instant      dteday  season  yr  ...  casual  registered   cnt  success\n",
              "0          1  2011-01-01       1   0  ...     331         654   985    False\n",
              "1          2  2011-01-02       1   0  ...     131         670   801    False\n",
              "2          3  2011-01-03       1   0  ...     120        1229  1349    False\n",
              "3          4  2011-01-04       1   0  ...     108        1454  1562    False\n",
              "4          5  2011-01-05       1   0  ...      82        1518  1600    False\n",
              "..       ...         ...     ...  ..  ...     ...         ...   ...      ...\n",
              "726      727  2012-12-27       1   1  ...     247        1867  2114    False\n",
              "727      728  2012-12-28       1   1  ...     644        2451  3095    False\n",
              "728      729  2012-12-29       1   1  ...     159        1182  1341    False\n",
              "729      730  2012-12-30       1   1  ...     364        1432  1796    False\n",
              "730      731  2012-12-31       1   1  ...     439        2290  2729    False\n",
              "\n",
              "[731 rows x 17 columns]"
            ]
          },
          "metadata": {
            "tags": []
          },
          "execution_count": 11
        }
      ]
    },
    {
      "cell_type": "code",
      "metadata": {
        "id": "3Y0GvPArZear",
        "colab": {
          "base_uri": "https://localhost:8080/"
        },
        "outputId": "a79791c9-c1aa-4821-a795-bcc6c7dc8fe2"
      },
      "source": [
        "# Splitting into X, y according to the specification\n",
        "X = raw[ ['temp','atemp','hum', 'windspeed', 'weekday' ]].values.T\n",
        "y = np.array([raw[\"success\"].astype(int)])\n",
        "X.shape,y.shape"
      ],
      "execution_count": null,
      "outputs": [
        {
          "output_type": "execute_result",
          "data": {
            "text/plain": [
              "((5, 731), (1, 731))"
            ]
          },
          "metadata": {
            "tags": []
          },
          "execution_count": 12
        }
      ]
    },
    {
      "cell_type": "code",
      "metadata": {
        "colab": {
          "base_uri": "https://localhost:8080/"
        },
        "id": "ceRK857hAJpi",
        "outputId": "40055315-9d34-4c2f-8474-adfdfbeffd62"
      },
      "source": [
        "# Training the neural networks with the specified layer sizes\n",
        "nn = MyNN(0.0002, [5, 40, 30, 10, 7, 5, 3, 1])\n",
        "batch_size = 8\n",
        "epochs = 100\n",
        "loss = train(X, y, epochs, batch_size, False)\n",
        "print(loss)"
      ],
      "execution_count": null,
      "outputs": [
        {
          "output_type": "stream",
          "text": [
            "[0.6949603962980766, 0.6943352178913423, 0.6941745866667406, 0.6941964243553814, 0.6942378326846361, 0.693925493428939, 0.6936426431477766, 0.6937054017375706, 0.6936330375861972, 0.6936898573277218, 0.6937482729390272, 0.6935368216969912, 0.6933682124052973, 0.6934342512438878, 0.6933918117403889, 0.6934536361839195, 0.6931956332037205, 0.6932786655296294, 0.6931569038796054, 0.6933295514020418, 0.6930207624651836, 0.6932895503983385, 0.6931634234231369, 0.6930742135283288, 0.6930613358563131, 0.6930578454140283, 0.6931360571297915, 0.6930371372927623, 0.6930338919115163, 0.6930437177919123, 0.6929621457230327, 0.6930404500463985, 0.6931023134368965, 0.6930176084128191, 0.692953789047953, 0.693164165274262, 0.6930151612736063, 0.6930846231172035, 0.6930156491606945, 0.6930028313199423, 0.6930854112821458, 0.6930174512790803, 0.6930766967242538, 0.6930148506446606, 0.6930719727618457, 0.6930723406570687, 0.6930095091577504, 0.6929615459877269, 0.6930123031089759, 0.6930632015335804, 0.6930564435234962, 0.693008774179739, 0.6929552197973956, 0.6930683718006589, 0.6930132521686828, 0.6930092617580795, 0.693058372697205, 0.693010033465169, 0.693121830907316, 0.693069312741376, 0.6930591065990757, 0.6929634396490968, 0.6930567583953695, 0.6930561923636909, 0.6930054247725486, 0.6930472127795836, 0.6929993089097523, 0.6931115366807982, 0.6930072680474367, 0.6930589268050477, 0.6929613271164563, 0.6930540233074857, 0.6930026817383376, 0.6931070808553481, 0.6930102833813158, 0.6930655656339644, 0.6930494304753176, 0.6930562783311423, 0.692999041450974, 0.693004704876819, 0.6930139804529112, 0.6930683201058573, 0.693005676071641, 0.6930630964655402, 0.6930214507388792, 0.6930531323805238, 0.6930513874664305, 0.6930072744259921, 0.6930009806603069, 0.6930486896003049, 0.6930097547239609, 0.6930126613929208, 0.6930038337956667, 0.6930571859197302, 0.6930535070150714, 0.6930537679746651, 0.6930011110163061, 0.6930141958717144, 0.6929535409791036, 0.6931157385487661]\n"
          ],
          "name": "stdout"
        }
      ]
    },
    {
      "cell_type": "code",
      "metadata": {
        "colab": {
          "base_uri": "https://localhost:8080/",
          "height": 279
        },
        "id": "Vg2evrSZAVg_",
        "outputId": "9e6deb65-2974-4115-f923-1518564c0594"
      },
      "source": [
        "# Plot the results\n",
        "fig, ax = plt.subplots()\n",
        "ax.plot(np.arange(0,len(loss)), loss, c='b', label=\"Loss\")\n",
        "plt.xlabel(\"Epochs\")\n",
        "plt.ylabel(\"Loss\")\n",
        "plt.legend()\n",
        "plt.show()"
      ],
      "execution_count": null,
      "outputs": [
        {
          "output_type": "display_data",
          "data": {
            "image/png": "[encoded data removed]",
            "text/plain": [
              "<Figure size 432x288 with 1 Axes>"
            ]
          },
          "metadata": {
            "tags": [],
            "needs_background": "light"
          }
        }
      ]
    },
    {
      "cell_type": "markdown",
      "metadata": {
        "id": "4thmpX-JBnup"
      },
      "source": [
        "Seeing as the learning rate is a hyper parameter, we will simulate our nn model with different learning rates to see which one returns the best result "
      ]
    },
    {
      "cell_type": "code",
      "metadata": {
        "colab": {
          "base_uri": "https://localhost:8080/",
          "height": 279
        },
        "id": "Zi3Yye8sBQfe",
        "outputId": "5e46b768-2afd-422b-96b2-74784e36c79b"
      },
      "source": [
        "# Defining different learning rates\n",
        "learning_rate = [0.0009,0.001,0.002,0.003,0.005,0.01]\n",
        "\n",
        "fig, ax = plt.subplots()\n",
        "for lr in learning_rate:\n",
        "  nn = MyNN(lr, [5, 40, 30, 10, 7, 5, 3, 1])\n",
        "  batch_size = 8\n",
        "  epochs = 100\n",
        "  loss = train(X, y, epochs, batch_size, False)\n",
        "  ax.plot(np.arange(0,len(loss)), loss, label=\"Loss-\"+str(lr))\n",
        "\n",
        "plt.xlabel(\"Epochs\")\n",
        "plt.ylabel(\"Loss\")\n",
        "plt.legend()\n",
        "plt.show()"
      ],
      "execution_count": null,
      "outputs": [
        {
          "output_type": "display_data",
          "data": {
            "image/png": "[encoded data removed]",
            "text/plain": [
              "<Figure size 432x288 with 1 Axes>"
            ]
          },
          "metadata": {
            "tags": [],
            "needs_background": "light"
          }
        }
      ]
    },
    {
      "cell_type": "markdown",
      "metadata": {
        "id": "FArcwkxVGNkL"
      },
      "source": [
        "As we can see the best learning rate is between $0.0009-0.002$. "
      ]
    },
    {
      "cell_type": "markdown",
      "metadata": {
        "id": "bNbSWPhxGX1J"
      },
      "source": [
        "### End of assingment "
      ]
    }
  ]
}