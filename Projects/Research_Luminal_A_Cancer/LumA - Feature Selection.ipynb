{
 "cells": [
  {
   "cell_type": "markdown",
   "metadata": {},
   "source": [
    "## LumA - Feature Selection"
   ]
  },
  {
   "cell_type": "code",
   "execution_count": 4,
   "metadata": {},
   "outputs": [
    {
     "name": "stdout",
     "output_type": "stream",
     "text": [
      "The autoreload extension is already loaded. To reload it, use:\n",
      "  %reload_ext autoreload\n"
     ]
    }
   ],
   "source": [
    "import numpy as np\n",
    "import pandas as pd\n",
    "from matplotlib.colors import ListedColormap\n",
    "import matplotlib.pyplot as plt\n",
    "import sklearn\n",
    "from sklearn.linear_model import LogisticRegression\n",
    "from sklearn.metrics import confusion_matrix\n",
    "from sklearn.metrics import classification_report\n",
    "from sklearn.metrics import roc_auc_score\n",
    "from sklearn.metrics import roc_curve\n",
    "# make matplotlib figures appear inline in the notebook\n",
    "%matplotlib inline\n",
    "plt.rcParams['figure.figsize'] = (25.0, 10.0) # set default size of plots\n",
    "plt.rcParams['image.interpolation'] = 'nearest'\n",
    "plt.rcParams['image.cmap'] = 'gray'\n",
    "\n",
    "# Make the notebook automatically reload external python modules\n",
    "%load_ext autoreload\n",
    "%autoreload 2\n",
    "# Ignore warnings\n",
    "import warnings\n",
    "warnings.filterwarnings(\"ignore\", category=FutureWarning)\n",
    "import time\n",
    "from multiprocessing import *\n",
    "import sys\n",
    "from LumA_Functions import *"
   ]
  },
  {
   "cell_type": "markdown",
   "metadata": {},
   "source": [
    "## Part 1: Data Preprocessing"
   ]
  },
  {
   "cell_type": "code",
   "execution_count": 5,
   "metadata": {},
   "outputs": [],
   "source": [
    "# Read comma separated data\n",
    "data = pd.read_csv('data/SCANB.csv', index_col=False)\n",
    "data_target = pd.read_csv('data/sampleinfo_SCANB_t.csv')\n",
    "data = data.set_index('Unnamed: 0').T"
   ]
  },
  {
   "cell_type": "markdown",
   "metadata": {},
   "source": [
    "#### Adding the target column to the dataframe and drop missing data"
   ]
  },
  {
   "cell_type": "code",
   "execution_count": 6,
   "metadata": {
    "scrolled": true
   },
   "outputs": [
    {
     "data": {
      "text/html": [
       "<div>\n",
       "<style scoped>\n",
       "    .dataframe tbody tr th:only-of-type {\n",
       "        vertical-align: middle;\n",
       "    }\n",
       "\n",
       "    .dataframe tbody tr th {\n",
       "        vertical-align: top;\n",
       "    }\n",
       "\n",
       "    .dataframe thead th {\n",
       "        text-align: right;\n",
       "    }\n",
       "</style>\n",
       "<table border=\"1\" class=\"dataframe\">\n",
       "  <thead>\n",
       "    <tr style=\"text-align: right;\">\n",
       "      <th>Unnamed: 0</th>\n",
       "      <th>5_8S_rRNA</th>\n",
       "      <th>5S_rRNA</th>\n",
       "      <th>6M1-18</th>\n",
       "      <th>7M1-2</th>\n",
       "      <th>7SK</th>\n",
       "      <th>A1BG</th>\n",
       "      <th>A1BG-AS1</th>\n",
       "      <th>A1CF</th>\n",
       "      <th>A2M</th>\n",
       "      <th>A2M-AS1</th>\n",
       "      <th>...</th>\n",
       "      <th>ZWINT</th>\n",
       "      <th>ZXDA</th>\n",
       "      <th>ZXDB</th>\n",
       "      <th>ZXDC</th>\n",
       "      <th>ZYG11A</th>\n",
       "      <th>ZYG11B</th>\n",
       "      <th>ZYX</th>\n",
       "      <th>ZZEF1</th>\n",
       "      <th>ZZZ3</th>\n",
       "      <th>isLumA</th>\n",
       "    </tr>\n",
       "  </thead>\n",
       "  <tbody>\n",
       "    <tr>\n",
       "      <th>F1</th>\n",
       "      <td>-3.321928</td>\n",
       "      <td>4.911099</td>\n",
       "      <td>-3.321928</td>\n",
       "      <td>-3.321928</td>\n",
       "      <td>-0.539253</td>\n",
       "      <td>0.598115</td>\n",
       "      <td>-1.352525</td>\n",
       "      <td>-3.213583</td>\n",
       "      <td>6.172477</td>\n",
       "      <td>-1.584899</td>\n",
       "      <td>...</td>\n",
       "      <td>3.044573</td>\n",
       "      <td>1.640598</td>\n",
       "      <td>2.425306</td>\n",
       "      <td>3.244432</td>\n",
       "      <td>-0.411950</td>\n",
       "      <td>1.468899</td>\n",
       "      <td>6.281767</td>\n",
       "      <td>1.774107</td>\n",
       "      <td>2.437227</td>\n",
       "      <td>0</td>\n",
       "    </tr>\n",
       "    <tr>\n",
       "      <th>F2</th>\n",
       "      <td>-3.321928</td>\n",
       "      <td>-3.321928</td>\n",
       "      <td>-3.321928</td>\n",
       "      <td>-3.321928</td>\n",
       "      <td>-0.576620</td>\n",
       "      <td>2.363673</td>\n",
       "      <td>-0.779430</td>\n",
       "      <td>-3.054421</td>\n",
       "      <td>7.113514</td>\n",
       "      <td>-2.329463</td>\n",
       "      <td>...</td>\n",
       "      <td>2.743902</td>\n",
       "      <td>0.684370</td>\n",
       "      <td>1.861781</td>\n",
       "      <td>2.727427</td>\n",
       "      <td>-0.452902</td>\n",
       "      <td>1.924761</td>\n",
       "      <td>7.169613</td>\n",
       "      <td>1.764214</td>\n",
       "      <td>2.876100</td>\n",
       "      <td>0</td>\n",
       "    </tr>\n",
       "    <tr>\n",
       "      <th>F3</th>\n",
       "      <td>-3.321928</td>\n",
       "      <td>-3.321928</td>\n",
       "      <td>-3.321928</td>\n",
       "      <td>-3.321928</td>\n",
       "      <td>-1.651323</td>\n",
       "      <td>2.647738</td>\n",
       "      <td>0.085410</td>\n",
       "      <td>-3.321928</td>\n",
       "      <td>5.641996</td>\n",
       "      <td>-2.221576</td>\n",
       "      <td>...</td>\n",
       "      <td>4.719843</td>\n",
       "      <td>-0.160076</td>\n",
       "      <td>1.365396</td>\n",
       "      <td>3.122333</td>\n",
       "      <td>0.594147</td>\n",
       "      <td>1.619277</td>\n",
       "      <td>6.683400</td>\n",
       "      <td>2.039246</td>\n",
       "      <td>2.929346</td>\n",
       "      <td>0</td>\n",
       "    </tr>\n",
       "    <tr>\n",
       "      <th>F4</th>\n",
       "      <td>-3.321928</td>\n",
       "      <td>3.656393</td>\n",
       "      <td>-3.321928</td>\n",
       "      <td>-3.321928</td>\n",
       "      <td>0.126633</td>\n",
       "      <td>1.378576</td>\n",
       "      <td>-0.334324</td>\n",
       "      <td>-3.321928</td>\n",
       "      <td>7.236769</td>\n",
       "      <td>-1.412293</td>\n",
       "      <td>...</td>\n",
       "      <td>4.157466</td>\n",
       "      <td>1.036271</td>\n",
       "      <td>2.038984</td>\n",
       "      <td>3.182823</td>\n",
       "      <td>-0.046619</td>\n",
       "      <td>1.969433</td>\n",
       "      <td>6.666306</td>\n",
       "      <td>2.771650</td>\n",
       "      <td>2.777674</td>\n",
       "      <td>0</td>\n",
       "    </tr>\n",
       "    <tr>\n",
       "      <th>F5</th>\n",
       "      <td>-3.321928</td>\n",
       "      <td>4.190104</td>\n",
       "      <td>-3.321928</td>\n",
       "      <td>-3.321928</td>\n",
       "      <td>0.783715</td>\n",
       "      <td>2.759643</td>\n",
       "      <td>0.984849</td>\n",
       "      <td>-3.321928</td>\n",
       "      <td>7.508171</td>\n",
       "      <td>-0.135133</td>\n",
       "      <td>...</td>\n",
       "      <td>1.024820</td>\n",
       "      <td>1.147535</td>\n",
       "      <td>2.032704</td>\n",
       "      <td>3.588842</td>\n",
       "      <td>0.808823</td>\n",
       "      <td>2.998474</td>\n",
       "      <td>6.479006</td>\n",
       "      <td>2.696269</td>\n",
       "      <td>3.957146</td>\n",
       "      <td>0</td>\n",
       "    </tr>\n",
       "    <tr>\n",
       "      <th>...</th>\n",
       "      <td>...</td>\n",
       "      <td>...</td>\n",
       "      <td>...</td>\n",
       "      <td>...</td>\n",
       "      <td>...</td>\n",
       "      <td>...</td>\n",
       "      <td>...</td>\n",
       "      <td>...</td>\n",
       "      <td>...</td>\n",
       "      <td>...</td>\n",
       "      <td>...</td>\n",
       "      <td>...</td>\n",
       "      <td>...</td>\n",
       "      <td>...</td>\n",
       "      <td>...</td>\n",
       "      <td>...</td>\n",
       "      <td>...</td>\n",
       "      <td>...</td>\n",
       "      <td>...</td>\n",
       "      <td>...</td>\n",
       "      <td>...</td>\n",
       "    </tr>\n",
       "    <tr>\n",
       "      <th>F2912repl</th>\n",
       "      <td>-3.321928</td>\n",
       "      <td>-3.321928</td>\n",
       "      <td>-3.321928</td>\n",
       "      <td>-3.321928</td>\n",
       "      <td>-3.321928</td>\n",
       "      <td>2.430733</td>\n",
       "      <td>1.018666</td>\n",
       "      <td>-3.321928</td>\n",
       "      <td>6.882498</td>\n",
       "      <td>-1.911554</td>\n",
       "      <td>...</td>\n",
       "      <td>3.239924</td>\n",
       "      <td>0.516923</td>\n",
       "      <td>2.425054</td>\n",
       "      <td>3.074247</td>\n",
       "      <td>-1.070585</td>\n",
       "      <td>2.391182</td>\n",
       "      <td>6.167490</td>\n",
       "      <td>2.196925</td>\n",
       "      <td>3.182132</td>\n",
       "      <td>0</td>\n",
       "    </tr>\n",
       "    <tr>\n",
       "      <th>F2958repl</th>\n",
       "      <td>-3.321928</td>\n",
       "      <td>4.627216</td>\n",
       "      <td>-3.321928</td>\n",
       "      <td>-3.321928</td>\n",
       "      <td>-1.114219</td>\n",
       "      <td>2.097562</td>\n",
       "      <td>0.542301</td>\n",
       "      <td>-2.928133</td>\n",
       "      <td>6.972296</td>\n",
       "      <td>-1.581553</td>\n",
       "      <td>...</td>\n",
       "      <td>4.389831</td>\n",
       "      <td>0.127864</td>\n",
       "      <td>1.790839</td>\n",
       "      <td>2.953123</td>\n",
       "      <td>0.586012</td>\n",
       "      <td>2.082903</td>\n",
       "      <td>5.940774</td>\n",
       "      <td>2.351836</td>\n",
       "      <td>3.510877</td>\n",
       "      <td>0</td>\n",
       "    </tr>\n",
       "    <tr>\n",
       "      <th>F3057repl</th>\n",
       "      <td>-3.321928</td>\n",
       "      <td>6.965451</td>\n",
       "      <td>-3.321928</td>\n",
       "      <td>-3.321928</td>\n",
       "      <td>1.651384</td>\n",
       "      <td>1.418644</td>\n",
       "      <td>0.064947</td>\n",
       "      <td>-3.043577</td>\n",
       "      <td>8.223603</td>\n",
       "      <td>-1.267660</td>\n",
       "      <td>...</td>\n",
       "      <td>2.047489</td>\n",
       "      <td>0.952073</td>\n",
       "      <td>2.346690</td>\n",
       "      <td>3.476365</td>\n",
       "      <td>1.122679</td>\n",
       "      <td>3.046818</td>\n",
       "      <td>6.511327</td>\n",
       "      <td>3.383714</td>\n",
       "      <td>4.262995</td>\n",
       "      <td>0</td>\n",
       "    </tr>\n",
       "    <tr>\n",
       "      <th>F3085repl</th>\n",
       "      <td>-3.321928</td>\n",
       "      <td>4.531984</td>\n",
       "      <td>-3.321928</td>\n",
       "      <td>-3.321928</td>\n",
       "      <td>-0.594062</td>\n",
       "      <td>3.437225</td>\n",
       "      <td>0.149748</td>\n",
       "      <td>-3.160701</td>\n",
       "      <td>4.870941</td>\n",
       "      <td>-0.483202</td>\n",
       "      <td>...</td>\n",
       "      <td>4.393794</td>\n",
       "      <td>1.501286</td>\n",
       "      <td>2.705467</td>\n",
       "      <td>3.148965</td>\n",
       "      <td>-0.320549</td>\n",
       "      <td>2.185147</td>\n",
       "      <td>4.671022</td>\n",
       "      <td>1.636199</td>\n",
       "      <td>2.771947</td>\n",
       "      <td>0</td>\n",
       "    </tr>\n",
       "    <tr>\n",
       "      <th>F3135repl</th>\n",
       "      <td>-3.321928</td>\n",
       "      <td>5.097337</td>\n",
       "      <td>-3.321928</td>\n",
       "      <td>-3.321928</td>\n",
       "      <td>0.239723</td>\n",
       "      <td>1.487851</td>\n",
       "      <td>-0.370685</td>\n",
       "      <td>-3.067972</td>\n",
       "      <td>8.077915</td>\n",
       "      <td>-0.305300</td>\n",
       "      <td>...</td>\n",
       "      <td>3.547187</td>\n",
       "      <td>0.656295</td>\n",
       "      <td>1.697796</td>\n",
       "      <td>2.857962</td>\n",
       "      <td>1.679810</td>\n",
       "      <td>2.274142</td>\n",
       "      <td>7.120243</td>\n",
       "      <td>1.458544</td>\n",
       "      <td>4.276831</td>\n",
       "      <td>0</td>\n",
       "    </tr>\n",
       "  </tbody>\n",
       "</table>\n",
       "<p>3069 rows × 30866 columns</p>\n",
       "</div>"
      ],
      "text/plain": [
       "Unnamed: 0  5_8S_rRNA   5S_rRNA    6M1-18     7M1-2       7SK      A1BG  \\\n",
       "F1          -3.321928  4.911099 -3.321928 -3.321928 -0.539253  0.598115   \n",
       "F2          -3.321928 -3.321928 -3.321928 -3.321928 -0.576620  2.363673   \n",
       "F3          -3.321928 -3.321928 -3.321928 -3.321928 -1.651323  2.647738   \n",
       "F4          -3.321928  3.656393 -3.321928 -3.321928  0.126633  1.378576   \n",
       "F5          -3.321928  4.190104 -3.321928 -3.321928  0.783715  2.759643   \n",
       "...               ...       ...       ...       ...       ...       ...   \n",
       "F2912repl   -3.321928 -3.321928 -3.321928 -3.321928 -3.321928  2.430733   \n",
       "F2958repl   -3.321928  4.627216 -3.321928 -3.321928 -1.114219  2.097562   \n",
       "F3057repl   -3.321928  6.965451 -3.321928 -3.321928  1.651384  1.418644   \n",
       "F3085repl   -3.321928  4.531984 -3.321928 -3.321928 -0.594062  3.437225   \n",
       "F3135repl   -3.321928  5.097337 -3.321928 -3.321928  0.239723  1.487851   \n",
       "\n",
       "Unnamed: 0  A1BG-AS1      A1CF       A2M   A2M-AS1  ...     ZWINT      ZXDA  \\\n",
       "F1         -1.352525 -3.213583  6.172477 -1.584899  ...  3.044573  1.640598   \n",
       "F2         -0.779430 -3.054421  7.113514 -2.329463  ...  2.743902  0.684370   \n",
       "F3          0.085410 -3.321928  5.641996 -2.221576  ...  4.719843 -0.160076   \n",
       "F4         -0.334324 -3.321928  7.236769 -1.412293  ...  4.157466  1.036271   \n",
       "F5          0.984849 -3.321928  7.508171 -0.135133  ...  1.024820  1.147535   \n",
       "...              ...       ...       ...       ...  ...       ...       ...   \n",
       "F2912repl   1.018666 -3.321928  6.882498 -1.911554  ...  3.239924  0.516923   \n",
       "F2958repl   0.542301 -2.928133  6.972296 -1.581553  ...  4.389831  0.127864   \n",
       "F3057repl   0.064947 -3.043577  8.223603 -1.267660  ...  2.047489  0.952073   \n",
       "F3085repl   0.149748 -3.160701  4.870941 -0.483202  ...  4.393794  1.501286   \n",
       "F3135repl  -0.370685 -3.067972  8.077915 -0.305300  ...  3.547187  0.656295   \n",
       "\n",
       "Unnamed: 0      ZXDB      ZXDC    ZYG11A    ZYG11B       ZYX     ZZEF1  \\\n",
       "F1          2.425306  3.244432 -0.411950  1.468899  6.281767  1.774107   \n",
       "F2          1.861781  2.727427 -0.452902  1.924761  7.169613  1.764214   \n",
       "F3          1.365396  3.122333  0.594147  1.619277  6.683400  2.039246   \n",
       "F4          2.038984  3.182823 -0.046619  1.969433  6.666306  2.771650   \n",
       "F5          2.032704  3.588842  0.808823  2.998474  6.479006  2.696269   \n",
       "...              ...       ...       ...       ...       ...       ...   \n",
       "F2912repl   2.425054  3.074247 -1.070585  2.391182  6.167490  2.196925   \n",
       "F2958repl   1.790839  2.953123  0.586012  2.082903  5.940774  2.351836   \n",
       "F3057repl   2.346690  3.476365  1.122679  3.046818  6.511327  3.383714   \n",
       "F3085repl   2.705467  3.148965 -0.320549  2.185147  4.671022  1.636199   \n",
       "F3135repl   1.697796  2.857962  1.679810  2.274142  7.120243  1.458544   \n",
       "\n",
       "Unnamed: 0      ZZZ3  isLumA  \n",
       "F1          2.437227       0  \n",
       "F2          2.876100       0  \n",
       "F3          2.929346       0  \n",
       "F4          2.777674       0  \n",
       "F5          3.957146       0  \n",
       "...              ...     ...  \n",
       "F2912repl   3.182132       0  \n",
       "F2958repl   3.510877       0  \n",
       "F3057repl   4.262995       0  \n",
       "F3085repl   2.771947       0  \n",
       "F3135repl   4.276831       0  \n",
       "\n",
       "[3069 rows x 30866 columns]"
      ]
     },
     "execution_count": 6,
     "metadata": {},
     "output_type": "execute_result"
    }
   ],
   "source": [
    "data['isLumA'] = 0\n",
    "data = data.dropna(axis=1)\n",
    "data "
   ]
  },
  {
   "cell_type": "code",
   "execution_count": 7,
   "metadata": {},
   "outputs": [
    {
     "data": {
      "text/html": [
       "<div>\n",
       "<style scoped>\n",
       "    .dataframe tbody tr th:only-of-type {\n",
       "        vertical-align: middle;\n",
       "    }\n",
       "\n",
       "    .dataframe tbody tr th {\n",
       "        vertical-align: top;\n",
       "    }\n",
       "\n",
       "    .dataframe thead th {\n",
       "        text-align: right;\n",
       "    }\n",
       "</style>\n",
       "<table border=\"1\" class=\"dataframe\">\n",
       "  <thead>\n",
       "    <tr style=\"text-align: right;\">\n",
       "      <th></th>\n",
       "      <th>Unnamed: 0</th>\n",
       "      <th>samplename</th>\n",
       "      <th>ER</th>\n",
       "      <th>PAM50</th>\n",
       "      <th>time</th>\n",
       "      <th>event</th>\n",
       "      <th>Lympho</th>\n",
       "      <th>cluster2</th>\n",
       "    </tr>\n",
       "  </thead>\n",
       "  <tbody>\n",
       "    <tr>\n",
       "      <th>0</th>\n",
       "      <td>1</td>\n",
       "      <td>F1</td>\n",
       "      <td>1</td>\n",
       "      <td>Basal</td>\n",
       "      <td>2367</td>\n",
       "      <td>0</td>\n",
       "      <td>2.602223</td>\n",
       "      <td>6</td>\n",
       "    </tr>\n",
       "    <tr>\n",
       "      <th>1</th>\n",
       "      <td>2</td>\n",
       "      <td>F2</td>\n",
       "      <td>2</td>\n",
       "      <td>LumA</td>\n",
       "      <td>2367</td>\n",
       "      <td>0</td>\n",
       "      <td>1.104544</td>\n",
       "      <td>5</td>\n",
       "    </tr>\n",
       "    <tr>\n",
       "      <th>2</th>\n",
       "      <td>3</td>\n",
       "      <td>F3</td>\n",
       "      <td>2</td>\n",
       "      <td>LumB</td>\n",
       "      <td>2168</td>\n",
       "      <td>1</td>\n",
       "      <td>0.581018</td>\n",
       "      <td>5</td>\n",
       "    </tr>\n",
       "    <tr>\n",
       "      <th>3</th>\n",
       "      <td>4</td>\n",
       "      <td>F4</td>\n",
       "      <td>2</td>\n",
       "      <td>LumA</td>\n",
       "      <td>2416</td>\n",
       "      <td>0</td>\n",
       "      <td>2.882004</td>\n",
       "      <td>6</td>\n",
       "    </tr>\n",
       "    <tr>\n",
       "      <th>4</th>\n",
       "      <td>5</td>\n",
       "      <td>F5</td>\n",
       "      <td>2</td>\n",
       "      <td>Normal</td>\n",
       "      <td>2389</td>\n",
       "      <td>0</td>\n",
       "      <td>1.013356</td>\n",
       "      <td>4</td>\n",
       "    </tr>\n",
       "    <tr>\n",
       "      <th>...</th>\n",
       "      <td>...</td>\n",
       "      <td>...</td>\n",
       "      <td>...</td>\n",
       "      <td>...</td>\n",
       "      <td>...</td>\n",
       "      <td>...</td>\n",
       "      <td>...</td>\n",
       "      <td>...</td>\n",
       "    </tr>\n",
       "    <tr>\n",
       "      <th>3064</th>\n",
       "      <td>3065</td>\n",
       "      <td>F2912repl</td>\n",
       "      <td>2</td>\n",
       "      <td>LumA</td>\n",
       "      <td>490</td>\n",
       "      <td>1</td>\n",
       "      <td>0.169352</td>\n",
       "      <td>5</td>\n",
       "    </tr>\n",
       "    <tr>\n",
       "      <th>3065</th>\n",
       "      <td>3066</td>\n",
       "      <td>F2958repl</td>\n",
       "      <td>2</td>\n",
       "      <td>Her2</td>\n",
       "      <td>1502</td>\n",
       "      <td>0</td>\n",
       "      <td>1.970687</td>\n",
       "      <td>6</td>\n",
       "    </tr>\n",
       "    <tr>\n",
       "      <th>3066</th>\n",
       "      <td>3067</td>\n",
       "      <td>F3057repl</td>\n",
       "      <td>2</td>\n",
       "      <td>LumA</td>\n",
       "      <td>1473</td>\n",
       "      <td>0</td>\n",
       "      <td>1.030736</td>\n",
       "      <td>4</td>\n",
       "    </tr>\n",
       "    <tr>\n",
       "      <th>3067</th>\n",
       "      <td>3068</td>\n",
       "      <td>F3085repl</td>\n",
       "      <td>2</td>\n",
       "      <td>LumB</td>\n",
       "      <td>1426</td>\n",
       "      <td>0</td>\n",
       "      <td>0.685621</td>\n",
       "      <td>5</td>\n",
       "    </tr>\n",
       "    <tr>\n",
       "      <th>3068</th>\n",
       "      <td>3069</td>\n",
       "      <td>F3135repl</td>\n",
       "      <td>1</td>\n",
       "      <td>Basal</td>\n",
       "      <td>1235</td>\n",
       "      <td>0</td>\n",
       "      <td>2.177618</td>\n",
       "      <td>6</td>\n",
       "    </tr>\n",
       "  </tbody>\n",
       "</table>\n",
       "<p>3069 rows × 8 columns</p>\n",
       "</div>"
      ],
      "text/plain": [
       "      Unnamed: 0 samplename  ER   PAM50  time  event    Lympho  cluster2\n",
       "0              1         F1   1   Basal  2367      0  2.602223         6\n",
       "1              2         F2   2    LumA  2367      0  1.104544         5\n",
       "2              3         F3   2    LumB  2168      1  0.581018         5\n",
       "3              4         F4   2    LumA  2416      0  2.882004         6\n",
       "4              5         F5   2  Normal  2389      0  1.013356         4\n",
       "...          ...        ...  ..     ...   ...    ...       ...       ...\n",
       "3064        3065  F2912repl   2    LumA   490      1  0.169352         5\n",
       "3065        3066  F2958repl   2    Her2  1502      0  1.970687         6\n",
       "3066        3067  F3057repl   2    LumA  1473      0  1.030736         4\n",
       "3067        3068  F3085repl   2    LumB  1426      0  0.685621         5\n",
       "3068        3069  F3135repl   1   Basal  1235      0  2.177618         6\n",
       "\n",
       "[3069 rows x 8 columns]"
      ]
     },
     "execution_count": 7,
     "metadata": {},
     "output_type": "execute_result"
    }
   ],
   "source": [
    "data_target"
   ]
  },
  {
   "cell_type": "markdown",
   "metadata": {},
   "source": [
    "#### Add the LumA information in the 'Target' column. We classify LumA = 1 and ~LumA = 0"
   ]
  },
  {
   "cell_type": "code",
   "execution_count": 8,
   "metadata": {},
   "outputs": [
    {
     "name": "stderr",
     "output_type": "stream",
     "text": [
      "C:\\Users\\shlom\\Anaconda3\\lib\\site-packages\\ipykernel_launcher.py:3: SettingWithCopyWarning: \n",
      "A value is trying to be set on a copy of a slice from a DataFrame\n",
      "\n",
      "See the caveats in the documentation: https://pandas.pydata.org/pandas-docs/stable/user_guide/indexing.html#returning-a-view-versus-a-copy\n",
      "  This is separate from the ipykernel package so we can avoid doing imports until\n"
     ]
    },
    {
     "data": {
      "text/html": [
       "<div>\n",
       "<style scoped>\n",
       "    .dataframe tbody tr th:only-of-type {\n",
       "        vertical-align: middle;\n",
       "    }\n",
       "\n",
       "    .dataframe tbody tr th {\n",
       "        vertical-align: top;\n",
       "    }\n",
       "\n",
       "    .dataframe thead th {\n",
       "        text-align: right;\n",
       "    }\n",
       "</style>\n",
       "<table border=\"1\" class=\"dataframe\">\n",
       "  <thead>\n",
       "    <tr style=\"text-align: right;\">\n",
       "      <th>Unnamed: 0</th>\n",
       "      <th>5_8S_rRNA</th>\n",
       "      <th>5S_rRNA</th>\n",
       "      <th>6M1-18</th>\n",
       "      <th>7M1-2</th>\n",
       "      <th>7SK</th>\n",
       "      <th>A1BG</th>\n",
       "      <th>A1BG-AS1</th>\n",
       "      <th>A1CF</th>\n",
       "      <th>A2M</th>\n",
       "      <th>A2M-AS1</th>\n",
       "      <th>...</th>\n",
       "      <th>ZWINT</th>\n",
       "      <th>ZXDA</th>\n",
       "      <th>ZXDB</th>\n",
       "      <th>ZXDC</th>\n",
       "      <th>ZYG11A</th>\n",
       "      <th>ZYG11B</th>\n",
       "      <th>ZYX</th>\n",
       "      <th>ZZEF1</th>\n",
       "      <th>ZZZ3</th>\n",
       "      <th>isLumA</th>\n",
       "    </tr>\n",
       "  </thead>\n",
       "  <tbody>\n",
       "    <tr>\n",
       "      <th>F1</th>\n",
       "      <td>-3.321928</td>\n",
       "      <td>4.911099</td>\n",
       "      <td>-3.321928</td>\n",
       "      <td>-3.321928</td>\n",
       "      <td>-0.539253</td>\n",
       "      <td>0.598115</td>\n",
       "      <td>-1.352525</td>\n",
       "      <td>-3.213583</td>\n",
       "      <td>6.172477</td>\n",
       "      <td>-1.584899</td>\n",
       "      <td>...</td>\n",
       "      <td>3.044573</td>\n",
       "      <td>1.640598</td>\n",
       "      <td>2.425306</td>\n",
       "      <td>3.244432</td>\n",
       "      <td>-0.411950</td>\n",
       "      <td>1.468899</td>\n",
       "      <td>6.281767</td>\n",
       "      <td>1.774107</td>\n",
       "      <td>2.437227</td>\n",
       "      <td>0</td>\n",
       "    </tr>\n",
       "    <tr>\n",
       "      <th>F2</th>\n",
       "      <td>-3.321928</td>\n",
       "      <td>-3.321928</td>\n",
       "      <td>-3.321928</td>\n",
       "      <td>-3.321928</td>\n",
       "      <td>-0.576620</td>\n",
       "      <td>2.363673</td>\n",
       "      <td>-0.779430</td>\n",
       "      <td>-3.054421</td>\n",
       "      <td>7.113514</td>\n",
       "      <td>-2.329463</td>\n",
       "      <td>...</td>\n",
       "      <td>2.743902</td>\n",
       "      <td>0.684370</td>\n",
       "      <td>1.861781</td>\n",
       "      <td>2.727427</td>\n",
       "      <td>-0.452902</td>\n",
       "      <td>1.924761</td>\n",
       "      <td>7.169613</td>\n",
       "      <td>1.764214</td>\n",
       "      <td>2.876100</td>\n",
       "      <td>1</td>\n",
       "    </tr>\n",
       "    <tr>\n",
       "      <th>F3</th>\n",
       "      <td>-3.321928</td>\n",
       "      <td>-3.321928</td>\n",
       "      <td>-3.321928</td>\n",
       "      <td>-3.321928</td>\n",
       "      <td>-1.651323</td>\n",
       "      <td>2.647738</td>\n",
       "      <td>0.085410</td>\n",
       "      <td>-3.321928</td>\n",
       "      <td>5.641996</td>\n",
       "      <td>-2.221576</td>\n",
       "      <td>...</td>\n",
       "      <td>4.719843</td>\n",
       "      <td>-0.160076</td>\n",
       "      <td>1.365396</td>\n",
       "      <td>3.122333</td>\n",
       "      <td>0.594147</td>\n",
       "      <td>1.619277</td>\n",
       "      <td>6.683400</td>\n",
       "      <td>2.039246</td>\n",
       "      <td>2.929346</td>\n",
       "      <td>0</td>\n",
       "    </tr>\n",
       "    <tr>\n",
       "      <th>F4</th>\n",
       "      <td>-3.321928</td>\n",
       "      <td>3.656393</td>\n",
       "      <td>-3.321928</td>\n",
       "      <td>-3.321928</td>\n",
       "      <td>0.126633</td>\n",
       "      <td>1.378576</td>\n",
       "      <td>-0.334324</td>\n",
       "      <td>-3.321928</td>\n",
       "      <td>7.236769</td>\n",
       "      <td>-1.412293</td>\n",
       "      <td>...</td>\n",
       "      <td>4.157466</td>\n",
       "      <td>1.036271</td>\n",
       "      <td>2.038984</td>\n",
       "      <td>3.182823</td>\n",
       "      <td>-0.046619</td>\n",
       "      <td>1.969433</td>\n",
       "      <td>6.666306</td>\n",
       "      <td>2.771650</td>\n",
       "      <td>2.777674</td>\n",
       "      <td>1</td>\n",
       "    </tr>\n",
       "    <tr>\n",
       "      <th>F5</th>\n",
       "      <td>-3.321928</td>\n",
       "      <td>4.190104</td>\n",
       "      <td>-3.321928</td>\n",
       "      <td>-3.321928</td>\n",
       "      <td>0.783715</td>\n",
       "      <td>2.759643</td>\n",
       "      <td>0.984849</td>\n",
       "      <td>-3.321928</td>\n",
       "      <td>7.508171</td>\n",
       "      <td>-0.135133</td>\n",
       "      <td>...</td>\n",
       "      <td>1.024820</td>\n",
       "      <td>1.147535</td>\n",
       "      <td>2.032704</td>\n",
       "      <td>3.588842</td>\n",
       "      <td>0.808823</td>\n",
       "      <td>2.998474</td>\n",
       "      <td>6.479006</td>\n",
       "      <td>2.696269</td>\n",
       "      <td>3.957146</td>\n",
       "      <td>0</td>\n",
       "    </tr>\n",
       "    <tr>\n",
       "      <th>F6</th>\n",
       "      <td>-3.321928</td>\n",
       "      <td>2.556304</td>\n",
       "      <td>-3.321928</td>\n",
       "      <td>-3.321928</td>\n",
       "      <td>-1.759556</td>\n",
       "      <td>2.287331</td>\n",
       "      <td>0.055967</td>\n",
       "      <td>-3.240256</td>\n",
       "      <td>9.701680</td>\n",
       "      <td>-0.588587</td>\n",
       "      <td>...</td>\n",
       "      <td>3.096097</td>\n",
       "      <td>-0.054906</td>\n",
       "      <td>0.985107</td>\n",
       "      <td>3.054852</td>\n",
       "      <td>-0.045820</td>\n",
       "      <td>2.318660</td>\n",
       "      <td>7.711859</td>\n",
       "      <td>2.905767</td>\n",
       "      <td>3.892004</td>\n",
       "      <td>0</td>\n",
       "    </tr>\n",
       "    <tr>\n",
       "      <th>F9</th>\n",
       "      <td>-3.321928</td>\n",
       "      <td>-3.321928</td>\n",
       "      <td>-3.321928</td>\n",
       "      <td>-3.321928</td>\n",
       "      <td>0.494308</td>\n",
       "      <td>3.082967</td>\n",
       "      <td>0.083236</td>\n",
       "      <td>-3.266724</td>\n",
       "      <td>6.697515</td>\n",
       "      <td>-1.938000</td>\n",
       "      <td>...</td>\n",
       "      <td>2.424017</td>\n",
       "      <td>0.202236</td>\n",
       "      <td>1.353414</td>\n",
       "      <td>2.859130</td>\n",
       "      <td>0.718388</td>\n",
       "      <td>2.485166</td>\n",
       "      <td>6.256384</td>\n",
       "      <td>1.711416</td>\n",
       "      <td>3.344201</td>\n",
       "      <td>0</td>\n",
       "    </tr>\n",
       "    <tr>\n",
       "      <th>F10</th>\n",
       "      <td>-3.321928</td>\n",
       "      <td>3.223401</td>\n",
       "      <td>-3.321928</td>\n",
       "      <td>-3.321928</td>\n",
       "      <td>0.749841</td>\n",
       "      <td>2.391895</td>\n",
       "      <td>-0.512592</td>\n",
       "      <td>-3.194633</td>\n",
       "      <td>7.306434</td>\n",
       "      <td>-1.395287</td>\n",
       "      <td>...</td>\n",
       "      <td>2.752725</td>\n",
       "      <td>0.398657</td>\n",
       "      <td>1.773916</td>\n",
       "      <td>2.756937</td>\n",
       "      <td>-1.161449</td>\n",
       "      <td>1.816193</td>\n",
       "      <td>6.772483</td>\n",
       "      <td>2.195755</td>\n",
       "      <td>2.201702</td>\n",
       "      <td>1</td>\n",
       "    </tr>\n",
       "    <tr>\n",
       "      <th>F11</th>\n",
       "      <td>-3.321928</td>\n",
       "      <td>-3.321928</td>\n",
       "      <td>-3.321928</td>\n",
       "      <td>-3.321928</td>\n",
       "      <td>1.541830</td>\n",
       "      <td>1.953536</td>\n",
       "      <td>0.175489</td>\n",
       "      <td>-3.150456</td>\n",
       "      <td>7.518080</td>\n",
       "      <td>-1.048490</td>\n",
       "      <td>...</td>\n",
       "      <td>2.777566</td>\n",
       "      <td>0.458749</td>\n",
       "      <td>1.600170</td>\n",
       "      <td>3.293035</td>\n",
       "      <td>-1.442078</td>\n",
       "      <td>2.568569</td>\n",
       "      <td>6.222401</td>\n",
       "      <td>2.634517</td>\n",
       "      <td>3.384362</td>\n",
       "      <td>1</td>\n",
       "    </tr>\n",
       "    <tr>\n",
       "      <th>F12</th>\n",
       "      <td>-3.321928</td>\n",
       "      <td>5.265988</td>\n",
       "      <td>-3.321928</td>\n",
       "      <td>-3.321928</td>\n",
       "      <td>0.049312</td>\n",
       "      <td>3.831761</td>\n",
       "      <td>0.135180</td>\n",
       "      <td>-3.068973</td>\n",
       "      <td>5.808893</td>\n",
       "      <td>-1.740476</td>\n",
       "      <td>...</td>\n",
       "      <td>3.936359</td>\n",
       "      <td>0.418557</td>\n",
       "      <td>1.765641</td>\n",
       "      <td>3.477728</td>\n",
       "      <td>-0.066979</td>\n",
       "      <td>2.167204</td>\n",
       "      <td>5.761246</td>\n",
       "      <td>2.071037</td>\n",
       "      <td>3.082507</td>\n",
       "      <td>0</td>\n",
       "    </tr>\n",
       "  </tbody>\n",
       "</table>\n",
       "<p>10 rows × 30866 columns</p>\n",
       "</div>"
      ],
      "text/plain": [
       "Unnamed: 0  5_8S_rRNA   5S_rRNA    6M1-18     7M1-2       7SK      A1BG  \\\n",
       "F1          -3.321928  4.911099 -3.321928 -3.321928 -0.539253  0.598115   \n",
       "F2          -3.321928 -3.321928 -3.321928 -3.321928 -0.576620  2.363673   \n",
       "F3          -3.321928 -3.321928 -3.321928 -3.321928 -1.651323  2.647738   \n",
       "F4          -3.321928  3.656393 -3.321928 -3.321928  0.126633  1.378576   \n",
       "F5          -3.321928  4.190104 -3.321928 -3.321928  0.783715  2.759643   \n",
       "F6          -3.321928  2.556304 -3.321928 -3.321928 -1.759556  2.287331   \n",
       "F9          -3.321928 -3.321928 -3.321928 -3.321928  0.494308  3.082967   \n",
       "F10         -3.321928  3.223401 -3.321928 -3.321928  0.749841  2.391895   \n",
       "F11         -3.321928 -3.321928 -3.321928 -3.321928  1.541830  1.953536   \n",
       "F12         -3.321928  5.265988 -3.321928 -3.321928  0.049312  3.831761   \n",
       "\n",
       "Unnamed: 0  A1BG-AS1      A1CF       A2M   A2M-AS1  ...     ZWINT      ZXDA  \\\n",
       "F1         -1.352525 -3.213583  6.172477 -1.584899  ...  3.044573  1.640598   \n",
       "F2         -0.779430 -3.054421  7.113514 -2.329463  ...  2.743902  0.684370   \n",
       "F3          0.085410 -3.321928  5.641996 -2.221576  ...  4.719843 -0.160076   \n",
       "F4         -0.334324 -3.321928  7.236769 -1.412293  ...  4.157466  1.036271   \n",
       "F5          0.984849 -3.321928  7.508171 -0.135133  ...  1.024820  1.147535   \n",
       "F6          0.055967 -3.240256  9.701680 -0.588587  ...  3.096097 -0.054906   \n",
       "F9          0.083236 -3.266724  6.697515 -1.938000  ...  2.424017  0.202236   \n",
       "F10        -0.512592 -3.194633  7.306434 -1.395287  ...  2.752725  0.398657   \n",
       "F11         0.175489 -3.150456  7.518080 -1.048490  ...  2.777566  0.458749   \n",
       "F12         0.135180 -3.068973  5.808893 -1.740476  ...  3.936359  0.418557   \n",
       "\n",
       "Unnamed: 0      ZXDB      ZXDC    ZYG11A    ZYG11B       ZYX     ZZEF1  \\\n",
       "F1          2.425306  3.244432 -0.411950  1.468899  6.281767  1.774107   \n",
       "F2          1.861781  2.727427 -0.452902  1.924761  7.169613  1.764214   \n",
       "F3          1.365396  3.122333  0.594147  1.619277  6.683400  2.039246   \n",
       "F4          2.038984  3.182823 -0.046619  1.969433  6.666306  2.771650   \n",
       "F5          2.032704  3.588842  0.808823  2.998474  6.479006  2.696269   \n",
       "F6          0.985107  3.054852 -0.045820  2.318660  7.711859  2.905767   \n",
       "F9          1.353414  2.859130  0.718388  2.485166  6.256384  1.711416   \n",
       "F10         1.773916  2.756937 -1.161449  1.816193  6.772483  2.195755   \n",
       "F11         1.600170  3.293035 -1.442078  2.568569  6.222401  2.634517   \n",
       "F12         1.765641  3.477728 -0.066979  2.167204  5.761246  2.071037   \n",
       "\n",
       "Unnamed: 0      ZZZ3  isLumA  \n",
       "F1          2.437227       0  \n",
       "F2          2.876100       1  \n",
       "F3          2.929346       0  \n",
       "F4          2.777674       1  \n",
       "F5          3.957146       0  \n",
       "F6          3.892004       0  \n",
       "F9          3.344201       0  \n",
       "F10         2.201702       1  \n",
       "F11         3.384362       1  \n",
       "F12         3.082507       0  \n",
       "\n",
       "[10 rows x 30866 columns]"
      ]
     },
     "execution_count": 8,
     "metadata": {},
     "output_type": "execute_result"
    }
   ],
   "source": [
    "for index in range(data_target.shape[0]):\n",
    "    if data_target['PAM50'][index] == \"LumA\":\n",
    "        data['isLumA'][index] = 1\n",
    "\n",
    "data.head(10)"
   ]
  },
  {
   "cell_type": "markdown",
   "metadata": {},
   "source": [
    "### Data Visualisation:"
   ]
  },
  {
   "cell_type": "code",
   "execution_count": 6,
   "metadata": {},
   "outputs": [
    {
     "name": "stdout",
     "output_type": "stream",
     "text": [
      "[1529 1540]\n"
     ]
    },
    {
     "data": {
      "image/png": "[encoded data removed]",
      "text/plain": [
       "<Figure size 432x288 with 1 Axes>"
      ]
     },
     "metadata": {
      "needs_background": "light"
     },
     "output_type": "display_data"
    }
   ],
   "source": [
    "t = data['isLumA']\n",
    "values, counts = np.unique(t, return_counts=True)\n",
    "print(counts)\n",
    "plt.bar(x=values,height=counts, color=[\"Red\", \"Blue\"])\n",
    "plt.xticks([0,1])\n",
    "plt.title(\"LumA vs Not LumA\")\n",
    "plt.show()"
   ]
  },
  {
   "cell_type": "markdown",
   "metadata": {},
   "source": [
    "#### We can see that the data is almost split in half."
   ]
  },
  {
   "cell_type": "markdown",
   "metadata": {},
   "source": [
    "## Part 2: Building the Model"
   ]
  },
  {
   "cell_type": "code",
   "execution_count": 7,
   "metadata": {},
   "outputs": [
    {
     "data": {
      "text/plain": [
       "((3069, 30865), (3069,))"
      ]
     },
     "execution_count": 7,
     "metadata": {},
     "output_type": "execute_result"
    }
   ],
   "source": [
    "X = data.drop('isLumA', axis=1).values\n",
    "y = data['isLumA'].values\n",
    "X.shape, y.shape"
   ]
  },
  {
   "cell_type": "markdown",
   "metadata": {},
   "source": [
    "Split the data into 80% train and 20% train:"
   ]
  },
  {
   "cell_type": "code",
   "execution_count": 8,
   "metadata": {},
   "outputs": [
    {
     "name": "stdout",
     "output_type": "stream",
     "text": [
      "X_train shape: (2455, 30865) y_train shape: (2455,)\n",
      "X_val shape: (614, 30865) y_val shape: (614,)\n"
     ]
    }
   ],
   "source": [
    "np.random.seed(42)\n",
    "indices = np.random.permutation(X.shape[0])\n",
    "idx_train, idx_val = indices[:int(0.8*X.shape[0])], indices[int(0.8*X.shape[0]):]\n",
    "X_train, X_val = X[idx_train], X[idx_val]\n",
    "y_train, y_val = y[idx_train], y[idx_val]\n",
    "print(\"X_train shape:\",X_train.shape ,\"y_train shape:\",y_train.shape)\n",
    "print(\"X_val shape:\",X_val.shape ,\"y_val shape:\",y_val.shape)"
   ]
  },
  {
   "cell_type": "markdown",
   "metadata": {},
   "source": [
    "Fitting the Model:\n",
    "\n",
    "Regularization happens as default in order to overcome this, we set C as large as you possible. Also, make sure to use l2 since l1 with that implementation can be painfully slow."
   ]
  },
  {
   "cell_type": "code",
   "execution_count": 9,
   "metadata": {},
   "outputs": [],
   "source": [
    "#lr = LogisticRegression(penalty='none',solver='newton-cg',random_state=0).fit(X_train, y_train)\n",
    "lr = LogisticRegression(C=sys.maxsize,random_state=0).fit(X_train, y_train)"
   ]
  },
  {
   "cell_type": "markdown",
   "metadata": {},
   "source": [
    "Checking the accuracy of the model, using the validation sets"
   ]
  },
  {
   "cell_type": "code",
   "execution_count": 10,
   "metadata": {},
   "outputs": [
    {
     "name": "stdout",
     "output_type": "stream",
     "text": [
      "Accuracy of logistic regression classifier on test set: 0.89\n"
     ]
    }
   ],
   "source": [
    "y_pred = lr.predict(X_val)\n",
    "print('Accuracy of logistic regression classifier on test set: {:.2f}'.format(lr.score(X_val, y_val)))"
   ]
  },
  {
   "cell_type": "markdown",
   "metadata": {},
   "source": [
    "We plot the confusion matrix along with its classification report."
   ]
  },
  {
   "cell_type": "code",
   "execution_count": 11,
   "metadata": {},
   "outputs": [
    {
     "name": "stdout",
     "output_type": "stream",
     "text": [
      "Confusion Matrix:\n",
      "[[264  32]\n",
      " [ 38 280]] \n",
      "\n",
      "Classification Report:\n",
      "              precision    recall  f1-score   support\n",
      "\n",
      "           0       0.87      0.89      0.88       296\n",
      "           1       0.90      0.88      0.89       318\n",
      "\n",
      "   micro avg       0.89      0.89      0.89       614\n",
      "   macro avg       0.89      0.89      0.89       614\n",
      "weighted avg       0.89      0.89      0.89       614\n",
      "\n"
     ]
    }
   ],
   "source": [
    "con_matrix = sklearn.metrics.confusion_matrix(y_val, y_pred)\n",
    "print(\"Confusion Matrix:\")\n",
    "print(con_matrix, \"\\n\")\n",
    "print(\"Classification Report:\")\n",
    "print(classification_report(y_val, y_pred))"
   ]
  },
  {
   "cell_type": "code",
   "execution_count": 12,
   "metadata": {},
   "outputs": [
    {
     "data": {
      "image/png": "[encoded data removed]",
      "text/plain": [
       "<Figure size 432x288 with 1 Axes>"
      ]
     },
     "metadata": {
      "needs_background": "light"
     },
     "output_type": "display_data"
    }
   ],
   "source": [
    "logit_roc_auc = roc_auc_score(y_val, lr.predict(X_val))\n",
    "fpr, tpr, thresholds = roc_curve(y_val, lr.predict_proba(X_val)[:,1])\n",
    "plt.figure()\n",
    "plt.plot(fpr, tpr, label='Logistic Regression (area = %0.2f)' % logit_roc_auc)\n",
    "plt.plot([0, 1], [0, 1],'r--')\n",
    "plt.xlim([0.0, 1.0])\n",
    "plt.ylim([0.0, 1.05])\n",
    "plt.xlabel('False Positive Rate')\n",
    "plt.ylabel('True Positive Rate')\n",
    "plt.title('Receiver operating characteristic')\n",
    "plt.legend(loc=\"lower right\")\n",
    "plt.savefig('Log_ROC')\n",
    "plt.show()"
   ]
  },
  {
   "cell_type": "markdown",
   "metadata": {},
   "source": [
    "## Part 3: Feature Selection - Forward Selection:"
   ]
  },
  {
   "cell_type": "markdown",
   "metadata": {},
   "source": [
    "Running Logistic Regression on the data using all features yields as a maximum accuracy of 0.89. We will now apply Forward selection and try and get a subset of around 100 features whom will yeild roughly the same accuracy threshold."
   ]
  },
  {
   "cell_type": "code",
   "execution_count": 37,
   "metadata": {},
   "outputs": [],
   "source": [
    "def forward_selection_single_threaded(data, X_train, y_train, X_val, y_val, max_features, C_param=1):\n",
    "    # Getting all the features and remembering to remove the isLumA column\n",
    "    features = [i for i in range(data.shape[1]-1)]\n",
    "    selected_features = []\n",
    "    selected_features_by_name = []\n",
    "    highest_accu = 0\n",
    "    best_feature = None\n",
    "    selected_features_dict = []\n",
    "    # Keeping track of time, to moniter how long it takes for each iteration\n",
    "    \n",
    "    for i in range(max_features):\n",
    "        start = time.time()\n",
    "        best_feature = None\n",
    "        highest_accu = 0\n",
    "        \n",
    "        for feature in features:\n",
    "            # decide on which features we are using (selected_features + feature)\n",
    "            features_in_use = selected_features + [feature]\n",
    "            #print(features_in_use, int(feature))\n",
    "            X_train_filt = X_train[:,features_in_use]\n",
    "            X_val_filt = X_val[:,features_in_use]\n",
    "     \n",
    "            # Fit a Logistic regression model\n",
    "            lr = LogisticRegression(C=C_param,random_state=0).fit(X_train_filt, y_train)\n",
    "            # Get the accuracy rate using the validation set\n",
    "            accu_train = lr.score(X_train_filt, y_train)\n",
    "            # Storing the best feature according to the highest accuracy rate.\n",
    "            if accu_train > highest_accu:\n",
    "                highest_accu = accu_train\n",
    "                best_feature = feature\n",
    "       \n",
    "        # Add the best feature to the list\n",
    "        selected_features.append(best_feature)\n",
    "        selected_features_by_name.append(data.columns[best_feature])\n",
    "        # Train the model again with these features\n",
    "        X_train_filt = X_train[:,selected_features]\n",
    "        X_val_filt = X_val[:,selected_features]\n",
    "        lr = LogisticRegression(C=C_param,random_state=0).fit(X_train_filt, y_train)\n",
    "        # Measure Validation accuracy with the features\n",
    "        accu_val = lr.score(X_val_filt, y_val)\n",
    "        # Remove the feature found from the list of features\n",
    "        features.remove(best_feature)\n",
    "        \n",
    "        # Measure time\n",
    "        times = time.time()-start\n",
    "        # Populate dictionary of info and add it to our list and continue\n",
    "        selected_features_dict.append({\"Feature\": selected_features_by_name.copy(),\"Iteration\": i+1, \n",
    "                                       \"Training accuracy\": highest_accu, \"Validation Accuracy\": accu_val, \"Time\":times})\n",
    "    #print(selected_features,selected_features_by_name, highest_accu)\n",
    "    # return a dictionary\n",
    "    return (selected_features_dict, highest_accu);"
   ]
  },
  {
   "cell_type": "markdown",
   "metadata": {},
   "source": [
    "Ranking each row and dividing each row into 5 (Bins)"
   ]
  },
  {
   "cell_type": "code",
   "execution_count": 23,
   "metadata": {},
   "outputs": [],
   "source": [
    "def bin_rank(data, bins=5):\n",
    "    data = pd.DataFrame(data)\n",
    "    rank_data = data.rank(axis=1)\n",
    "    for i, row in rank_data.iterrows():\n",
    "        rank_data.loc[i, :] = pd.cut(row, bins=bins, labels=False)\n",
    "    return rank_data.values"
   ]
  },
  {
   "cell_type": "markdown",
   "metadata": {},
   "source": [
    "Splitting the data into training and testing and running forward selection to get a list of features"
   ]
  },
  {
   "cell_type": "code",
   "execution_count": 37,
   "metadata": {},
   "outputs": [
    {
     "data": {
      "text/plain": [
       "((2455, 30865), (2455,), (614, 30865), (614,))"
      ]
     },
     "execution_count": 37,
     "metadata": {},
     "output_type": "execute_result"
    }
   ],
   "source": [
    "#%%time\n",
    "# Organize the data into np arrays\n",
    "X = data.drop('isLumA', axis=1)\n",
    "# Ranking and binning data\n",
    "X = bin_rank(X.values)\n",
    "y = data['isLumA'].values\n",
    "# Split into training and validation sets\n",
    "np.random.seed(42)\n",
    "indices = np.random.permutation(X.shape[0])\n",
    "idx_train, idx_val = indices[:int(0.8*X.shape[0])], indices[int(0.8*X.shape[0]):]\n",
    "X_train, X_val = X[idx_train], X[idx_val]\n",
    "y_train, y_val = y[idx_train], y[idx_val]\n",
    "X_train.shape,y_train.shape, X_val.shape, y_val.shape"
   ]
  },
  {
   "cell_type": "code",
   "execution_count": null,
   "metadata": {},
   "outputs": [],
   "source": [
    "# Run forward selection\n",
    "max_features = 25\n",
    "cpu_count = multiprocessing.cpu_count()\n",
    "# Run with threadPool and single thread\n",
    "features_found,accu_acheived = forward_selection(data,X_train, y_train, X_val, y_val, max_features, cpu_count)\n",
    "#features_found_single,accu_acheived_single = forward_selection_single_threaded(data,X_train, y_train, X_val, y_val, max_features)"
   ]
  },
  {
   "cell_type": "markdown",
   "metadata": {},
   "source": [
    "Present the information returned by the forward selection:"
   ]
  },
  {
   "cell_type": "code",
   "execution_count": 19,
   "metadata": {},
   "outputs": [
    {
     "name": "stdout",
     "output_type": "stream",
     "text": [
      "{'Feature': ['CEP55'], 'Iteration': 1, 'Training accuracy': 0.8077393075356415, 'Validation Accuracy': 0.8061889250814332, 'Time': 126.73350858688354}\n",
      "{'Feature': ['CEP55', 'MAPT'], 'Iteration': 2, 'Training accuracy': 0.8334012219959267, 'Validation Accuracy': 0.8338762214983714, 'Time': 118.4947235584259}\n",
      "{'Feature': ['CEP55', 'MAPT', 'NGFR'], 'Iteration': 3, 'Training accuracy': 0.8541751527494909, 'Validation Accuracy': 0.8420195439739414, 'Time': 116.31147289276123}\n",
      "{'Feature': ['CEP55', 'MAPT', 'NGFR', 'AF086186'], 'Iteration': 4, 'Training accuracy': 0.8635437881873728, 'Validation Accuracy': 0.8485342019543974, 'Time': 105.13780474662781}\n",
      "{'Feature': ['CEP55', 'MAPT', 'NGFR', 'AF086186', 'TMC4'], 'Iteration': 5, 'Training accuracy': 0.8733197556008147, 'Validation Accuracy': 0.8648208469055375, 'Time': 105.13197994232178}\n",
      "{'Feature': ['CEP55', 'MAPT', 'NGFR', 'AF086186', 'TMC4', 'NTNG2'], 'Iteration': 6, 'Training accuracy': 0.8790224032586558, 'Validation Accuracy': 0.8729641693811075, 'Time': 128.63423323631287}\n",
      "{'Feature': ['CEP55', 'MAPT', 'NGFR', 'AF086186', 'TMC4', 'NTNG2', 'ACVR2B'], 'Iteration': 7, 'Training accuracy': 0.8822810590631365, 'Validation Accuracy': 0.8713355048859935, 'Time': 136.1842041015625}\n",
      "{'Feature': ['CEP55', 'MAPT', 'NGFR', 'AF086186', 'TMC4', 'NTNG2', 'ACVR2B', 'ANTXRLP1'], 'Iteration': 8, 'Training accuracy': 0.8839103869653768, 'Validation Accuracy': 0.8697068403908795, 'Time': 149.54822897911072}\n",
      "{'Feature': ['CEP55', 'MAPT', 'NGFR', 'AF086186', 'TMC4', 'NTNG2', 'ACVR2B', 'ANTXRLP1', 'CGA'], 'Iteration': 9, 'Training accuracy': 0.8859470468431772, 'Validation Accuracy': 0.8713355048859935, 'Time': 157.32047200202942}\n",
      "{'Feature': ['CEP55', 'MAPT', 'NGFR', 'AF086186', 'TMC4', 'NTNG2', 'ACVR2B', 'ANTXRLP1', 'CGA', 'AB231703'], 'Iteration': 10, 'Training accuracy': 0.8863543788187372, 'Validation Accuracy': 0.8729641693811075, 'Time': 172.8598153591156}\n",
      "{'Feature': ['CEP55', 'MAPT', 'NGFR', 'AF086186', 'TMC4', 'NTNG2', 'ACVR2B', 'ANTXRLP1', 'CGA', 'AB231703', 'DL492217'], 'Iteration': 11, 'Training accuracy': 0.8867617107942973, 'Validation Accuracy': 0.8680781758957655, 'Time': 198.970032453537}\n",
      "{'Feature': ['CEP55', 'MAPT', 'NGFR', 'AF086186', 'TMC4', 'NTNG2', 'ACVR2B', 'ANTXRLP1', 'CGA', 'AB231703', 'DL492217', 'DJ439576'], 'Iteration': 12, 'Training accuracy': 0.8883910386965377, 'Validation Accuracy': 0.8648208469055375, 'Time': 232.30648183822632}\n",
      "{'Feature': ['CEP55', 'MAPT', 'NGFR', 'AF086186', 'TMC4', 'NTNG2', 'ACVR2B', 'ANTXRLP1', 'CGA', 'AB231703', 'DL492217', 'DJ439576', 'DQ577550'], 'Iteration': 13, 'Training accuracy': 0.8892057026476579, 'Validation Accuracy': 0.8664495114006515, 'Time': 245.85749411582947}\n",
      "{'Feature': ['CEP55', 'MAPT', 'NGFR', 'AF086186', 'TMC4', 'NTNG2', 'ACVR2B', 'ANTXRLP1', 'CGA', 'AB231703', 'DL492217', 'DJ439576', 'DQ577550', 'DQ570895'], 'Iteration': 14, 'Training accuracy': 0.889613034623218, 'Validation Accuracy': 0.8648208469055375, 'Time': 290.84976291656494}\n",
      "{'Feature': ['CEP55', 'MAPT', 'NGFR', 'AF086186', 'TMC4', 'NTNG2', 'ACVR2B', 'ANTXRLP1', 'CGA', 'AB231703', 'DL492217', 'DJ439576', 'DQ577550', 'DQ570895', 'DQ573348'], 'Iteration': 15, 'Training accuracy': 0.890020366598778, 'Validation Accuracy': 0.8648208469055375, 'Time': 304.87603092193604}\n",
      "{'Feature': ['CEP55', 'MAPT', 'NGFR', 'AF086186', 'TMC4', 'NTNG2', 'ACVR2B', 'ANTXRLP1', 'CGA', 'AB231703', 'DL492217', 'DJ439576', 'DQ577550', 'DQ570895', 'DQ573348', 'DQ579247'], 'Iteration': 16, 'Training accuracy': 0.8904276985743381, 'Validation Accuracy': 0.8664495114006515, 'Time': 334.79783964157104}\n",
      "{'Feature': ['CEP55', 'MAPT', 'NGFR', 'AF086186', 'TMC4', 'NTNG2', 'ACVR2B', 'ANTXRLP1', 'CGA', 'AB231703', 'DL492217', 'DJ439576', 'DQ577550', 'DQ570895', 'DQ573348', 'DQ579247', 'DQ576900'], 'Iteration': 17, 'Training accuracy': 0.8908350305498982, 'Validation Accuracy': 0.8631921824104235, 'Time': 364.13444995880127}\n",
      "{'Feature': ['CEP55', 'MAPT', 'NGFR', 'AF086186', 'TMC4', 'NTNG2', 'ACVR2B', 'ANTXRLP1', 'CGA', 'AB231703', 'DL492217', 'DJ439576', 'DQ577550', 'DQ570895', 'DQ573348', 'DQ579247', 'DQ576900', 'MIR4263'], 'Iteration': 18, 'Training accuracy': 0.8916496945010183, 'Validation Accuracy': 0.8648208469055375, 'Time': 393.13761830329895}\n",
      "{'Feature': ['CEP55', 'MAPT', 'NGFR', 'AF086186', 'TMC4', 'NTNG2', 'ACVR2B', 'ANTXRLP1', 'CGA', 'AB231703', 'DL492217', 'DJ439576', 'DQ577550', 'DQ570895', 'DQ573348', 'DQ579247', 'DQ576900', 'MIR4263', 'DQ572620'], 'Iteration': 19, 'Training accuracy': 0.8920570264765784, 'Validation Accuracy': 0.8631921824104235, 'Time': 480.54238295555115}\n",
      "{'Feature': ['CEP55', 'MAPT', 'NGFR', 'AF086186', 'TMC4', 'NTNG2', 'ACVR2B', 'ANTXRLP1', 'CGA', 'AB231703', 'DL492217', 'DJ439576', 'DQ577550', 'DQ570895', 'DQ573348', 'DQ579247', 'DQ576900', 'MIR4263', 'DQ572620', 'DQ577785'], 'Iteration': 20, 'Training accuracy': 0.8924643584521385, 'Validation Accuracy': 0.8631921824104235, 'Time': 479.2219636440277}\n",
      "{'Feature': ['CEP55', 'MAPT', 'NGFR', 'AF086186', 'TMC4', 'NTNG2', 'ACVR2B', 'ANTXRLP1', 'CGA', 'AB231703', 'DL492217', 'DJ439576', 'DQ577550', 'DQ570895', 'DQ573348', 'DQ579247', 'DQ576900', 'MIR4263', 'DQ572620', 'DQ577785', 'AF387615'], 'Iteration': 21, 'Training accuracy': 0.8932790224032586, 'Validation Accuracy': 0.8599348534201955, 'Time': 497.3759591579437}\n",
      "{'Feature': ['CEP55', 'MAPT', 'NGFR', 'AF086186', 'TMC4', 'NTNG2', 'ACVR2B', 'ANTXRLP1', 'CGA', 'AB231703', 'DL492217', 'DJ439576', 'DQ577550', 'DQ570895', 'DQ573348', 'DQ579247', 'DQ576900', 'MIR4263', 'DQ572620', 'DQ577785', 'AF387615', 'DQ577357'], 'Iteration': 22, 'Training accuracy': 0.8940936863543788, 'Validation Accuracy': 0.8631921824104235, 'Time': 532.9967639446259}\n",
      "{'Feature': ['CEP55', 'MAPT', 'NGFR', 'AF086186', 'TMC4', 'NTNG2', 'ACVR2B', 'ANTXRLP1', 'CGA', 'AB231703', 'DL492217', 'DJ439576', 'DQ577550', 'DQ570895', 'DQ573348', 'DQ579247', 'DQ576900', 'MIR4263', 'DQ572620', 'DQ577785', 'AF387615', 'DQ577357', 'DQ587653'], 'Iteration': 23, 'Training accuracy': 0.894908350305499, 'Validation Accuracy': 0.8631921824104235, 'Time': 546.4012355804443}\n",
      "{'Feature': ['CEP55', 'MAPT', 'NGFR', 'AF086186', 'TMC4', 'NTNG2', 'ACVR2B', 'ANTXRLP1', 'CGA', 'AB231703', 'DL492217', 'DJ439576', 'DQ577550', 'DQ570895', 'DQ573348', 'DQ579247', 'DQ576900', 'MIR4263', 'DQ572620', 'DQ577785', 'AF387615', 'DQ577357', 'DQ587653', 'DDX3Y'], 'Iteration': 24, 'Training accuracy': 0.8953156822810591, 'Validation Accuracy': 0.8599348534201955, 'Time': 584.9625759124756}\n",
      "{'Feature': ['CEP55', 'MAPT', 'NGFR', 'AF086186', 'TMC4', 'NTNG2', 'ACVR2B', 'ANTXRLP1', 'CGA', 'AB231703', 'DL492217', 'DJ439576', 'DQ577550', 'DQ570895', 'DQ573348', 'DQ579247', 'DQ576900', 'MIR4263', 'DQ572620', 'DQ577785', 'AF387615', 'DQ577357', 'DQ587653', 'DDX3Y', 'ASCC3'], 'Iteration': 25, 'Training accuracy': 0.8961303462321792, 'Validation Accuracy': 0.8599348534201955, 'Time': 608.2515952587128}\n"
     ]
    }
   ],
   "source": [
    "for f in features_found:\n",
    "    print(f)"
   ]
  },
  {
   "cell_type": "code",
   "execution_count": 20,
   "metadata": {
    "scrolled": true
   },
   "outputs": [
    {
     "name": "stdout",
     "output_type": "stream",
     "text": [
      "Iteration 1: ['CEP55']\n",
      "Iteration 2: ['CEP55', 'MAPT']\n",
      "Iteration 3: ['CEP55', 'MAPT', 'NGFR']\n",
      "Iteration 4: ['CEP55', 'MAPT', 'NGFR', 'AF086186']\n",
      "Iteration 5: ['CEP55', 'MAPT', 'NGFR', 'AF086186', 'TMC4']\n",
      "Iteration 6: ['CEP55', 'MAPT', 'NGFR', 'AF086186', 'TMC4', 'NTNG2']\n",
      "Iteration 7: ['CEP55', 'MAPT', 'NGFR', 'AF086186', 'TMC4', 'NTNG2', 'ACVR2B']\n",
      "Iteration 8: ['CEP55', 'MAPT', 'NGFR', 'AF086186', 'TMC4', 'NTNG2', 'ACVR2B', 'ANTXRLP1']\n",
      "Iteration 9: ['CEP55', 'MAPT', 'NGFR', 'AF086186', 'TMC4', 'NTNG2', 'ACVR2B', 'ANTXRLP1', 'CGA']\n",
      "Iteration 10: ['CEP55', 'MAPT', 'NGFR', 'AF086186', 'TMC4', 'NTNG2', 'ACVR2B', 'ANTXRLP1', 'CGA', 'AB231703']\n",
      "Iteration 11: ['CEP55', 'MAPT', 'NGFR', 'AF086186', 'TMC4', 'NTNG2', 'ACVR2B', 'ANTXRLP1', 'CGA', 'AB231703', 'DL492217']\n",
      "Iteration 12: ['CEP55', 'MAPT', 'NGFR', 'AF086186', 'TMC4', 'NTNG2', 'ACVR2B', 'ANTXRLP1', 'CGA', 'AB231703', 'DL492217', 'DJ439576']\n",
      "Iteration 13: ['CEP55', 'MAPT', 'NGFR', 'AF086186', 'TMC4', 'NTNG2', 'ACVR2B', 'ANTXRLP1', 'CGA', 'AB231703', 'DL492217', 'DJ439576', 'DQ577550']\n",
      "Iteration 14: ['CEP55', 'MAPT', 'NGFR', 'AF086186', 'TMC4', 'NTNG2', 'ACVR2B', 'ANTXRLP1', 'CGA', 'AB231703', 'DL492217', 'DJ439576', 'DQ577550', 'DQ570895']\n",
      "Iteration 15: ['CEP55', 'MAPT', 'NGFR', 'AF086186', 'TMC4', 'NTNG2', 'ACVR2B', 'ANTXRLP1', 'CGA', 'AB231703', 'DL492217', 'DJ439576', 'DQ577550', 'DQ570895', 'DQ573348']\n",
      "Iteration 16: ['CEP55', 'MAPT', 'NGFR', 'AF086186', 'TMC4', 'NTNG2', 'ACVR2B', 'ANTXRLP1', 'CGA', 'AB231703', 'DL492217', 'DJ439576', 'DQ577550', 'DQ570895', 'DQ573348', 'DQ579247']\n",
      "Iteration 17: ['CEP55', 'MAPT', 'NGFR', 'AF086186', 'TMC4', 'NTNG2', 'ACVR2B', 'ANTXRLP1', 'CGA', 'AB231703', 'DL492217', 'DJ439576', 'DQ577550', 'DQ570895', 'DQ573348', 'DQ579247', 'DQ576900']\n",
      "Iteration 18: ['CEP55', 'MAPT', 'NGFR', 'AF086186', 'TMC4', 'NTNG2', 'ACVR2B', 'ANTXRLP1', 'CGA', 'AB231703', 'DL492217', 'DJ439576', 'DQ577550', 'DQ570895', 'DQ573348', 'DQ579247', 'DQ576900', 'MIR4263']\n",
      "Iteration 19: ['CEP55', 'MAPT', 'NGFR', 'AF086186', 'TMC4', 'NTNG2', 'ACVR2B', 'ANTXRLP1', 'CGA', 'AB231703', 'DL492217', 'DJ439576', 'DQ577550', 'DQ570895', 'DQ573348', 'DQ579247', 'DQ576900', 'MIR4263', 'DQ572620']\n",
      "Iteration 20: ['CEP55', 'MAPT', 'NGFR', 'AF086186', 'TMC4', 'NTNG2', 'ACVR2B', 'ANTXRLP1', 'CGA', 'AB231703', 'DL492217', 'DJ439576', 'DQ577550', 'DQ570895', 'DQ573348', 'DQ579247', 'DQ576900', 'MIR4263', 'DQ572620', 'DQ577785']\n",
      "Iteration 21: ['CEP55', 'MAPT', 'NGFR', 'AF086186', 'TMC4', 'NTNG2', 'ACVR2B', 'ANTXRLP1', 'CGA', 'AB231703', 'DL492217', 'DJ439576', 'DQ577550', 'DQ570895', 'DQ573348', 'DQ579247', 'DQ576900', 'MIR4263', 'DQ572620', 'DQ577785', 'AF387615']\n",
      "Iteration 22: ['CEP55', 'MAPT', 'NGFR', 'AF086186', 'TMC4', 'NTNG2', 'ACVR2B', 'ANTXRLP1', 'CGA', 'AB231703', 'DL492217', 'DJ439576', 'DQ577550', 'DQ570895', 'DQ573348', 'DQ579247', 'DQ576900', 'MIR4263', 'DQ572620', 'DQ577785', 'AF387615', 'DQ577357']\n",
      "Iteration 23: ['CEP55', 'MAPT', 'NGFR', 'AF086186', 'TMC4', 'NTNG2', 'ACVR2B', 'ANTXRLP1', 'CGA', 'AB231703', 'DL492217', 'DJ439576', 'DQ577550', 'DQ570895', 'DQ573348', 'DQ579247', 'DQ576900', 'MIR4263', 'DQ572620', 'DQ577785', 'AF387615', 'DQ577357', 'DQ587653']\n",
      "Iteration 24: ['CEP55', 'MAPT', 'NGFR', 'AF086186', 'TMC4', 'NTNG2', 'ACVR2B', 'ANTXRLP1', 'CGA', 'AB231703', 'DL492217', 'DJ439576', 'DQ577550', 'DQ570895', 'DQ573348', 'DQ579247', 'DQ576900', 'MIR4263', 'DQ572620', 'DQ577785', 'AF387615', 'DQ577357', 'DQ587653', 'DDX3Y']\n",
      "Iteration 25: ['CEP55', 'MAPT', 'NGFR', 'AF086186', 'TMC4', 'NTNG2', 'ACVR2B', 'ANTXRLP1', 'CGA', 'AB231703', 'DL492217', 'DJ439576', 'DQ577550', 'DQ570895', 'DQ573348', 'DQ579247', 'DQ576900', 'MIR4263', 'DQ572620', 'DQ577785', 'AF387615', 'DQ577357', 'DQ587653', 'DDX3Y', 'ASCC3']\n"
     ]
    }
   ],
   "source": [
    "for itr in features_found:\n",
    "    print(\"Iteration \"+str(itr[\"Iteration\"])+\": \"+str(itr[\"Feature\"]))"
   ]
  },
  {
   "cell_type": "code",
   "execution_count": 21,
   "metadata": {},
   "outputs": [],
   "source": [
    "iterations = [i+1 for i in range(max_features)]\n",
    "accu_train = [itr[\"Training accuracy\"] for itr in features_found]\n",
    "accu_val = [itr[\"Validation Accuracy\"] for itr in features_found]\n",
    "time = [itr[\"Time\"] for itr in features_found]\n",
    "#time_single = [itr[\"Time\"] for itr in features_found_single]\n"
   ]
  },
  {
   "cell_type": "code",
   "execution_count": 22,
   "metadata": {
    "scrolled": true
   },
   "outputs": [
    {
     "data": {
      "image/png": "[encoded data removed]",
      "text/plain": [
       "<Figure size 1440x504 with 2 Axes>"
      ]
     },
     "metadata": {
      "needs_background": "light"
     },
     "output_type": "display_data"
    }
   ],
   "source": [
    "fig, axes = plt.subplots(1, 2,figsize=(20, 7), sharey=False)\n",
    "\n",
    "ax = axes[0]\n",
    "# Plot both accuracies \n",
    "ax.plot(iterations, accu_train, label=\"Training Accuracy\", color=\"Red\")\n",
    "ax.plot(iterations, accu_val, label=\"Validation Accuracy\", color=\"Blue\")\n",
    "# Ensure we have the correct scale for the iterations axis\n",
    "ax.set_xlim([1, max_features])\n",
    "ax.set_xticks(np.arange(1, max_features+1, 1), minor=False)\n",
    "\n",
    "ax.set_xlabel('Iterations')\n",
    "ax.set_ylabel('Accuracy')\n",
    "ax.set_title('Accuracy as a function of Iterations')\n",
    "ax.legend()\n",
    "\n",
    "ax = axes[1]\n",
    "# Plot the time\n",
    "ax.plot(iterations, time, label=\"Time\", color=\"Green\")\n",
    "#ax.plot(iterations, time_single, label=\"Time-Single\", color=\"Black\")\n",
    "# Ensure we have the correct scale for the iterations axis\n",
    "ax.set_xlim([1, max_features])\n",
    "ax.set_xticks(np.arange(1, max_features+1, 1), minor=False)\n",
    "\n",
    "ax.set_xlabel('Iterations')\n",
    "ax.set_ylabel('Time in Seconds')\n",
    "ax.set_title('Time as a function of Iterations')\n",
    "ax.legend()\n",
    "\n",
    "plt.show()"
   ]
  },
  {
   "cell_type": "markdown",
   "metadata": {},
   "source": [
    "## Part 4: Feature Selection - mlxtend SFS:"
   ]
  },
  {
   "cell_type": "code",
   "execution_count": 9,
   "metadata": {},
   "outputs": [
    {
     "data": {
      "text/plain": [
       "((2455, 30865), (2455,), (614, 30865), (614,))"
      ]
     },
     "execution_count": 9,
     "metadata": {},
     "output_type": "execute_result"
    }
   ],
   "source": [
    "# Organize the data into np arrays\n",
    "X = data.drop('isLumA', axis=1)\n",
    "# Ranking and binning data\n",
    "X = bin_rank(X.values)\n",
    "y = data['isLumA'].values\n",
    "# Split into training and validation sets\n",
    "np.random.seed(42)\n",
    "indices = np.random.permutation(X.shape[0])\n",
    "idx_train, idx_val = indices[:int(0.8*X.shape[0])], indices[int(0.8*X.shape[0]):]\n",
    "X_train, X_val = X[idx_train], X[idx_val]\n",
    "y_train, y_val = y[idx_train], y[idx_val]\n",
    "X_train.shape,y_train.shape, X_val.shape, y_val.shape"
   ]
  },
  {
   "cell_type": "code",
   "execution_count": 10,
   "metadata": {},
   "outputs": [
    {
     "name": "stderr",
     "output_type": "stream",
     "text": [
      "[Parallel(n_jobs=4)]: Using backend LokyBackend with 4 concurrent workers.\n",
      "[Parallel(n_jobs=4)]: Done  33 tasks      | elapsed:    4.0s\n",
      "[Parallel(n_jobs=4)]: Done 3028 tasks      | elapsed:    9.4s\n",
      "[Parallel(n_jobs=4)]: Done 9524 tasks      | elapsed:   20.1s\n",
      "[Parallel(n_jobs=4)]: Done 18580 tasks      | elapsed:   34.3s\n",
      "[Parallel(n_jobs=4)]: Done 30260 tasks      | elapsed:   52.9s\n",
      "[Parallel(n_jobs=4)]: Done 30865 out of 30865 | elapsed:   53.9s finished\n",
      "\n",
      "[2020-11-19 09:37:40] Features: 1/1 -- score: 0.8077393075356415"
     ]
    }
   ],
   "source": [
    "from mlxtend.feature_selection import SequentialFeatureSelector as SFS\n",
    "\n",
    "lr = LogisticRegression(C=1,random_state=0)\n",
    "sfs1 = SFS(lr, \n",
    "           k_features=1, \n",
    "           forward=True, \n",
    "           floating=False, \n",
    "           verbose=2,\n",
    "           scoring='accuracy',\n",
    "           n_jobs=4,\n",
    "           cv=0)\n",
    "\n",
    "sfs1 = sfs1.fit(X_train, y_train)"
   ]
  },
  {
   "cell_type": "code",
   "execution_count": 11,
   "metadata": {},
   "outputs": [
    {
     "data": {
      "text/plain": [
       "{1: {'feature_idx': (6035,),\n",
       "  'cv_scores': array([0.80773931]),\n",
       "  'avg_score': 0.8077393075356415,\n",
       "  'feature_names': ('6035',)}}"
      ]
     },
     "execution_count": 11,
     "metadata": {},
     "output_type": "execute_result"
    }
   ],
   "source": [
    "sfs1.subsets_"
   ]
  },
  {
   "cell_type": "markdown",
   "metadata": {},
   "source": [
    "## Part 5: Using Feature Importance for start of feature selection:"
   ]
  },
  {
   "cell_type": "markdown",
   "metadata": {},
   "source": [
    "### Using Ranked Data:"
   ]
  },
  {
   "cell_type": "code",
   "execution_count": 9,
   "metadata": {},
   "outputs": [],
   "source": [
    "def splitData(data, isRanked):\n",
    "    if isRanked:\n",
    "        X = data.drop('isLumA', axis=1)\n",
    "        # Ranking and binning data\n",
    "        X = bin_rank(X.values)\n",
    "    else:\n",
    "        X = data.drop('isLumA', axis=1).values\n",
    "    y = data['isLumA'].values\n",
    "    # Split into training and validation sets\n",
    "    np.random.seed(42)\n",
    "    indices = np.random.permutation(X.shape[0])\n",
    "    idx_train, idx_val = indices[:int(0.8*X.shape[0])], indices[int(0.8*X.shape[0]):]\n",
    "    X_train, X_val = X[idx_train], X[idx_val]\n",
    "    y_train, y_val = y[idx_train], y[idx_val]\n",
    "    return X_train, X_val, y_train, y_val"
   ]
  },
  {
   "cell_type": "markdown",
   "metadata": {},
   "source": [
    "#### Decision Trees:\n"
   ]
  },
  {
   "cell_type": "code",
   "execution_count": 10,
   "metadata": {},
   "outputs": [],
   "source": [
    "from sklearn import tree\n",
    "X_train, X_val, y_train, y_val = splitData(data, True)\n",
    "dt = tree.DecisionTreeClassifier().fit(X_train, y_train)"
   ]
  },
  {
   "cell_type": "code",
   "execution_count": 11,
   "metadata": {},
   "outputs": [
    {
     "name": "stdout",
     "output_type": "stream",
     "text": [
      "Accuracy of Decision tree classifier on test set: 0.86\n"
     ]
    }
   ],
   "source": [
    "y_pred = dt.predict(X_val)\n",
    "print('Accuracy of Decision tree classifier on test set: {:.2f}'.format(dt.score(X_val, y_val)))"
   ]
  },
  {
   "cell_type": "code",
   "execution_count": 12,
   "metadata": {},
   "outputs": [
    {
     "name": "stdout",
     "output_type": "stream",
     "text": [
      "['TBRG4', 'FMO2', 'BAMBI', 'ANKRD30A', 'ESR1', 'AF086186', 'CDCA5', 'DTNB', 'OR7E91P', 'MAK', 'CENPA', 'PREX1', 'RAB6C-AS1', 'KLK10', 'CCNA2', 'COL17A1', 'KRT14', 'GU228584', 'CEP55', 'MAPT']\n"
     ]
    }
   ],
   "source": [
    "# Get an array of importance for every feature\n",
    "dt_feature_importance = dt.feature_importances_\n",
    "# Get the indicies of the top 20 most important features\n",
    "dt_idx_feature_importance = np.argpartition(dt_feature_importance, -20)[-20:]\n",
    "# Get the actual features\n",
    "dt_rank_top_features = [data.columns[i] for i in dt_idx_feature_importance]\n",
    "print(dt_rank_top_features)"
   ]
  },
  {
   "cell_type": "markdown",
   "metadata": {},
   "source": [
    "Now, we will use this array as our base array and run the feature selection algorithm"
   ]
  },
  {
   "cell_type": "code",
   "execution_count": null,
   "metadata": {},
   "outputs": [],
   "source": [
    "X_train, X_val, y_train, y_val = splitData(data, False)\n",
    "max_features = 1\n",
    "cpu_count = multiprocessing.cpu_count()\n",
    "# Run with threadPool and single thread\n",
    "features_found,accu_acheived = forward_selection(data,X_train, y_train, X_val, y_val, max_features, \n",
    "                                                 cpu_count, dt_idx_feature_importance, dt_rank_top_features)"
   ]
  },
  {
   "cell_type": "code",
   "execution_count": null,
   "metadata": {},
   "outputs": [],
   "source": [
    "for f in features_found:\n",
    "    print(f)"
   ]
  },
  {
   "cell_type": "markdown",
   "metadata": {},
   "source": [
    "#### Random Forest:\n"
   ]
  },
  {
   "cell_type": "code",
   "execution_count": 25,
   "metadata": {},
   "outputs": [],
   "source": [
    "from sklearn.ensemble import RandomForestClassifier\n",
    "X_train, X_val, y_train, y_val = splitData(data, True)\n",
    "rf = RandomForestClassifier().fit(X_train, y_train)"
   ]
  },
  {
   "cell_type": "code",
   "execution_count": 26,
   "metadata": {},
   "outputs": [
    {
     "name": "stdout",
     "output_type": "stream",
     "text": [
      "Accuracy of Random Forest classifier on test set: 0.88\n"
     ]
    }
   ],
   "source": [
    "y_pred = rf.predict(X_val)\n",
    "print('Accuracy of Random Forest classifier on test set: {:.2f}'.format(rf.score(X_val, y_val)))"
   ]
  },
  {
   "cell_type": "code",
   "execution_count": 29,
   "metadata": {},
   "outputs": [
    {
     "name": "stdout",
     "output_type": "stream",
     "text": [
      "['RHOJ', 'MCM6', 'SPC24', 'RAB6C', 'CMC2', 'NCAPD2', 'CENPF', 'MGC4836', 'PTTG1', 'KIF2C', 'HEXIM1', 'UBXN10', 'SLC24A2', 'C4A', 'CX3CR1', 'CDCA8', 'KIF14', 'KIF11', 'FIGNL1', 'XRCC2']\n"
     ]
    }
   ],
   "source": [
    "# Get an array of importance for every feature\n",
    "rf_feature_importance = rf.feature_importances_\n",
    "# Get the indicies of the top 20 most important features\n",
    "rf_idx_feature_importance = np.argpartition(rf_feature_importance, -20)[-20:]\n",
    "# Get the actual features\n",
    "rf_rank_top_features = [data.columns[i] for i in rf_idx_feature_importance]\n",
    "print(rf_rank_top_features)"
   ]
  },
  {
   "cell_type": "markdown",
   "metadata": {},
   "source": [
    "Now, we will use this array as our base array and run the feature selection algorithm"
   ]
  },
  {
   "cell_type": "code",
   "execution_count": null,
   "metadata": {},
   "outputs": [],
   "source": [
    "X_train, X_val, y_train, y_val = splitData(data, False)\n",
    "max_features = 1\n",
    "cpu_count = multiprocessing.cpu_count()\n",
    "# Run with threadPool and single thread\n",
    "features_found,accu_acheived = forward_selection(data,X_train, y_train, X_val, y_val, max_features, \n",
    "                                                 cpu_count, rf_idx_feature_importance, rf_rank_top_features)"
   ]
  },
  {
   "cell_type": "code",
   "execution_count": null,
   "metadata": {},
   "outputs": [],
   "source": [
    "for f in features_found:\n",
    "    print(f)"
   ]
  },
  {
   "cell_type": "markdown",
   "metadata": {},
   "source": [
    "#### Logistic Regression:"
   ]
  },
  {
   "cell_type": "code",
   "execution_count": 30,
   "metadata": {},
   "outputs": [],
   "source": [
    "X_train, X_val, y_train, y_val = splitData(data, True)\n",
    "lr = LogisticRegression().fit(X_train, y_train)"
   ]
  },
  {
   "cell_type": "code",
   "execution_count": 31,
   "metadata": {},
   "outputs": [
    {
     "name": "stdout",
     "output_type": "stream",
     "text": [
      "Accuracy of Random Forest classifier on test set: 0.90\n"
     ]
    }
   ],
   "source": [
    "y_pred = lr.predict(X_val)\n",
    "print('Accuracy of Random Forest classifier on test set: {:.2f}'.format(lr.score(X_val, y_val)))"
   ]
  },
  {
   "cell_type": "code",
   "execution_count": 33,
   "metadata": {},
   "outputs": [
    {
     "name": "stdout",
     "output_type": "stream",
     "text": [
      "['DQ571149', 'MAPT-AS1', 'NAP1L2', 'L13714', 'MIR6752', 'MIR1204', 'SNAR-G2', 'MIR429', 'ACTG2', 'DL490813', 'KRT14', 'SNORD117', 'MIR1273D', 'KRT17', 'MIR6784', 'PGR', 'MYL7', 'MAPT', 'KRT5', 'SFRP1']\n"
     ]
    }
   ],
   "source": [
    "# Get an array of importance for every feature\n",
    "lr_feature_importance = lr.coef_[0]\n",
    "# Get the indicies of the top 20 most important features\n",
    "lr_idx_feature_importance = np.argpartition(lr_feature_importance, -20)[-20:]\n",
    "# Get the actual features\n",
    "lr_rank_top_features = [data.columns[i] for i in lr_idx_feature_importance]\n",
    "print(lr_rank_top_features)"
   ]
  },
  {
   "cell_type": "code",
   "execution_count": null,
   "metadata": {},
   "outputs": [],
   "source": [
    "Now, we will use this array as our base array and run the feature selection algorithm\n",
    "\n",
    "X_train, X_val, y_train, y_val = splitData(data, False)\n",
    "max_features = 1\n",
    "cpu_count = multiprocessing.cpu_count()\n",
    "# Run with threadPool and single thread\n",
    "features_found,accu_acheived = forward_selection(data,X_train, y_train, X_val, y_val, max_features, \n",
    "                                                 cpu_count, lr_idx_feature_importance, lr_rank_top_features)\n",
    "\n",
    "for f in features_found:\n",
    "    print(f)"
   ]
  }
 ],
 "metadata": {
  "kernelspec": {
   "display_name": "Python 3",
   "language": "python",
   "name": "python3"
  },
  "language_info": {
   "codemirror_mode": {
    "name": "ipython",
    "version": 3
   },
   "file_extension": ".py",
   "mimetype": "text/x-python",
   "name": "python",
   "nbconvert_exporter": "python",
   "pygments_lexer": "ipython3",
   "version": "3.7.3"
  }
 },
 "nbformat": 4,
 "nbformat_minor": 2
}
